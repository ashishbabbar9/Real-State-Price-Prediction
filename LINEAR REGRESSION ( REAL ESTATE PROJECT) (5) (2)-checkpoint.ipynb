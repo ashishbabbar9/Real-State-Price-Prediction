{
 "cells": [
  {
   "cell_type": "markdown",
   "metadata": {},
   "source": [
    "# REAL E-STATE PRICE PREDICTION PROJECT"
   ]
  },
  {
   "cell_type": "code",
   "execution_count": 156,
   "metadata": {},
   "outputs": [],
   "source": [
    "import os \n",
    "import pandas as pd\n",
    "import numpy as np\n",
    "import matplotlib.pyplot as plt\n",
    "import seaborn as sns\n",
    "import warnings\n",
    "warnings.filterwarnings(\"ignore\")"
   ]
  },
  {
   "cell_type": "markdown",
   "metadata": {},
   "source": [
    "### to check jupyter directory"
   ]
  },
  {
   "cell_type": "code",
   "execution_count": 96,
   "metadata": {},
   "outputs": [
    {
     "data": {
      "text/plain": [
       "'C:\\\\Users\\\\eshan\\\\Dropbox\\\\My PC (LAPTOP-OFMOBQDC)\\\\Downloads'"
      ]
     },
     "execution_count": 96,
     "metadata": {},
     "output_type": "execute_result"
    }
   ],
   "source": [
    "os.getcwd()"
   ]
  },
  {
   "cell_type": "markdown",
   "metadata": {},
   "source": [
    "### to change the jupyter directory"
   ]
  },
  {
   "cell_type": "code",
   "execution_count": 8,
   "metadata": {},
   "outputs": [],
   "source": [
    "os.chdir(r\"C:\\Users\\eshan\\OneDrive\\Desktop\")"
   ]
  },
  {
   "cell_type": "markdown",
   "metadata": {},
   "source": [
    "### to see all the files present in aforementioned directory"
   ]
  },
  {
   "cell_type": "code",
   "execution_count": null,
   "metadata": {},
   "outputs": [],
   "source": [
    "os.listdir()"
   ]
  },
  {
   "cell_type": "markdown",
   "metadata": {},
   "source": [
    "### reading dataset"
   ]
  },
  {
   "cell_type": "code",
   "execution_count": 157,
   "metadata": {},
   "outputs": [],
   "source": [
    "df=pd.read_csv(\"Bengaluru_House_Data.csv\")"
   ]
  },
  {
   "cell_type": "markdown",
   "metadata": {},
   "source": [
    "### use info to understand the data type"
   ]
  },
  {
   "cell_type": "code",
   "execution_count": 158,
   "metadata": {},
   "outputs": [
    {
     "name": "stdout",
     "output_type": "stream",
     "text": [
      "<class 'pandas.core.frame.DataFrame'>\n",
      "RangeIndex: 13320 entries, 0 to 13319\n",
      "Data columns (total 9 columns):\n",
      " #   Column        Non-Null Count  Dtype  \n",
      "---  ------        --------------  -----  \n",
      " 0   area_type     13320 non-null  object \n",
      " 1   availability  13320 non-null  object \n",
      " 2   location      13319 non-null  object \n",
      " 3   size          13304 non-null  object \n",
      " 4   society       7818 non-null   object \n",
      " 5   total_sqft    13320 non-null  object \n",
      " 6   bath          13247 non-null  float64\n",
      " 7   balcony       12711 non-null  float64\n",
      " 8   price         13320 non-null  float64\n",
      "dtypes: float64(3), object(6)\n",
      "memory usage: 936.7+ KB\n"
     ]
    }
   ],
   "source": [
    "df.info()"
   ]
  },
  {
   "cell_type": "code",
   "execution_count": 159,
   "metadata": {},
   "outputs": [
    {
     "data": {
      "text/html": [
       "<div>\n",
       "<style scoped>\n",
       "    .dataframe tbody tr th:only-of-type {\n",
       "        vertical-align: middle;\n",
       "    }\n",
       "\n",
       "    .dataframe tbody tr th {\n",
       "        vertical-align: top;\n",
       "    }\n",
       "\n",
       "    .dataframe thead th {\n",
       "        text-align: right;\n",
       "    }\n",
       "</style>\n",
       "<table border=\"1\" class=\"dataframe\">\n",
       "  <thead>\n",
       "    <tr style=\"text-align: right;\">\n",
       "      <th></th>\n",
       "      <th>area_type</th>\n",
       "      <th>availability</th>\n",
       "      <th>location</th>\n",
       "      <th>size</th>\n",
       "      <th>society</th>\n",
       "      <th>total_sqft</th>\n",
       "      <th>bath</th>\n",
       "      <th>balcony</th>\n",
       "      <th>price</th>\n",
       "    </tr>\n",
       "  </thead>\n",
       "  <tbody>\n",
       "    <tr>\n",
       "      <th>0</th>\n",
       "      <td>Super built-up  Area</td>\n",
       "      <td>19-Dec</td>\n",
       "      <td>Electronic City Phase II</td>\n",
       "      <td>2 BHK</td>\n",
       "      <td>Coomee</td>\n",
       "      <td>1056</td>\n",
       "      <td>2.0</td>\n",
       "      <td>1.0</td>\n",
       "      <td>39.07</td>\n",
       "    </tr>\n",
       "    <tr>\n",
       "      <th>1</th>\n",
       "      <td>Plot  Area</td>\n",
       "      <td>Ready To Move</td>\n",
       "      <td>Chikka Tirupathi</td>\n",
       "      <td>4 Bedroom</td>\n",
       "      <td>Theanmp</td>\n",
       "      <td>2600</td>\n",
       "      <td>5.0</td>\n",
       "      <td>3.0</td>\n",
       "      <td>120.00</td>\n",
       "    </tr>\n",
       "    <tr>\n",
       "      <th>2</th>\n",
       "      <td>Built-up  Area</td>\n",
       "      <td>Ready To Move</td>\n",
       "      <td>Uttarahalli</td>\n",
       "      <td>3 BHK</td>\n",
       "      <td>NaN</td>\n",
       "      <td>1440</td>\n",
       "      <td>2.0</td>\n",
       "      <td>3.0</td>\n",
       "      <td>62.00</td>\n",
       "    </tr>\n",
       "    <tr>\n",
       "      <th>3</th>\n",
       "      <td>Super built-up  Area</td>\n",
       "      <td>Ready To Move</td>\n",
       "      <td>Lingadheeranahalli</td>\n",
       "      <td>3 BHK</td>\n",
       "      <td>Soiewre</td>\n",
       "      <td>1521</td>\n",
       "      <td>3.0</td>\n",
       "      <td>1.0</td>\n",
       "      <td>95.00</td>\n",
       "    </tr>\n",
       "    <tr>\n",
       "      <th>4</th>\n",
       "      <td>Super built-up  Area</td>\n",
       "      <td>Ready To Move</td>\n",
       "      <td>Kothanur</td>\n",
       "      <td>2 BHK</td>\n",
       "      <td>NaN</td>\n",
       "      <td>1200</td>\n",
       "      <td>2.0</td>\n",
       "      <td>1.0</td>\n",
       "      <td>51.00</td>\n",
       "    </tr>\n",
       "  </tbody>\n",
       "</table>\n",
       "</div>"
      ],
      "text/plain": [
       "              area_type   availability                  location       size  \\\n",
       "0  Super built-up  Area         19-Dec  Electronic City Phase II      2 BHK   \n",
       "1            Plot  Area  Ready To Move          Chikka Tirupathi  4 Bedroom   \n",
       "2        Built-up  Area  Ready To Move               Uttarahalli      3 BHK   \n",
       "3  Super built-up  Area  Ready To Move        Lingadheeranahalli      3 BHK   \n",
       "4  Super built-up  Area  Ready To Move                  Kothanur      2 BHK   \n",
       "\n",
       "   society total_sqft  bath  balcony   price  \n",
       "0  Coomee        1056   2.0      1.0   39.07  \n",
       "1  Theanmp       2600   5.0      3.0  120.00  \n",
       "2      NaN       1440   2.0      3.0   62.00  \n",
       "3  Soiewre       1521   3.0      1.0   95.00  \n",
       "4      NaN       1200   2.0      1.0   51.00  "
      ]
     },
     "execution_count": 159,
     "metadata": {},
     "output_type": "execute_result"
    }
   ],
   "source": [
    "df.head()"
   ]
  },
  {
   "cell_type": "markdown",
   "metadata": {},
   "source": [
    "# Project phase -1"
   ]
  },
  {
   "cell_type": "markdown",
   "metadata": {},
   "source": [
    "# DATA CLEANSING"
   ]
  },
  {
   "cell_type": "markdown",
   "metadata": {},
   "source": [
    "SIZE AND TOTAL_SQFT FEATURES ARE NOT IN CORRECT DATA TYPE"
   ]
  },
  {
   "cell_type": "code",
   "execution_count": 160,
   "metadata": {},
   "outputs": [
    {
     "data": {
      "text/plain": [
       "array(['2 BHK', '4 Bedroom', '3 BHK', '4 BHK', '6 Bedroom', '3 Bedroom',\n",
       "       '1 BHK', '1 RK', '1 Bedroom', '8 Bedroom', '2 Bedroom',\n",
       "       '7 Bedroom', '5 BHK', '7 BHK', '6 BHK', '5 Bedroom', '11 BHK',\n",
       "       '9 BHK', nan, '9 Bedroom', '27 BHK', '10 Bedroom', '11 Bedroom',\n",
       "       '10 BHK', '19 BHK', '16 BHK', '43 Bedroom', '14 BHK', '8 BHK',\n",
       "       '12 Bedroom', '13 BHK', '18 Bedroom'], dtype=object)"
      ]
     },
     "execution_count": 160,
     "metadata": {},
     "output_type": "execute_result"
    }
   ],
   "source": [
    "df[\"size\"].unique()"
   ]
  },
  {
   "cell_type": "markdown",
   "metadata": {},
   "source": [
    "### to check missing value rows in size feature"
   ]
  },
  {
   "cell_type": "code",
   "execution_count": 161,
   "metadata": {},
   "outputs": [
    {
     "data": {
      "text/html": [
       "<div>\n",
       "<style scoped>\n",
       "    .dataframe tbody tr th:only-of-type {\n",
       "        vertical-align: middle;\n",
       "    }\n",
       "\n",
       "    .dataframe tbody tr th {\n",
       "        vertical-align: top;\n",
       "    }\n",
       "\n",
       "    .dataframe thead th {\n",
       "        text-align: right;\n",
       "    }\n",
       "</style>\n",
       "<table border=\"1\" class=\"dataframe\">\n",
       "  <thead>\n",
       "    <tr style=\"text-align: right;\">\n",
       "      <th></th>\n",
       "      <th>area_type</th>\n",
       "      <th>availability</th>\n",
       "      <th>location</th>\n",
       "      <th>size</th>\n",
       "      <th>society</th>\n",
       "      <th>total_sqft</th>\n",
       "      <th>bath</th>\n",
       "      <th>balcony</th>\n",
       "      <th>price</th>\n",
       "    </tr>\n",
       "  </thead>\n",
       "  <tbody>\n",
       "    <tr>\n",
       "      <th>579</th>\n",
       "      <td>Plot  Area</td>\n",
       "      <td>Immediate Possession</td>\n",
       "      <td>Sarjapur  Road</td>\n",
       "      <td>NaN</td>\n",
       "      <td>Asiss B</td>\n",
       "      <td>1200 - 2400</td>\n",
       "      <td>NaN</td>\n",
       "      <td>NaN</td>\n",
       "      <td>34.185</td>\n",
       "    </tr>\n",
       "    <tr>\n",
       "      <th>1775</th>\n",
       "      <td>Plot  Area</td>\n",
       "      <td>Immediate Possession</td>\n",
       "      <td>IVC Road</td>\n",
       "      <td>NaN</td>\n",
       "      <td>Orana N</td>\n",
       "      <td>2000 - 5634</td>\n",
       "      <td>NaN</td>\n",
       "      <td>NaN</td>\n",
       "      <td>124.000</td>\n",
       "    </tr>\n",
       "    <tr>\n",
       "      <th>2264</th>\n",
       "      <td>Plot  Area</td>\n",
       "      <td>Immediate Possession</td>\n",
       "      <td>Banashankari</td>\n",
       "      <td>NaN</td>\n",
       "      <td>NaN</td>\n",
       "      <td>2400</td>\n",
       "      <td>NaN</td>\n",
       "      <td>NaN</td>\n",
       "      <td>460.000</td>\n",
       "    </tr>\n",
       "    <tr>\n",
       "      <th>2809</th>\n",
       "      <td>Plot  Area</td>\n",
       "      <td>Immediate Possession</td>\n",
       "      <td>Sarjapur  Road</td>\n",
       "      <td>NaN</td>\n",
       "      <td>AsdiaAr</td>\n",
       "      <td>1200 - 2400</td>\n",
       "      <td>NaN</td>\n",
       "      <td>NaN</td>\n",
       "      <td>28.785</td>\n",
       "    </tr>\n",
       "    <tr>\n",
       "      <th>2862</th>\n",
       "      <td>Plot  Area</td>\n",
       "      <td>Immediate Possession</td>\n",
       "      <td>Devanahalli</td>\n",
       "      <td>NaN</td>\n",
       "      <td>Ajleyor</td>\n",
       "      <td>1500 - 2400</td>\n",
       "      <td>NaN</td>\n",
       "      <td>NaN</td>\n",
       "      <td>46.800</td>\n",
       "    </tr>\n",
       "    <tr>\n",
       "      <th>5333</th>\n",
       "      <td>Plot  Area</td>\n",
       "      <td>Immediate Possession</td>\n",
       "      <td>Devanahalli</td>\n",
       "      <td>NaN</td>\n",
       "      <td>Emngs S</td>\n",
       "      <td>2100 - 5405</td>\n",
       "      <td>NaN</td>\n",
       "      <td>NaN</td>\n",
       "      <td>177.115</td>\n",
       "    </tr>\n",
       "    <tr>\n",
       "      <th>6423</th>\n",
       "      <td>Plot  Area</td>\n",
       "      <td>Immediate Possession</td>\n",
       "      <td>Whitefield</td>\n",
       "      <td>NaN</td>\n",
       "      <td>SRniaGa</td>\n",
       "      <td>2324</td>\n",
       "      <td>NaN</td>\n",
       "      <td>NaN</td>\n",
       "      <td>26.730</td>\n",
       "    </tr>\n",
       "    <tr>\n",
       "      <th>6636</th>\n",
       "      <td>Plot  Area</td>\n",
       "      <td>Immediate Possession</td>\n",
       "      <td>Jigani</td>\n",
       "      <td>NaN</td>\n",
       "      <td>S2enste</td>\n",
       "      <td>1500</td>\n",
       "      <td>NaN</td>\n",
       "      <td>NaN</td>\n",
       "      <td>25.490</td>\n",
       "    </tr>\n",
       "    <tr>\n",
       "      <th>6719</th>\n",
       "      <td>Plot  Area</td>\n",
       "      <td>Immediate Possession</td>\n",
       "      <td>Hoskote</td>\n",
       "      <td>NaN</td>\n",
       "      <td>SJowsn</td>\n",
       "      <td>800 - 2660</td>\n",
       "      <td>NaN</td>\n",
       "      <td>NaN</td>\n",
       "      <td>28.545</td>\n",
       "    </tr>\n",
       "    <tr>\n",
       "      <th>7680</th>\n",
       "      <td>Plot  Area</td>\n",
       "      <td>Immediate Possession</td>\n",
       "      <td>Kasavanhalli</td>\n",
       "      <td>NaN</td>\n",
       "      <td>NaN</td>\n",
       "      <td>5000</td>\n",
       "      <td>NaN</td>\n",
       "      <td>NaN</td>\n",
       "      <td>400.000</td>\n",
       "    </tr>\n",
       "    <tr>\n",
       "      <th>8306</th>\n",
       "      <td>Plot  Area</td>\n",
       "      <td>Immediate Possession</td>\n",
       "      <td>Anekal</td>\n",
       "      <td>NaN</td>\n",
       "      <td>Vaensnd</td>\n",
       "      <td>1453</td>\n",
       "      <td>NaN</td>\n",
       "      <td>NaN</td>\n",
       "      <td>16.500</td>\n",
       "    </tr>\n",
       "    <tr>\n",
       "      <th>8565</th>\n",
       "      <td>Plot  Area</td>\n",
       "      <td>Immediate Possession</td>\n",
       "      <td>Carmelaram</td>\n",
       "      <td>NaN</td>\n",
       "      <td>Ocezes</td>\n",
       "      <td>2000</td>\n",
       "      <td>NaN</td>\n",
       "      <td>NaN</td>\n",
       "      <td>120.000</td>\n",
       "    </tr>\n",
       "    <tr>\n",
       "      <th>8703</th>\n",
       "      <td>Plot  Area</td>\n",
       "      <td>Immediate Possession</td>\n",
       "      <td>Mysore Road</td>\n",
       "      <td>NaN</td>\n",
       "      <td>Naoden</td>\n",
       "      <td>1200 - 2400</td>\n",
       "      <td>NaN</td>\n",
       "      <td>NaN</td>\n",
       "      <td>42.300</td>\n",
       "    </tr>\n",
       "    <tr>\n",
       "      <th>10634</th>\n",
       "      <td>Plot  Area</td>\n",
       "      <td>Immediate Possession</td>\n",
       "      <td>Rajankunte</td>\n",
       "      <td>NaN</td>\n",
       "      <td>NaN</td>\n",
       "      <td>1575</td>\n",
       "      <td>NaN</td>\n",
       "      <td>NaN</td>\n",
       "      <td>31.110</td>\n",
       "    </tr>\n",
       "    <tr>\n",
       "      <th>11019</th>\n",
       "      <td>Plot  Area</td>\n",
       "      <td>Immediate Possession</td>\n",
       "      <td>Yelahanka</td>\n",
       "      <td>NaN</td>\n",
       "      <td>Saaveha</td>\n",
       "      <td>1200 - 1800</td>\n",
       "      <td>NaN</td>\n",
       "      <td>NaN</td>\n",
       "      <td>12.750</td>\n",
       "    </tr>\n",
       "    <tr>\n",
       "      <th>11569</th>\n",
       "      <td>Plot  Area</td>\n",
       "      <td>Immediate Possession</td>\n",
       "      <td>Hosur Road</td>\n",
       "      <td>NaN</td>\n",
       "      <td>AVeldun</td>\n",
       "      <td>1350</td>\n",
       "      <td>NaN</td>\n",
       "      <td>NaN</td>\n",
       "      <td>8.440</td>\n",
       "    </tr>\n",
       "  </tbody>\n",
       "</table>\n",
       "</div>"
      ],
      "text/plain": [
       "        area_type          availability        location size  society  \\\n",
       "579    Plot  Area  Immediate Possession  Sarjapur  Road  NaN  Asiss B   \n",
       "1775   Plot  Area  Immediate Possession        IVC Road  NaN  Orana N   \n",
       "2264   Plot  Area  Immediate Possession    Banashankari  NaN      NaN   \n",
       "2809   Plot  Area  Immediate Possession  Sarjapur  Road  NaN  AsdiaAr   \n",
       "2862   Plot  Area  Immediate Possession     Devanahalli  NaN  Ajleyor   \n",
       "5333   Plot  Area  Immediate Possession     Devanahalli  NaN  Emngs S   \n",
       "6423   Plot  Area  Immediate Possession      Whitefield  NaN  SRniaGa   \n",
       "6636   Plot  Area  Immediate Possession          Jigani  NaN  S2enste   \n",
       "6719   Plot  Area  Immediate Possession         Hoskote  NaN  SJowsn    \n",
       "7680   Plot  Area  Immediate Possession    Kasavanhalli  NaN      NaN   \n",
       "8306   Plot  Area  Immediate Possession          Anekal  NaN  Vaensnd   \n",
       "8565   Plot  Area  Immediate Possession      Carmelaram  NaN  Ocezes    \n",
       "8703   Plot  Area  Immediate Possession     Mysore Road  NaN  Naoden    \n",
       "10634  Plot  Area  Immediate Possession      Rajankunte  NaN      NaN   \n",
       "11019  Plot  Area  Immediate Possession       Yelahanka  NaN  Saaveha   \n",
       "11569  Plot  Area  Immediate Possession      Hosur Road  NaN  AVeldun   \n",
       "\n",
       "        total_sqft  bath  balcony    price  \n",
       "579    1200 - 2400   NaN      NaN   34.185  \n",
       "1775   2000 - 5634   NaN      NaN  124.000  \n",
       "2264          2400   NaN      NaN  460.000  \n",
       "2809   1200 - 2400   NaN      NaN   28.785  \n",
       "2862   1500 - 2400   NaN      NaN   46.800  \n",
       "5333   2100 - 5405   NaN      NaN  177.115  \n",
       "6423          2324   NaN      NaN   26.730  \n",
       "6636          1500   NaN      NaN   25.490  \n",
       "6719    800 - 2660   NaN      NaN   28.545  \n",
       "7680          5000   NaN      NaN  400.000  \n",
       "8306          1453   NaN      NaN   16.500  \n",
       "8565          2000   NaN      NaN  120.000  \n",
       "8703   1200 - 2400   NaN      NaN   42.300  \n",
       "10634         1575   NaN      NaN   31.110  \n",
       "11019  1200 - 1800   NaN      NaN   12.750  \n",
       "11569         1350   NaN      NaN    8.440  "
      ]
     },
     "execution_count": 161,
     "metadata": {},
     "output_type": "execute_result"
    }
   ],
   "source": [
    "df.loc[df[\"size\"].isnull()==True]"
   ]
  },
  {
   "cell_type": "markdown",
   "metadata": {},
   "source": [
    "#### logic to bring out the number from size feature"
   ]
  },
  {
   "cell_type": "code",
   "execution_count": 162,
   "metadata": {},
   "outputs": [
    {
     "data": {
      "text/plain": [
       "2"
      ]
     },
     "execution_count": 162,
     "metadata": {},
     "output_type": "execute_result"
    }
   ],
   "source": [
    "int(df[\"size\"][0].split()[0])"
   ]
  },
  {
   "cell_type": "markdown",
   "metadata": {},
   "source": [
    "### to convert size feature into proper bhk column"
   ]
  },
  {
   "cell_type": "code",
   "execution_count": 163,
   "metadata": {},
   "outputs": [],
   "source": [
    "df['bhk'] = df['size'].apply(lambda x: int(x.split()[0]) if type(x)==str else np.nan)\n"
   ]
  },
  {
   "cell_type": "markdown",
   "metadata": {},
   "source": [
    "### use wisely below code ( use when u want to show all the rows given in the dataset)"
   ]
  },
  {
   "cell_type": "code",
   "execution_count": 164,
   "metadata": {},
   "outputs": [],
   "source": [
    "pd.set_option(\"display.max_rows\",None)"
   ]
  },
  {
   "cell_type": "markdown",
   "metadata": {},
   "source": [
    "### data cleansing part-2 for sqft column"
   ]
  },
  {
   "cell_type": "markdown",
   "metadata": {},
   "source": [
    "### to find out all the noises present in total_sqft feature"
   ]
  },
  {
   "cell_type": "markdown",
   "metadata": {},
   "source": [
    "### way to bring out all the string noises present in the total_sqft feature"
   ]
  },
  {
   "cell_type": "code",
   "execution_count": 165,
   "metadata": {},
   "outputs": [
    {
     "name": "stdout",
     "output_type": "stream",
     "text": [
      "410 34.46Sq. Meter\n",
      "648 4125Perch\n",
      "775 1000Sq. Meter\n",
      "872 1100Sq. Yards\n",
      "1019 5.31Acres\n",
      "1086 30Acres\n",
      "1400 716Sq. Meter\n",
      "1712 1500Sq. Meter\n",
      "1743 142.61Sq. Meter\n",
      "1821 1574Sq. Yards\n",
      "2310 361.33Sq. Yards\n",
      "2881 117Sq. Yards\n",
      "3228 3040Sq. Meter\n",
      "3285 500Sq. Yards\n",
      "4113 167Sq. Meter\n",
      "4293 315Sq. Yards\n",
      "5453 3Cents\n",
      "5537 188.89Sq. Yards\n",
      "5631 204Sq. Meter\n",
      "5668 45Sq. Yards\n",
      "5708 133.3Sq. Yards\n",
      "5976 78.03Sq. Meter\n",
      "6268 122Sq. Yards\n",
      "6303 84.53Sq. Meter\n",
      "6333 2.09Acres\n",
      "6552 24Guntha\n",
      "6592 697Sq. Meter\n",
      "6953 142.61Sq. Meter\n",
      "7001 1500Cents\n",
      "7248 132Sq. Yards\n",
      "7334 2Acres\n",
      "7520 1100Sq. Meter\n",
      "7607 15Acres\n",
      "7726 1.26Acres\n",
      "8273 151.11Sq. Yards\n",
      "9423 1Grounds\n",
      "9519 2940Sq. Yards\n",
      "9734 45.06Sq. Meter\n",
      "10488 1.25Acres\n",
      "10491 86.72Sq. Meter\n",
      "11320 38Guntha\n",
      "11615 6Acres\n",
      "12186 120Sq. Yards\n",
      "12252 24Sq. Meter\n",
      "12560 142.84Sq. Meter\n",
      "12652 300Sq. Yards\n"
     ]
    }
   ],
   "source": [
    "for i,j in enumerate(df[\"total_sqft\"]):\n",
    "    try:\n",
    "        if type(float(j))==float:\n",
    "            continue\n",
    "    except :\n",
    "        if \"-\" in j:\n",
    "            pass\n",
    "        else:\n",
    "            \n",
    "            print(i,j)"
   ]
  },
  {
   "cell_type": "markdown",
   "metadata": {},
   "source": [
    "### to handle unit noises ( convert all noisy units into sqft.)"
   ]
  },
  {
   "cell_type": "code",
   "execution_count": 166,
   "metadata": {},
   "outputs": [],
   "source": [
    "def unit_conversion(x):\n",
    "    if \"-\" in x:\n",
    "        if \"sqft\" in x:\n",
    "            w=x.replace(\"sqft\",\"\")\n",
    "            a=w.split(\"-\")\n",
    "            return (float(a[0])+float(a[1]))/2\n",
    "        elif \"sqrtft\" in x:\n",
    "            q=x.replace(\"sqrtft\",\"\")\n",
    "            a=q.split(\"-\")\n",
    "            return (float(a[0])+float(a[1]))/2\n",
    "    elif \"Sq. Meter\" in x:\n",
    "        return(float(x.replace(\"Sq. Meter\",\"\"))*10.764)\n",
    "    elif \"Perch\" in x:\n",
    "        return (float(x.replace(\"Perch\",\"\"))*272.25)\n",
    "    elif \"Sq. Yards\" in x:\n",
    "        return(float(x.replace(\"Sq. Yards\",\"\"))*9)\n",
    "    elif \"Acres\" in x:\n",
    "        return(float(x.replace(\"Acres\",\"\"))*43560)\n",
    "    elif \"Cents\" in x:\n",
    "        return(float(x.replace(\"Cents\",\"\"))*435.6)\n",
    "    elif \"Guntha\" in x:\n",
    "        return (float(x.replace(\"Guntha\",\"\"))*1088.99)\n",
    "\n",
    "    elif \"Grounds\" in x:\n",
    "        return (float(x.replace(\"Grounds\",\"\"))*2400)\n",
    "    else:\n",
    "        return float(x)\n",
    "        \n",
    "    "
   ]
  },
  {
   "cell_type": "code",
   "execution_count": 167,
   "metadata": {},
   "outputs": [],
   "source": [
    "df[\"total_sqft\"]=df[\"total_sqft\"].map(unit_conversion)"
   ]
  },
  {
   "cell_type": "markdown",
   "metadata": {},
   "source": [
    "### convert total_sqft feature into float datatype"
   ]
  },
  {
   "cell_type": "code",
   "execution_count": 123,
   "metadata": {},
   "outputs": [],
   "source": [
    "df[\"total_sqft\"]=df[\"total_sqft\"].astype(\"float\")"
   ]
  },
  {
   "cell_type": "code",
   "execution_count": 124,
   "metadata": {},
   "outputs": [
    {
     "name": "stdout",
     "output_type": "stream",
     "text": [
      "<class 'pandas.core.frame.DataFrame'>\n",
      "RangeIndex: 13320 entries, 0 to 13319\n",
      "Data columns (total 10 columns):\n",
      " #   Column        Non-Null Count  Dtype  \n",
      "---  ------        --------------  -----  \n",
      " 0   area_type     13320 non-null  object \n",
      " 1   availability  13320 non-null  object \n",
      " 2   location      13319 non-null  object \n",
      " 3   size          13304 non-null  object \n",
      " 4   society       7818 non-null   object \n",
      " 5   total_sqft    13320 non-null  float64\n",
      " 6   bath          13247 non-null  float64\n",
      " 7   balcony       12711 non-null  float64\n",
      " 8   price         13320 non-null  float64\n",
      " 9   bhk           13304 non-null  float64\n",
      "dtypes: float64(5), object(5)\n",
      "memory usage: 1.0+ MB\n"
     ]
    }
   ],
   "source": [
    "df.info()"
   ]
  },
  {
   "cell_type": "markdown",
   "metadata": {},
   "source": [
    "# FEATURE ENGINEERING "
   ]
  },
  {
   "cell_type": "markdown",
   "metadata": {},
   "source": [
    "## PART-A TREAT MISSING VALUES "
   ]
  },
  {
   "cell_type": "markdown",
   "metadata": {},
   "source": [
    "### Method-1 :- Drop missing values( if missing values less than 2-5% of data) or may drop the column as well if it has more than 25-30% missing values"
   ]
  },
  {
   "cell_type": "code",
   "execution_count": 168,
   "metadata": {},
   "outputs": [
    {
     "data": {
      "text/plain": [
       "(13320, 10)"
      ]
     },
     "execution_count": 168,
     "metadata": {},
     "output_type": "execute_result"
    }
   ],
   "source": [
    "df.shape"
   ]
  },
  {
   "cell_type": "code",
   "execution_count": 169,
   "metadata": {},
   "outputs": [
    {
     "data": {
      "text/plain": [
       "area_type        0.000000\n",
       "availability     0.000000\n",
       "location         0.007508\n",
       "size             0.120120\n",
       "society         41.306306\n",
       "total_sqft       0.000000\n",
       "bath             0.548048\n",
       "balcony          4.572072\n",
       "price            0.000000\n",
       "bhk              0.120120\n",
       "dtype: float64"
      ]
     },
     "execution_count": 169,
     "metadata": {},
     "output_type": "execute_result"
    }
   ],
   "source": [
    "df.isnull().mean()*100"
   ]
  },
  {
   "cell_type": "code",
   "execution_count": 170,
   "metadata": {},
   "outputs": [],
   "source": [
    "df_m=df.drop([\"society\"],axis=1)\n",
    "\n",
    "\n"
   ]
  },
  {
   "cell_type": "code",
   "execution_count": 176,
   "metadata": {},
   "outputs": [
    {
     "data": {
      "text/plain": [
       "area_type          0\n",
       "availability       0\n",
       "location           1\n",
       "size              16\n",
       "society         5502\n",
       "total_sqft         0\n",
       "bath              73\n",
       "balcony          609\n",
       "price              0\n",
       "bhk               16\n",
       "dtype: int64"
      ]
     },
     "execution_count": 176,
     "metadata": {},
     "output_type": "execute_result"
    }
   ],
   "source": [
    "df.isnull().sum()"
   ]
  },
  {
   "cell_type": "markdown",
   "metadata": {},
   "source": [
    "#### this code helps to remove missing values from dataframe having missing values less that 5%"
   ]
  },
  {
   "cell_type": "code",
   "execution_count": 172,
   "metadata": {},
   "outputs": [
    {
     "data": {
      "text/plain": [
       "2.0"
      ]
     },
     "execution_count": 172,
     "metadata": {},
     "output_type": "execute_result"
    }
   ],
   "source": [
    "df_m[\"balcony\"].median()\n"
   ]
  },
  {
   "cell_type": "code",
   "execution_count": 173,
   "metadata": {},
   "outputs": [],
   "source": [
    "df_m.loc[(df_m[\"bhk\"]<3) & (df_m[\"balcony\"].isnull()==True),\"balcony\"]=1"
   ]
  },
  {
   "cell_type": "code",
   "execution_count": 174,
   "metadata": {},
   "outputs": [],
   "source": [
    "df_m.loc[(df_m[\"bhk\"]>=3) & (df_m[\"balcony\"].isnull()==True),\"balcony\"]=2"
   ]
  },
  {
   "cell_type": "code",
   "execution_count": 175,
   "metadata": {},
   "outputs": [
    {
     "data": {
      "text/html": [
       "<div>\n",
       "<style scoped>\n",
       "    .dataframe tbody tr th:only-of-type {\n",
       "        vertical-align: middle;\n",
       "    }\n",
       "\n",
       "    .dataframe tbody tr th {\n",
       "        vertical-align: top;\n",
       "    }\n",
       "\n",
       "    .dataframe thead th {\n",
       "        text-align: right;\n",
       "    }\n",
       "</style>\n",
       "<table border=\"1\" class=\"dataframe\">\n",
       "  <thead>\n",
       "    <tr style=\"text-align: right;\">\n",
       "      <th></th>\n",
       "      <th>area_type</th>\n",
       "      <th>availability</th>\n",
       "      <th>location</th>\n",
       "      <th>size</th>\n",
       "      <th>total_sqft</th>\n",
       "      <th>bath</th>\n",
       "      <th>balcony</th>\n",
       "      <th>price</th>\n",
       "      <th>bhk</th>\n",
       "    </tr>\n",
       "  </thead>\n",
       "  <tbody>\n",
       "    <tr>\n",
       "      <th>579</th>\n",
       "      <td>Plot  Area</td>\n",
       "      <td>Immediate Possession</td>\n",
       "      <td>Sarjapur  Road</td>\n",
       "      <td>NaN</td>\n",
       "      <td>1800.0</td>\n",
       "      <td>NaN</td>\n",
       "      <td>NaN</td>\n",
       "      <td>34.185</td>\n",
       "      <td>NaN</td>\n",
       "    </tr>\n",
       "    <tr>\n",
       "      <th>1775</th>\n",
       "      <td>Plot  Area</td>\n",
       "      <td>Immediate Possession</td>\n",
       "      <td>IVC Road</td>\n",
       "      <td>NaN</td>\n",
       "      <td>3817.0</td>\n",
       "      <td>NaN</td>\n",
       "      <td>NaN</td>\n",
       "      <td>124.000</td>\n",
       "      <td>NaN</td>\n",
       "    </tr>\n",
       "    <tr>\n",
       "      <th>2264</th>\n",
       "      <td>Plot  Area</td>\n",
       "      <td>Immediate Possession</td>\n",
       "      <td>Banashankari</td>\n",
       "      <td>NaN</td>\n",
       "      <td>2400.0</td>\n",
       "      <td>NaN</td>\n",
       "      <td>NaN</td>\n",
       "      <td>460.000</td>\n",
       "      <td>NaN</td>\n",
       "    </tr>\n",
       "    <tr>\n",
       "      <th>2809</th>\n",
       "      <td>Plot  Area</td>\n",
       "      <td>Immediate Possession</td>\n",
       "      <td>Sarjapur  Road</td>\n",
       "      <td>NaN</td>\n",
       "      <td>1800.0</td>\n",
       "      <td>NaN</td>\n",
       "      <td>NaN</td>\n",
       "      <td>28.785</td>\n",
       "      <td>NaN</td>\n",
       "    </tr>\n",
       "    <tr>\n",
       "      <th>2862</th>\n",
       "      <td>Plot  Area</td>\n",
       "      <td>Immediate Possession</td>\n",
       "      <td>Devanahalli</td>\n",
       "      <td>NaN</td>\n",
       "      <td>1950.0</td>\n",
       "      <td>NaN</td>\n",
       "      <td>NaN</td>\n",
       "      <td>46.800</td>\n",
       "      <td>NaN</td>\n",
       "    </tr>\n",
       "    <tr>\n",
       "      <th>5333</th>\n",
       "      <td>Plot  Area</td>\n",
       "      <td>Immediate Possession</td>\n",
       "      <td>Devanahalli</td>\n",
       "      <td>NaN</td>\n",
       "      <td>3752.5</td>\n",
       "      <td>NaN</td>\n",
       "      <td>NaN</td>\n",
       "      <td>177.115</td>\n",
       "      <td>NaN</td>\n",
       "    </tr>\n",
       "    <tr>\n",
       "      <th>6423</th>\n",
       "      <td>Plot  Area</td>\n",
       "      <td>Immediate Possession</td>\n",
       "      <td>Whitefield</td>\n",
       "      <td>NaN</td>\n",
       "      <td>2324.0</td>\n",
       "      <td>NaN</td>\n",
       "      <td>NaN</td>\n",
       "      <td>26.730</td>\n",
       "      <td>NaN</td>\n",
       "    </tr>\n",
       "    <tr>\n",
       "      <th>6636</th>\n",
       "      <td>Plot  Area</td>\n",
       "      <td>Immediate Possession</td>\n",
       "      <td>Jigani</td>\n",
       "      <td>NaN</td>\n",
       "      <td>1500.0</td>\n",
       "      <td>NaN</td>\n",
       "      <td>NaN</td>\n",
       "      <td>25.490</td>\n",
       "      <td>NaN</td>\n",
       "    </tr>\n",
       "    <tr>\n",
       "      <th>6719</th>\n",
       "      <td>Plot  Area</td>\n",
       "      <td>Immediate Possession</td>\n",
       "      <td>Hoskote</td>\n",
       "      <td>NaN</td>\n",
       "      <td>1730.0</td>\n",
       "      <td>NaN</td>\n",
       "      <td>NaN</td>\n",
       "      <td>28.545</td>\n",
       "      <td>NaN</td>\n",
       "    </tr>\n",
       "    <tr>\n",
       "      <th>7680</th>\n",
       "      <td>Plot  Area</td>\n",
       "      <td>Immediate Possession</td>\n",
       "      <td>Kasavanhalli</td>\n",
       "      <td>NaN</td>\n",
       "      <td>5000.0</td>\n",
       "      <td>NaN</td>\n",
       "      <td>NaN</td>\n",
       "      <td>400.000</td>\n",
       "      <td>NaN</td>\n",
       "    </tr>\n",
       "    <tr>\n",
       "      <th>8306</th>\n",
       "      <td>Plot  Area</td>\n",
       "      <td>Immediate Possession</td>\n",
       "      <td>Anekal</td>\n",
       "      <td>NaN</td>\n",
       "      <td>1453.0</td>\n",
       "      <td>NaN</td>\n",
       "      <td>NaN</td>\n",
       "      <td>16.500</td>\n",
       "      <td>NaN</td>\n",
       "    </tr>\n",
       "    <tr>\n",
       "      <th>8565</th>\n",
       "      <td>Plot  Area</td>\n",
       "      <td>Immediate Possession</td>\n",
       "      <td>Carmelaram</td>\n",
       "      <td>NaN</td>\n",
       "      <td>2000.0</td>\n",
       "      <td>NaN</td>\n",
       "      <td>NaN</td>\n",
       "      <td>120.000</td>\n",
       "      <td>NaN</td>\n",
       "    </tr>\n",
       "    <tr>\n",
       "      <th>8703</th>\n",
       "      <td>Plot  Area</td>\n",
       "      <td>Immediate Possession</td>\n",
       "      <td>Mysore Road</td>\n",
       "      <td>NaN</td>\n",
       "      <td>1800.0</td>\n",
       "      <td>NaN</td>\n",
       "      <td>NaN</td>\n",
       "      <td>42.300</td>\n",
       "      <td>NaN</td>\n",
       "    </tr>\n",
       "    <tr>\n",
       "      <th>10634</th>\n",
       "      <td>Plot  Area</td>\n",
       "      <td>Immediate Possession</td>\n",
       "      <td>Rajankunte</td>\n",
       "      <td>NaN</td>\n",
       "      <td>1575.0</td>\n",
       "      <td>NaN</td>\n",
       "      <td>NaN</td>\n",
       "      <td>31.110</td>\n",
       "      <td>NaN</td>\n",
       "    </tr>\n",
       "    <tr>\n",
       "      <th>11019</th>\n",
       "      <td>Plot  Area</td>\n",
       "      <td>Immediate Possession</td>\n",
       "      <td>Yelahanka</td>\n",
       "      <td>NaN</td>\n",
       "      <td>1500.0</td>\n",
       "      <td>NaN</td>\n",
       "      <td>NaN</td>\n",
       "      <td>12.750</td>\n",
       "      <td>NaN</td>\n",
       "    </tr>\n",
       "    <tr>\n",
       "      <th>11569</th>\n",
       "      <td>Plot  Area</td>\n",
       "      <td>Immediate Possession</td>\n",
       "      <td>Hosur Road</td>\n",
       "      <td>NaN</td>\n",
       "      <td>1350.0</td>\n",
       "      <td>NaN</td>\n",
       "      <td>NaN</td>\n",
       "      <td>8.440</td>\n",
       "      <td>NaN</td>\n",
       "    </tr>\n",
       "  </tbody>\n",
       "</table>\n",
       "</div>"
      ],
      "text/plain": [
       "        area_type          availability        location size  total_sqft  \\\n",
       "579    Plot  Area  Immediate Possession  Sarjapur  Road  NaN      1800.0   \n",
       "1775   Plot  Area  Immediate Possession        IVC Road  NaN      3817.0   \n",
       "2264   Plot  Area  Immediate Possession    Banashankari  NaN      2400.0   \n",
       "2809   Plot  Area  Immediate Possession  Sarjapur  Road  NaN      1800.0   \n",
       "2862   Plot  Area  Immediate Possession     Devanahalli  NaN      1950.0   \n",
       "5333   Plot  Area  Immediate Possession     Devanahalli  NaN      3752.5   \n",
       "6423   Plot  Area  Immediate Possession      Whitefield  NaN      2324.0   \n",
       "6636   Plot  Area  Immediate Possession          Jigani  NaN      1500.0   \n",
       "6719   Plot  Area  Immediate Possession         Hoskote  NaN      1730.0   \n",
       "7680   Plot  Area  Immediate Possession    Kasavanhalli  NaN      5000.0   \n",
       "8306   Plot  Area  Immediate Possession          Anekal  NaN      1453.0   \n",
       "8565   Plot  Area  Immediate Possession      Carmelaram  NaN      2000.0   \n",
       "8703   Plot  Area  Immediate Possession     Mysore Road  NaN      1800.0   \n",
       "10634  Plot  Area  Immediate Possession      Rajankunte  NaN      1575.0   \n",
       "11019  Plot  Area  Immediate Possession       Yelahanka  NaN      1500.0   \n",
       "11569  Plot  Area  Immediate Possession      Hosur Road  NaN      1350.0   \n",
       "\n",
       "       bath  balcony    price  bhk  \n",
       "579     NaN      NaN   34.185  NaN  \n",
       "1775    NaN      NaN  124.000  NaN  \n",
       "2264    NaN      NaN  460.000  NaN  \n",
       "2809    NaN      NaN   28.785  NaN  \n",
       "2862    NaN      NaN   46.800  NaN  \n",
       "5333    NaN      NaN  177.115  NaN  \n",
       "6423    NaN      NaN   26.730  NaN  \n",
       "6636    NaN      NaN   25.490  NaN  \n",
       "6719    NaN      NaN   28.545  NaN  \n",
       "7680    NaN      NaN  400.000  NaN  \n",
       "8306    NaN      NaN   16.500  NaN  \n",
       "8565    NaN      NaN  120.000  NaN  \n",
       "8703    NaN      NaN   42.300  NaN  \n",
       "10634   NaN      NaN   31.110  NaN  \n",
       "11019   NaN      NaN   12.750  NaN  \n",
       "11569   NaN      NaN    8.440  NaN  "
      ]
     },
     "execution_count": 175,
     "metadata": {},
     "output_type": "execute_result"
    }
   ],
   "source": [
    "df_m.loc[df_m[\"balcony\"].isnull()==True]"
   ]
  },
  {
   "cell_type": "code",
   "execution_count": null,
   "metadata": {},
   "outputs": [],
   "source": [
    "#df_m[\"balcony\"]=df_m[\"balcony\"].fillna(df_m[\"balcony\"].mode())"
   ]
  },
  {
   "cell_type": "code",
   "execution_count": 177,
   "metadata": {},
   "outputs": [],
   "source": [
    "df_m=df_m.dropna()"
   ]
  },
  {
   "cell_type": "code",
   "execution_count": 178,
   "metadata": {},
   "outputs": [
    {
     "data": {
      "text/plain": [
       "(13246, 9)"
      ]
     },
     "execution_count": 178,
     "metadata": {},
     "output_type": "execute_result"
    }
   ],
   "source": [
    "df_m.shape"
   ]
  },
  {
   "cell_type": "code",
   "execution_count": 179,
   "metadata": {},
   "outputs": [
    {
     "data": {
      "text/plain": [
       "area_type       0\n",
       "availability    0\n",
       "location        0\n",
       "size            0\n",
       "total_sqft      0\n",
       "bath            0\n",
       "balcony         0\n",
       "price           0\n",
       "bhk             0\n",
       "dtype: int64"
      ]
     },
     "execution_count": 179,
     "metadata": {},
     "output_type": "execute_result"
    }
   ],
   "source": [
    "df_m.isnull().sum()"
   ]
  },
  {
   "cell_type": "code",
   "execution_count": 180,
   "metadata": {},
   "outputs": [],
   "source": [
    "df_m.reset_index(inplace=True)"
   ]
  },
  {
   "cell_type": "markdown",
   "metadata": {},
   "source": [
    "### 2- Method :- Mean/ Median Imputation Or Skewness factor ( mere for continuous numerical feature)"
   ]
  },
  {
   "cell_type": "markdown",
   "metadata": {},
   "source": [
    "#### for mean, median imputation, firstly we will have to check for skewness."
   ]
  },
  {
   "cell_type": "markdown",
   "metadata": {},
   "source": [
    "### to check the skewness of sqft feature "
   ]
  },
  {
   "cell_type": "markdown",
   "metadata": {},
   "source": [
    "# HANDLING MISSING VALUES IN CASE OF CATEGORICAL FEATURE OR DISCRETE NUMERICAL FEATURE"
   ]
  },
  {
   "cell_type": "code",
   "execution_count": 207,
   "metadata": {},
   "outputs": [
    {
     "name": "stdout",
     "output_type": "stream",
     "text": [
      "<class 'pandas.core.frame.DataFrame'>\n",
      "RangeIndex: 13320 entries, 0 to 13319\n",
      "Data columns (total 10 columns):\n",
      " #   Column        Non-Null Count  Dtype  \n",
      "---  ------        --------------  -----  \n",
      " 0   area_type     13320 non-null  object \n",
      " 1   availability  13320 non-null  object \n",
      " 2   location      13319 non-null  object \n",
      " 3   size          13304 non-null  object \n",
      " 4   society       7818 non-null   object \n",
      " 5   total_sqft    13320 non-null  float16\n",
      " 6   bath          13247 non-null  float64\n",
      " 7   balcony       12711 non-null  float64\n",
      " 8   price         13320 non-null  float64\n",
      " 9   bhk           13304 non-null  float64\n",
      "dtypes: float16(1), float64(4), object(5)\n",
      "memory usage: 962.7+ KB\n"
     ]
    }
   ],
   "source": [
    "df.info()"
   ]
  },
  {
   "cell_type": "code",
   "execution_count": 229,
   "metadata": {},
   "outputs": [
    {
     "data": {
      "text/plain": [
       "area_type          0\n",
       "availability       0\n",
       "location           1\n",
       "size              16\n",
       "society         5502\n",
       "total_sqft         0\n",
       "bath              73\n",
       "balcony          609\n",
       "price              0\n",
       "bhk               16\n",
       "dtype: int64"
      ]
     },
     "execution_count": 229,
     "metadata": {},
     "output_type": "execute_result"
    }
   ],
   "source": [
    "df.isnull().sum()"
   ]
  },
  {
   "cell_type": "markdown",
   "metadata": {},
   "source": [
    "##### Feature society containing missing values more than 50% and it is categorical nominal also so we will have to drop this feature."
   ]
  },
  {
   "cell_type": "code",
   "execution_count": 278,
   "metadata": {},
   "outputs": [],
   "source": [
    "df.drop([\"society\"],axis=1,inplace=True)"
   ]
  },
  {
   "cell_type": "code",
   "execution_count": 198,
   "metadata": {},
   "outputs": [
    {
     "data": {
      "text/plain": [
       "index           0\n",
       "area_type       0\n",
       "availability    0\n",
       "location        0\n",
       "size            0\n",
       "total_sqft      0\n",
       "bath            0\n",
       "balcony         0\n",
       "price           0\n",
       "bhk             0\n",
       "dtype: int64"
      ]
     },
     "execution_count": 198,
     "metadata": {},
     "output_type": "execute_result"
    }
   ],
   "source": [
    "df_m.isnull().sum()"
   ]
  },
  {
   "cell_type": "markdown",
   "metadata": {},
   "source": [
    "##### BHK,BALCONY and BATH are discrete features so we will fill our missing values by mode"
   ]
  },
  {
   "cell_type": "code",
   "execution_count": 244,
   "metadata": {},
   "outputs": [
    {
     "data": {
      "text/plain": [
       "2.0"
      ]
     },
     "execution_count": 244,
     "metadata": {},
     "output_type": "execute_result"
    }
   ],
   "source": [
    "df[\"balcony\"].mode()[0]"
   ]
  },
  {
   "cell_type": "code",
   "execution_count": 281,
   "metadata": {},
   "outputs": [],
   "source": [
    "df[\"bhk\"]=df[\"bhk\"].fillna(df[\"bhk\"].mode()[0])"
   ]
  },
  {
   "cell_type": "code",
   "execution_count": 282,
   "metadata": {},
   "outputs": [],
   "source": [
    "df[\"balcony\"]=df[\"balcony\"].fillna(df[\"balcony\"].mode()[0])"
   ]
  },
  {
   "cell_type": "code",
   "execution_count": 283,
   "metadata": {},
   "outputs": [],
   "source": [
    "df[\"bath\"]=df[\"bath\"].fillna(df[\"bath\"].mode()[0])"
   ]
  },
  {
   "cell_type": "code",
   "execution_count": 284,
   "metadata": {},
   "outputs": [
    {
     "data": {
      "text/plain": [
       "'Whitefield'"
      ]
     },
     "execution_count": 284,
     "metadata": {},
     "output_type": "execute_result"
    }
   ],
   "source": [
    "df[\"location\"].mode()[0]"
   ]
  },
  {
   "cell_type": "code",
   "execution_count": 285,
   "metadata": {},
   "outputs": [],
   "source": [
    "df[\"location\"]=df[\"location\"].fillna(df[\"location\"].mode()[0])"
   ]
  },
  {
   "cell_type": "code",
   "execution_count": 286,
   "metadata": {},
   "outputs": [
    {
     "data": {
      "text/plain": [
       "area_type       0\n",
       "availability    0\n",
       "location        0\n",
       "total_sqft      0\n",
       "bath            0\n",
       "balcony         0\n",
       "price           0\n",
       "bhk             0\n",
       "dtype: int64"
      ]
     },
     "execution_count": 286,
     "metadata": {},
     "output_type": "execute_result"
    }
   ],
   "source": [
    "df.isnull().sum()"
   ]
  },
  {
   "cell_type": "markdown",
   "metadata": {},
   "source": [
    "# PART-B OUTLIER TREATMENT\n"
   ]
  },
  {
   "cell_type": "markdown",
   "metadata": {},
   "source": [
    "## What is outliers\n",
    "An outlier is an observation that lies an abnormal distance from other values in a random sample from a population.\n"
   ]
  },
  {
   "cell_type": "markdown",
   "metadata": {},
   "source": [
    "# Types of outliers\n",
    "Outliers can also come in different flavours, depending on the environment: POINT OUTLIERS, CONTEXTUAL OUTLIERS and COLLECTIVE OUTLIERS.\n",
    "\n",
    "1) Point outliers are single data points that lay far from the rest of the distribution.\n",
    "\n",
    "2) Contextual outliers can be noise in data, such as punctuation symbols when realizing text analysis or background noise signal when doing speech recognition.\n",
    "\n",
    "3) Collective outliers can be subsets of novelties in data such as a signal that may indicate the discovery of new phenomena."
   ]
  },
  {
   "cell_type": "markdown",
   "metadata": {},
   "source": [
    "# What causes Outliers?\n",
    "Outliers can be classified in two broad categories:\n",
    "\n",
    "1.Artificial (Error) / Non-natural\n",
    "2.Natural."
   ]
  },
  {
   "cell_type": "markdown",
   "metadata": {},
   "source": [
    "# 1) Artificial Causes\n",
    "\n",
    "1-a) Data Entry Errors:\n",
    "\n",
    "Human errors such as errors caused during data collection, recording, or entry can cause outliers in data.For example: Annual income of a customer is 100000.Accidentally, the data entry operator puts an additional zero in the figure. Now the income becomes $1,000,000 which is 10 times higher. Evidently, this will be the outlier value when compared with rest of the population.\n",
    "\n",
    "1-b) Measurement Error:\n",
    "\n",
    "It is the most common source of outliers. This is caused when the measurement instrument used turns out to be faulty. For example: There are 10 weighing machines. 9 of them are correct, 1 is faulty. Weight measured by people on the faulty machine will be higher / lower than the rest of people in the group. The weights measured on faulty machine can lead to outliers.\n",
    "\n",
    "1-c) Experimental Error:\n",
    "\n",
    "Another cause of outliers is experimental error. For example: In a 100m sprint of 7 runners, one runner missed out on concentrating on the ‘Go’ call which caused him to start late. Hence, this caused the runner’s run time to be more than other runners. His total run time can be an outlier.\n",
    "\n",
    "1-d) Intentional Outlier:\n",
    "\n",
    "This is commonly found in self-reported measures that involves sensitive data. For example: Teens would typically under report the amount of alcohol that they consume. Only a fraction of them would report actual value. Here actual values might look like outliers because rest of the teens are under reporting the consumption.\n",
    "\n",
    "1-e) Data Processing Error:\n",
    "\n",
    "Whenever we perform data mining, we extract data from multiple sources. It is possible that some manipulation or extraction errors may lead to outliers in the dataset.\n",
    "\n"
   ]
  },
  {
   "cell_type": "markdown",
   "metadata": {},
   "source": [
    "# 2) Natural Causes\n",
    "Track and field performance of asian athlete with jamaican athlete.\n",
    "\n",
    "What is the impact of Outliers on a dataset?\n",
    "1) Outliers can drastically change the results of modeling.\n",
    "\n",
    "2) It increases the error variance and reduces the power of model.\n",
    "\n",
    "3) If the outliers are non-randomly distributed, they can decrease normality\n",
    "\n",
    "4) They can bias or influence estimates that may be of substantive interest"
   ]
  },
  {
   "cell_type": "markdown",
   "metadata": {},
   "source": [
    "## METHOD-1 BOX PLOT METHOD"
   ]
  },
  {
   "cell_type": "code",
   "execution_count": 237,
   "metadata": {},
   "outputs": [],
   "source": [
    "df_new=df_m.loc[df_m[\"bhk\"]<=11]"
   ]
  },
  {
   "cell_type": "code",
   "execution_count": 239,
   "metadata": {},
   "outputs": [
    {
     "data": {
      "text/plain": [
       "(13246, 10)"
      ]
     },
     "execution_count": 239,
     "metadata": {},
     "output_type": "execute_result"
    }
   ],
   "source": [
    "df_m.shape"
   ]
  },
  {
   "cell_type": "code",
   "execution_count": 238,
   "metadata": {},
   "outputs": [
    {
     "data": {
      "text/plain": [
       "(13238, 10)"
      ]
     },
     "execution_count": 238,
     "metadata": {},
     "output_type": "execute_result"
    }
   ],
   "source": [
    "df_new.shape"
   ]
  },
  {
   "cell_type": "code",
   "execution_count": 240,
   "metadata": {},
   "outputs": [
    {
     "data": {
      "image/png": "[encoded data removed]",
      "text/plain": [
       "<Figure size 1080x576 with 1 Axes>"
      ]
     },
     "metadata": {
      "needs_background": "light"
     },
     "output_type": "display_data"
    }
   ],
   "source": [
    "plt.figure(figsize=(15,8))\n",
    "sns.boxplot(y=df_new[\"total_sqft\"],x=df_new[\"bhk\"])\n",
    "plt.show()"
   ]
  },
  {
   "cell_type": "code",
   "execution_count": 260,
   "metadata": {},
   "outputs": [],
   "source": [
    "def outlier(data,bhk):\n",
    "    df_new=df_m.loc[df_m[\"bhk\"]==bhk]\n",
    "    q1=df_new[data].quantile(.25)\n",
    "    q3=df_new[data].quantile(.75)\n",
    "    iqr=q3-q1\n",
    "    lf=q1-(1.5*iqr)\n",
    "    uf=q3+(1.5*iqr)\n",
    "    return( lf,uf)"
   ]
  },
  {
   "cell_type": "code",
   "execution_count": 287,
   "metadata": {},
   "outputs": [
    {
     "data": {
      "text/plain": [
       "(225.0, 1065.0)"
      ]
     },
     "execution_count": 287,
     "metadata": {},
     "output_type": "execute_result"
    }
   ],
   "source": [
    "outlier(\"total_sqft\",1)"
   ]
  },
  {
   "cell_type": "markdown",
   "metadata": {},
   "source": [
    "# "
   ]
  },
  {
   "cell_type": "code",
   "execution_count": 251,
   "metadata": {},
   "outputs": [],
   "source": [
    "df_1=df_new.loc[df_new[\"bhk\"]==2]"
   ]
  },
  {
   "cell_type": "code",
   "execution_count": 252,
   "metadata": {},
   "outputs": [
    {
     "data": {
      "text/plain": [
       "1230.0"
      ]
     },
     "execution_count": 252,
     "metadata": {},
     "output_type": "execute_result"
    }
   ],
   "source": [
    "q3=df_1[\"total_sqft\"].quantile(.75)\n",
    "q3"
   ]
  },
  {
   "cell_type": "code",
   "execution_count": 253,
   "metadata": {},
   "outputs": [],
   "source": [
    "q1=df_1[\"total_sqft\"].quantile(.25)"
   ]
  },
  {
   "cell_type": "code",
   "execution_count": 254,
   "metadata": {},
   "outputs": [
    {
     "data": {
      "text/plain": [
       "1030.0"
      ]
     },
     "execution_count": 254,
     "metadata": {},
     "output_type": "execute_result"
    }
   ],
   "source": [
    "q1"
   ]
  },
  {
   "cell_type": "code",
   "execution_count": 255,
   "metadata": {},
   "outputs": [
    {
     "data": {
      "text/plain": [
       "200.0"
      ]
     },
     "execution_count": 255,
     "metadata": {},
     "output_type": "execute_result"
    }
   ],
   "source": [
    "iqr=q3-q1\n",
    "iqr"
   ]
  },
  {
   "cell_type": "code",
   "execution_count": 256,
   "metadata": {},
   "outputs": [],
   "source": [
    "lower_fence=q1-(1.5*iqr)"
   ]
  },
  {
   "cell_type": "code",
   "execution_count": 257,
   "metadata": {},
   "outputs": [
    {
     "data": {
      "text/plain": [
       "730.0"
      ]
     },
     "execution_count": 257,
     "metadata": {},
     "output_type": "execute_result"
    }
   ],
   "source": [
    "lower_fence"
   ]
  },
  {
   "cell_type": "code",
   "execution_count": 258,
   "metadata": {},
   "outputs": [],
   "source": [
    "upper_fence=q3+1.5*iqr"
   ]
  },
  {
   "cell_type": "code",
   "execution_count": 259,
   "metadata": {},
   "outputs": [
    {
     "data": {
      "text/plain": [
       "1530.0"
      ]
     },
     "execution_count": 259,
     "metadata": {},
     "output_type": "execute_result"
    }
   ],
   "source": [
    "upper_fence"
   ]
  },
  {
   "cell_type": "code",
   "execution_count": 223,
   "metadata": {},
   "outputs": [
    {
     "data": {
      "text/plain": [
       "(13320, 10)"
      ]
     },
     "execution_count": 223,
     "metadata": {},
     "output_type": "execute_result"
    }
   ],
   "source": [
    "df.shape"
   ]
  },
  {
   "cell_type": "code",
   "execution_count": 220,
   "metadata": {},
   "outputs": [
    {
     "data": {
      "text/plain": [
       "(13246, 10)"
      ]
     },
     "execution_count": 220,
     "metadata": {},
     "output_type": "execute_result"
    }
   ],
   "source": [
    "df_m.shape"
   ]
  },
  {
   "cell_type": "code",
   "execution_count": 226,
   "metadata": {},
   "outputs": [],
   "source": [
    "df_o=df_m.loc[(df_m[\"total_sqft\"]>230.0) & (df_m[\"total_sqft\"]<=11500)]"
   ]
  },
  {
   "cell_type": "code",
   "execution_count": 227,
   "metadata": {},
   "outputs": [
    {
     "data": {
      "text/plain": [
       "(13207, 10)"
      ]
     },
     "execution_count": 227,
     "metadata": {},
     "output_type": "execute_result"
    }
   ],
   "source": [
    "df_o.shape"
   ]
  },
  {
   "cell_type": "code",
   "execution_count": 338,
   "metadata": {},
   "outputs": [],
   "source": [
    "q1=df_o[\"bhk\"].quantile(.25)\n",
    "q3=df_o[\"bhk\"].quantile(.75)\n",
    "\n",
    "lf_bhk=q1-1.5*(q3-q1)\n",
    "uf_bhk=q3+1.5*(q3-q1)"
   ]
  },
  {
   "cell_type": "code",
   "execution_count": 339,
   "metadata": {},
   "outputs": [
    {
     "name": "stdout",
     "output_type": "stream",
     "text": [
      "2.0 3.0 0.5 4.5\n"
     ]
    }
   ],
   "source": [
    "print(q1,q3,lf_bhk,uf_bhk)"
   ]
  },
  {
   "cell_type": "code",
   "execution_count": 340,
   "metadata": {},
   "outputs": [],
   "source": [
    "df_final=df_o[(df_o[\"bhk\"]>0) & (df_o[\"bhk\"]<=5)]"
   ]
  },
  {
   "cell_type": "code",
   "execution_count": 341,
   "metadata": {},
   "outputs": [],
   "source": [
    "q1=df_final[\"bath\"].quantile(.25)\n",
    "q3=df_final[\"bath\"].quantile(.75)"
   ]
  },
  {
   "cell_type": "code",
   "execution_count": 342,
   "metadata": {},
   "outputs": [],
   "source": [
    "lf=q1-(1.5*(q3-q1))"
   ]
  },
  {
   "cell_type": "code",
   "execution_count": 343,
   "metadata": {},
   "outputs": [
    {
     "data": {
      "text/plain": [
       "0.5"
      ]
     },
     "execution_count": 343,
     "metadata": {},
     "output_type": "execute_result"
    }
   ],
   "source": [
    "lf"
   ]
  },
  {
   "cell_type": "code",
   "execution_count": 344,
   "metadata": {},
   "outputs": [],
   "source": [
    "uf=q3+(1.5*(q3-q1))\n"
   ]
  },
  {
   "cell_type": "code",
   "execution_count": 345,
   "metadata": {},
   "outputs": [],
   "source": [
    "df_final=df_final[df_final[\"bath\"]<=5]"
   ]
  },
  {
   "cell_type": "code",
   "execution_count": 346,
   "metadata": {},
   "outputs": [],
   "source": [
    "q1=df_final[\"balcony\"].quantile(.25)\n",
    "q3=df_final[\"balcony\"].quantile(.75)"
   ]
  },
  {
   "cell_type": "code",
   "execution_count": 347,
   "metadata": {},
   "outputs": [],
   "source": [
    "uf_bal=q3+(1.5*(q3-q1))"
   ]
  },
  {
   "cell_type": "code",
   "execution_count": 348,
   "metadata": {
    "scrolled": true
   },
   "outputs": [
    {
     "data": {
      "text/plain": [
       "3.5"
      ]
     },
     "execution_count": 348,
     "metadata": {},
     "output_type": "execute_result"
    }
   ],
   "source": [
    "uf_bal"
   ]
  },
  {
   "cell_type": "code",
   "execution_count": 349,
   "metadata": {},
   "outputs": [],
   "source": [
    "df_final=df_final[df_final[\"balcony\"]<=4]"
   ]
  },
  {
   "cell_type": "code",
   "execution_count": 351,
   "metadata": {},
   "outputs": [
    {
     "data": {
      "text/plain": [
       "(11732, 8)"
      ]
     },
     "execution_count": 351,
     "metadata": {},
     "output_type": "execute_result"
    }
   ],
   "source": [
    "df_final.shape"
   ]
  },
  {
   "cell_type": "code",
   "execution_count": 352,
   "metadata": {},
   "outputs": [
    {
     "data": {
      "text/html": [
       "<div>\n",
       "<style scoped>\n",
       "    .dataframe tbody tr th:only-of-type {\n",
       "        vertical-align: middle;\n",
       "    }\n",
       "\n",
       "    .dataframe tbody tr th {\n",
       "        vertical-align: top;\n",
       "    }\n",
       "\n",
       "    .dataframe thead th {\n",
       "        text-align: right;\n",
       "    }\n",
       "</style>\n",
       "<table border=\"1\" class=\"dataframe\">\n",
       "  <thead>\n",
       "    <tr style=\"text-align: right;\">\n",
       "      <th></th>\n",
       "      <th>area_type</th>\n",
       "      <th>availability</th>\n",
       "      <th>location</th>\n",
       "      <th>total_sqft</th>\n",
       "      <th>bath</th>\n",
       "      <th>balcony</th>\n",
       "      <th>price</th>\n",
       "      <th>bhk</th>\n",
       "    </tr>\n",
       "  </thead>\n",
       "  <tbody>\n",
       "    <tr>\n",
       "      <th>0</th>\n",
       "      <td>Super built-up  Area</td>\n",
       "      <td>19-Dec</td>\n",
       "      <td>Electronic City Phase II</td>\n",
       "      <td>1056.0</td>\n",
       "      <td>2.0</td>\n",
       "      <td>1.0</td>\n",
       "      <td>39.07</td>\n",
       "      <td>2.0</td>\n",
       "    </tr>\n",
       "    <tr>\n",
       "      <th>2</th>\n",
       "      <td>Built-up  Area</td>\n",
       "      <td>Ready To Move</td>\n",
       "      <td>Uttarahalli</td>\n",
       "      <td>1440.0</td>\n",
       "      <td>2.0</td>\n",
       "      <td>3.0</td>\n",
       "      <td>62.00</td>\n",
       "      <td>3.0</td>\n",
       "    </tr>\n",
       "    <tr>\n",
       "      <th>3</th>\n",
       "      <td>Super built-up  Area</td>\n",
       "      <td>Ready To Move</td>\n",
       "      <td>Lingadheeranahalli</td>\n",
       "      <td>1521.0</td>\n",
       "      <td>3.0</td>\n",
       "      <td>1.0</td>\n",
       "      <td>95.00</td>\n",
       "      <td>3.0</td>\n",
       "    </tr>\n",
       "    <tr>\n",
       "      <th>4</th>\n",
       "      <td>Super built-up  Area</td>\n",
       "      <td>Ready To Move</td>\n",
       "      <td>Kothanur</td>\n",
       "      <td>1200.0</td>\n",
       "      <td>2.0</td>\n",
       "      <td>1.0</td>\n",
       "      <td>51.00</td>\n",
       "      <td>2.0</td>\n",
       "    </tr>\n",
       "    <tr>\n",
       "      <th>5</th>\n",
       "      <td>Super built-up  Area</td>\n",
       "      <td>Ready To Move</td>\n",
       "      <td>Whitefield</td>\n",
       "      <td>1170.0</td>\n",
       "      <td>2.0</td>\n",
       "      <td>1.0</td>\n",
       "      <td>38.00</td>\n",
       "      <td>2.0</td>\n",
       "    </tr>\n",
       "  </tbody>\n",
       "</table>\n",
       "</div>"
      ],
      "text/plain": [
       "              area_type   availability                  location  total_sqft  \\\n",
       "0  Super built-up  Area         19-Dec  Electronic City Phase II      1056.0   \n",
       "2        Built-up  Area  Ready To Move               Uttarahalli      1440.0   \n",
       "3  Super built-up  Area  Ready To Move        Lingadheeranahalli      1521.0   \n",
       "4  Super built-up  Area  Ready To Move                  Kothanur      1200.0   \n",
       "5  Super built-up  Area  Ready To Move                Whitefield      1170.0   \n",
       "\n",
       "   bath  balcony  price  bhk  \n",
       "0   2.0      1.0  39.07  2.0  \n",
       "2   2.0      3.0  62.00  3.0  \n",
       "3   3.0      1.0  95.00  3.0  \n",
       "4   2.0      1.0  51.00  2.0  \n",
       "5   2.0      1.0  38.00  2.0  "
      ]
     },
     "execution_count": 352,
     "metadata": {},
     "output_type": "execute_result"
    }
   ],
   "source": [
    "df_final.head()"
   ]
  },
  {
   "cell_type": "markdown",
   "metadata": {},
   "source": [
    "# PART-C HANDLING CATEGORICAL FEATURE"
   ]
  },
  {
   "cell_type": "markdown",
   "metadata": {},
   "source": [
    "### METHOD-1 ENCODE CATEGORICAL LABELS INTO NUMERICAL VALUES"
   ]
  },
  {
   "cell_type": "markdown",
   "metadata": {},
   "source": [
    "### drop unwanted nominal features , as they are not contributing in the price prediction"
   ]
  },
  {
   "cell_type": "code",
   "execution_count": null,
   "metadata": {},
   "outputs": [],
   "source": []
  },
  {
   "cell_type": "code",
   "execution_count": 353,
   "metadata": {},
   "outputs": [],
   "source": [
    "df_final=df_final.drop([\"availability\"],axis=1)"
   ]
  },
  {
   "cell_type": "code",
   "execution_count": 354,
   "metadata": {},
   "outputs": [
    {
     "data": {
      "text/html": [
       "<div>\n",
       "<style scoped>\n",
       "    .dataframe tbody tr th:only-of-type {\n",
       "        vertical-align: middle;\n",
       "    }\n",
       "\n",
       "    .dataframe tbody tr th {\n",
       "        vertical-align: top;\n",
       "    }\n",
       "\n",
       "    .dataframe thead th {\n",
       "        text-align: right;\n",
       "    }\n",
       "</style>\n",
       "<table border=\"1\" class=\"dataframe\">\n",
       "  <thead>\n",
       "    <tr style=\"text-align: right;\">\n",
       "      <th></th>\n",
       "      <th>area_type</th>\n",
       "      <th>location</th>\n",
       "      <th>total_sqft</th>\n",
       "      <th>bath</th>\n",
       "      <th>balcony</th>\n",
       "      <th>price</th>\n",
       "      <th>bhk</th>\n",
       "    </tr>\n",
       "  </thead>\n",
       "  <tbody>\n",
       "    <tr>\n",
       "      <th>0</th>\n",
       "      <td>Super built-up  Area</td>\n",
       "      <td>Electronic City Phase II</td>\n",
       "      <td>1056.0</td>\n",
       "      <td>2.0</td>\n",
       "      <td>1.0</td>\n",
       "      <td>39.07</td>\n",
       "      <td>2.0</td>\n",
       "    </tr>\n",
       "    <tr>\n",
       "      <th>2</th>\n",
       "      <td>Built-up  Area</td>\n",
       "      <td>Uttarahalli</td>\n",
       "      <td>1440.0</td>\n",
       "      <td>2.0</td>\n",
       "      <td>3.0</td>\n",
       "      <td>62.00</td>\n",
       "      <td>3.0</td>\n",
       "    </tr>\n",
       "    <tr>\n",
       "      <th>3</th>\n",
       "      <td>Super built-up  Area</td>\n",
       "      <td>Lingadheeranahalli</td>\n",
       "      <td>1521.0</td>\n",
       "      <td>3.0</td>\n",
       "      <td>1.0</td>\n",
       "      <td>95.00</td>\n",
       "      <td>3.0</td>\n",
       "    </tr>\n",
       "    <tr>\n",
       "      <th>4</th>\n",
       "      <td>Super built-up  Area</td>\n",
       "      <td>Kothanur</td>\n",
       "      <td>1200.0</td>\n",
       "      <td>2.0</td>\n",
       "      <td>1.0</td>\n",
       "      <td>51.00</td>\n",
       "      <td>2.0</td>\n",
       "    </tr>\n",
       "    <tr>\n",
       "      <th>5</th>\n",
       "      <td>Super built-up  Area</td>\n",
       "      <td>Whitefield</td>\n",
       "      <td>1170.0</td>\n",
       "      <td>2.0</td>\n",
       "      <td>1.0</td>\n",
       "      <td>38.00</td>\n",
       "      <td>2.0</td>\n",
       "    </tr>\n",
       "  </tbody>\n",
       "</table>\n",
       "</div>"
      ],
      "text/plain": [
       "              area_type                  location  total_sqft  bath  balcony  \\\n",
       "0  Super built-up  Area  Electronic City Phase II      1056.0   2.0      1.0   \n",
       "2        Built-up  Area               Uttarahalli      1440.0   2.0      3.0   \n",
       "3  Super built-up  Area        Lingadheeranahalli      1521.0   3.0      1.0   \n",
       "4  Super built-up  Area                  Kothanur      1200.0   2.0      1.0   \n",
       "5  Super built-up  Area                Whitefield      1170.0   2.0      1.0   \n",
       "\n",
       "   price  bhk  \n",
       "0  39.07  2.0  \n",
       "2  62.00  3.0  \n",
       "3  95.00  3.0  \n",
       "4  51.00  2.0  \n",
       "5  38.00  2.0  "
      ]
     },
     "execution_count": 354,
     "metadata": {},
     "output_type": "execute_result"
    }
   ],
   "source": [
    "df_final.head()"
   ]
  },
  {
   "cell_type": "code",
   "execution_count": 355,
   "metadata": {},
   "outputs": [
    {
     "data": {
      "text/plain": [
       "1175"
      ]
     },
     "execution_count": 355,
     "metadata": {},
     "output_type": "execute_result"
    }
   ],
   "source": [
    "df_final[\"location\"].nunique()"
   ]
  },
  {
   "cell_type": "code",
   "execution_count": 374,
   "metadata": {},
   "outputs": [],
   "source": [
    "pd.set_option(\"display.max_rows\",1000)"
   ]
  },
  {
   "cell_type": "code",
   "execution_count": 371,
   "metadata": {},
   "outputs": [
    {
     "data": {
      "text/plain": [
       "Whitefield                                            446\n",
       "Sarjapur  Road                                        343\n",
       "Electronic City                                       300\n",
       "Kanakpura Road                                        267\n",
       "Thanisandra                                           224\n",
       "Yelahanka                                             191\n",
       "Uttarahalli                                           178\n",
       "Raja Rajeshwari Nagar                                 163\n",
       "Marathahalli                                          156\n",
       "Hennur Road                                           144\n",
       "Bannerghatta Road                                     140\n",
       "7th Phase JP Nagar                                    137\n",
       "Haralur Road                                          131\n",
       "Hebbal                                                130\n",
       "Electronic City Phase II                              130\n",
       "Chandapura                                             97\n",
       "Bellandur                                              89\n",
       "Electronics City Phase 1                               87\n",
       "Hoodi                                                  82\n",
       "Begur Road                                             81\n",
       "Rajaji Nagar                                           80\n",
       "Yeshwanthpur                                           79\n",
       "KR Puram                                               77\n",
       "Kasavanhalli                                           73\n",
       "Harlur                                                 73\n",
       "Hosa Road                                              71\n",
       "Hormavu                                                70\n",
       "Banashankari                                           70\n",
       "Varthur                                                68\n",
       "Sarjapur                                               67\n",
       "Kengeri                                                67\n",
       "Ramamurthy Nagar                                       63\n",
       "Kaggadasapura                                          63\n",
       "Koramangala                                            63\n",
       "Nagarbhavi                                             62\n",
       "Jakkur                                                 62\n",
       "Akshaya Nagar                                          61\n",
       "Kothanur                                               59\n",
       "JP Nagar                                               56\n",
       "TC Palaya                                              55\n",
       "Budigere                                               54\n",
       "Hennur                                                 53\n",
       "8th Phase JP Nagar                                     52\n",
       "Panathur                                               51\n",
       "Rachenahalli                                           51\n",
       "Old Madras Road                                        51\n",
       "Bisuvanahalli                                          51\n",
       "Jigani                                                 50\n",
       "Jalahalli                                              50\n",
       "Hulimavu                                               49\n",
       "Thigalarapalya                                         49\n",
       "Bhoganhalli                                            49\n",
       "Mysore Road                                            48\n",
       "HSR Layout                                             47\n",
       "Gottigere                                              46\n",
       "Balagere                                               45\n",
       "Ramagondanahalli                                       45\n",
       "Kundalahalli                                           45\n",
       "Malleshwaram                                           43\n",
       "CV Raman Nagar                                         43\n",
       "Hosur Road                                             43\n",
       "Subramanyapura                                         42\n",
       "Kanakapura                                             42\n",
       "Hegde Nagar                                            42\n",
       "Vittasandra                                            42\n",
       "Horamavu Agara                                         41\n",
       "Attibele                                               41\n",
       "Brookefield                                            41\n",
       "Kengeri Satellite Town                                 39\n",
       "Yelahanka New Town                                     39\n",
       "Talaghattapura                                         39\n",
       "Sahakara Nagar                                         38\n",
       "Devanahalli                                            38\n",
       "Kadugodi                                               37\n",
       "Kudlu Gate                                             37\n",
       "Anekal                                                 36\n",
       "Bommasandra                                            36\n",
       "Vijayanagar                                            36\n",
       "Channasandra                                           35\n",
       "Lakshminarayana Pura                                   35\n",
       "Green Glen Layout                                      35\n",
       "9th Phase JP Nagar                                     35\n",
       "Vidyaranyapura                                         34\n",
       "Indira Nagar                                           34\n",
       "5th Phase JP Nagar                                     34\n",
       "Kalena Agrahara                                        33\n",
       "Bommanahalli                                           32\n",
       "Tumkur Road                                            32\n",
       "Doddathoguru                                           30\n",
       "Chikkalasandra                                         30\n",
       "Ananth Nagar                                           30\n",
       "Mahadevpura                                            29\n",
       "Kudlu                                                  29\n",
       "R.T. Nagar                                             29\n",
       "Somasundara Palya                                      28\n",
       "Kammasandra                                            28\n",
       "Basavangudi                                            28\n",
       "Dodda Nekkundi                                         27\n",
       "Horamavu Banaswadi                                     27\n",
       "Anandapura                                             26\n",
       "Margondanahalli                                        26\n",
       "Hosakerehalli                                          26\n",
       "BTM 2nd Stage                                          26\n",
       "Hebbal Kempapura                                       25\n",
       "Bommasandra Industrial Area                            25\n",
       "Babusapalaya                                           24\n",
       "Choodasandra                                           24\n",
       "Kambipura                                              24\n",
       "Kothannur                                              24\n",
       "Ambalipura                                             24\n",
       "Ambedkar Nagar                                         24\n",
       "Frazer Town                                            23\n",
       "Lingadheeranahalli                                     23\n",
       "Singasandra                                            23\n",
       "Magadi Road                                            23\n",
       "Gubbalala                                              22\n",
       "Sonnenahalli                                           22\n",
       "Kodichikkanahalli                                      22\n",
       "Padmanabhanagar                                        22\n",
       "Kathriguppe                                            22\n",
       "Amruthahalli                                           22\n",
       "Battarahalli                                           22\n",
       "Banashankari Stage III                                 22\n",
       "Kogilu                                                 21\n",
       "Kaval Byrasandra                                       21\n",
       "Hoskote                                                21\n",
       "6th Phase JP Nagar                                     21\n",
       "Gunjur                                                 21\n",
       "Rayasandra                                             20\n",
       "Yelachenahalli                                         20\n",
       "1st Phase JP Nagar                                     20\n",
       "Domlur                                                 20\n",
       "Abbigere                                               20\n",
       "Poorna Pragna Layout                                   19\n",
       "Thubarahalli                                           19\n",
       "2nd Stage Nagarbhavi                                   19\n",
       "Kumaraswami Layout                                     19\n",
       "Ardendale                                              19\n",
       "EPIP Zone                                              18\n",
       "Seegehalli                                             18\n",
       "Kaggalipura                                            18\n",
       "Sanjay nagar                                           18\n",
       "HBR Layout                                             18\n",
       "Pai Layout                                             18\n",
       "OMBR Layout                                            18\n",
       "Binny Pete                                             18\n",
       "Nagavara                                               17\n",
       "Billekahalli                                           17\n",
       "Munnekollal                                            17\n",
       "Kannamangala                                           17\n",
       "Garudachar Palya                                       17\n",
       "Mallasandra                                            16\n",
       "Dasanapura                                             16\n",
       "Basaveshwara Nagar                                     16\n",
       "Ulsoor                                                 16\n",
       "HRBR Layout                                            16\n",
       "Kaikondrahalli                                         16\n",
       "Dasarahalli                                            16\n",
       "Kasturi Nagar                                          16\n",
       "Parappana Agrahara                                     16\n",
       "Malleshpalya                                           16\n",
       "Kenchenahalli                                          16\n",
       "Anjanapura                                             16\n",
       "Kereguddadahalli                                       15\n",
       "Begur                                                  15\n",
       "Sector 2 HSR Layout                                    15\n",
       "BTM Layout                                             15\n",
       "Nagavarapalya                                          15\n",
       "Kalyan nagar                                           15\n",
       "Sarjapura - Attibele Road                              15\n",
       " Devarachikkanahalli                                   14\n",
       "NGR Layout                                             14\n",
       "Arekere                                                14\n",
       "Bannerghatta                                           14\n",
       "Jalahalli East                                         14\n",
       "Banashankari Stage II                                  14\n",
       "Doddakallasandra                                       14\n",
       "Varthur Road                                           14\n",
       "Yelenahalli                                            13\n",
       "NRI Layout                                             13\n",
       "Kodigehaali                                            13\n",
       "Kammanahalli                                           13\n",
       "BEML Layout                                            13\n",
       "Gollarapalya Hosahalli                                 13\n",
       "Rajiv Nagar                                            13\n",
       "Old Airport Road                                       13\n",
       "Murugeshpalya                                          12\n",
       "Sompura                                                12\n",
       "Banaswadi                                              12\n",
       "Banashankari Stage V                                   12\n",
       "Badavala Nagar                                         12\n",
       "Prithvi Layout                                         12\n",
       "AECS Layout                                            12\n",
       "Banashankari Stage VI                                  12\n",
       "Bharathi Nagar                                         12\n",
       "Cox Town                                               12\n",
       "Vasanthapura                                           12\n",
       "Dommasandra                                            12\n",
       "GM Palaya                                              12\n",
       "Chamrajpet                                             12\n",
       "Judicial Layout                                        12\n",
       "Chikkabanavar                                          11\n",
       "Pattandur Agrahara                                     11\n",
       "Sector 7 HSR Layout                                    11\n",
       "Narayanapura                                           11\n",
       "Marsur                                                 11\n",
       "Karuna Nagar                                           11\n",
       "Sultan Palaya                                          11\n",
       "2nd Phase Judicial Layout                              11\n",
       "Shivaji Nagar                                          11\n",
       "Kadubeesanahalli                                       11\n",
       "Nehru Nagar                                            11\n",
       "Iblur Village                                          11\n",
       "Tindlu                                                 10\n",
       "Banjara Layout                                         10\n",
       "Kodigehalli                                            10\n",
       "Ganga Nagar                                            10\n",
       "Basapura                                               10\n",
       "Nagadevanahalli                                        10\n",
       "ISRO Layout                                            10\n",
       "Bommenahalli                                           10\n",
       "LB Shastri Nagar                                       10\n",
       "Mico Layout                                            10\n",
       "Gunjur Palya                                           10\n",
       "Kalkere                                                10\n",
       "Neeladri Nagar                                         10\n",
       "Nagappa Reddy Layout                                   10\n",
       "ITPL                                                   10\n",
       "Cooke Town                                             10\n",
       "Gollahalli                                              9\n",
       "Shampura                                                9\n",
       "Richmond Town                                           9\n",
       "B Narayanapura                                          9\n",
       "Sarakki Nagar                                           9\n",
       "KUDLU MAIN ROAD                                         9\n",
       "Benson Town                                             9\n",
       "Volagerekallahalli                                      9\n",
       "Vishwapriya Layout                                      9\n",
       "Laggere                                                 9\n",
       "Thyagaraja Nagar                                        9\n",
       "Vignana Nagar                                           9\n",
       "Chennammana Kere                                        9\n",
       "Peenya                                                  9\n",
       "Seetharampalya                                          8\n",
       "Reliaable Tranquil Layout                               8\n",
       "Ejipura                                                 8\n",
       "Cambridge Layout                                        8\n",
       "Banagiri Nagar                                          8\n",
       "Thirumenahalli                                          8\n",
       "Akshayanagara East                                      8\n",
       "Kanaka Nagar                                            8\n",
       "HAL 2nd Stage                                           8\n",
       "1st Block Koramangala                                   8\n",
       "Vishwanatha Nagenahalli                                 8\n",
       "Roopena Agrahara                                        8\n",
       "1st Block Jayanagar                                     8\n",
       "Shikaripalya                                            8\n",
       "Mahalakshmi Layout                                      8\n",
       "Kaverappa Layout                                        8\n",
       "Gopalkrishna Nagar                                      8\n",
       "Sector 1 HSR Layout                                     8\n",
       "Mathikere                                               8\n",
       "Nallurhalli                                             8\n",
       "Naganathapura                                           8\n",
       "Vajarahalli                                             8\n",
       "Chandra Layout                                          8\n",
       "Jalahalli West                                          8\n",
       "Giri Nagar                                              8\n",
       "Kamakshipalya                                           8\n",
       "Dodda Nekkundi Extension                                8\n",
       "8th block Koramangala                                   7\n",
       "Konanakunte                                             7\n",
       "Doctors Layout                                          7\n",
       "Manayata Tech Park                                      7\n",
       "Austin Town                                             7\n",
       "Hoysalanagar                                            7\n",
       "Green View Layout                                       7\n",
       "HOSUR MAIN ROAD                                         7\n",
       "Kodbisanhalli                                           7\n",
       "3rd Block Hrbr Layout                                   7\n",
       "Hennur Gardens                                          7\n",
       "Lingarajapuram                                          7\n",
       "Hoodi Circle,                                           7\n",
       "BTM 1st Stage                                           7\n",
       "Sidedahalli                                             7\n",
       "Keshava Nagar                                           7\n",
       "Jeevan bima nagar                                       7\n",
       "Doddakammanahalli                                       7\n",
       "Kodihalli                                               7\n",
       "Sarjapur Road,                                          7\n",
       "Madiwala                                                7\n",
       "Akshaya Vana                                            7\n",
       "AGS Layout                                              7\n",
       "5th Block Hbr Layout                                    7\n",
       "Chikka Tirupathi                                        7\n",
       "Bank Of Baroda Colony                                   7\n",
       "Tejaswini Nagar                                         7\n",
       "Ashwath Nagar                                           7\n",
       "Huskur                                                  7\n",
       "Byrasandra                                              7\n",
       "Nagasandra                                              7\n",
       "Ambedkar Colony                                         7\n",
       "Ittamadu                                                7\n",
       "Vishveshwarya Layout                                    7\n",
       "4th Block Koramangala                                   7\n",
       "Victoria Layout                                         7\n",
       "Canara Bank Colony                                      7\n",
       "Bagalakunte                                             6\n",
       "Suraksha Nagar                                          6\n",
       "Jakkur Plantation                                       6\n",
       "Basaveshwara Nagar Yelahanka                            6\n",
       "Vijaya Bank Layout                                      6\n",
       "Ashirvad Colony                                         6\n",
       "Jayanagar                                               6\n",
       "Rajiv Gandhi Nagar                                      6\n",
       "Shree Ananth Nagar Layout                               6\n",
       "Dodsworth Layout                                        6\n",
       "Channasandra Layout                                     6\n",
       "Byrathi Village                                         6\n",
       "Singapura Village                                       6\n",
       "Hessarghatta                                            6\n",
       "Basavanapura                                            6\n",
       "Ashwathnagar                                            6\n",
       "Abbaiah Reddy Layout                                    6\n",
       "Nelamangala                                             6\n",
       "Kacharakanahalli                                        6\n",
       "Shanti Nagar                                            6\n",
       "Maruthi Sevanagar                                       6\n",
       "Motappa Layout                                          6\n",
       "4th T block Jayanagar                                   6\n",
       "Mahalakshmi Puram                                       6\n",
       "Doddaballapur                                           6\n",
       "Varanasi                                                6\n",
       "Byatarayanapura                                         6\n",
       "RMV 2nd Stage                                           6\n",
       "Cholanayakanahalli                                      6\n",
       "Doddanakundi Industrial Area 2                          6\n",
       " Devarabeesana Halli                                    6\n",
       "Samethanahalli                                          6\n",
       "Bhuvaneshwari Nagar                                     6\n",
       "Maragondanahalli                                        6\n",
       "Devasthanagalu                                          6\n",
       "Medahalli                                               6\n",
       "Rustam Bagh Layout                                      6\n",
       "ITI Layout                                              5\n",
       "Dodda Banaswadi                                         5\n",
       "Byagadadhenahalli                                       5\n",
       "Carmelaram                                              5\n",
       "Jakkuru Layout                                          5\n",
       "Stage-4 Bommanahalli                                    5\n",
       "Belathur                                                5\n",
       "Amruthnagar                                             5\n",
       "Hennur Bande                                            5\n",
       "RMV Extension                                           5\n",
       "Doddabanahalli                                          5\n",
       "Doddakannelli                                           5\n",
       "VGP Layout                                              5\n",
       "Doopanahalli                                            5\n",
       "Bagalur                                                 5\n",
       "Silk Board                                              5\n",
       "Kada Agrahara                                           5\n",
       "Doddanekundi                                            5\n",
       "Dairy Circle                                            5\n",
       "Pattanagere                                             5\n",
       "Chikkadunnasandra                                       5\n",
       "Maithri Layout                                          5\n",
       "Outer Ring Road East                                    5\n",
       "Kundalahalli Colony                                     5\n",
       "Devi Nagar                                              5\n",
       "Coconut Grove Layout                                    5\n",
       "Kadabagere                                              5\n",
       "A Narayanapura                                          5\n",
       "Kurubarahalli                                           5\n",
       "Shantiniketan Layout                                    5\n",
       "Ramanjaneyanagar                                        5\n",
       "Raghuvanahalli                                          5\n",
       "KR Garden                                               5\n",
       "Richards Town                                           5\n",
       "Mallathahalli                                           5\n",
       "New Thippasandra                                        5\n",
       "2nd Block Hrbr Layout                                   5\n",
       "1st Block HRBR Layout                                   5\n",
       "Srinivasa Nagar                                         5\n",
       "MS Pallya                                               5\n",
       "Kallumantapa                                            5\n",
       "Vasantha Vallabha Nagar                                 5\n",
       "Nagaraja Garden                                         5\n",
       "Virat Nagar                                             5\n",
       "Hongasandra                                             5\n",
       "2nd Phase JP Nagar                                      5\n",
       "Chinnapanahalli                                         4\n",
       "Jnanabharathi Layout                                    4\n",
       "AMS Layout                                              4\n",
       "Off Sarjapur Road,                                      4\n",
       "Tala Cauvery Layout                                     4\n",
       "Vinayaka Nagar                                          4\n",
       "Maruthi Nagar                                           4\n",
       "Glass Factory Layout                                    4\n",
       "Lake City                                               4\n",
       "Nagondanahalli                                          4\n",
       "Doddagubbi                                              4\n",
       "Kumarapalli                                             4\n",
       "Govindpura                                              4\n",
       "BSM Extension                                           4\n",
       "Kumara Park                                             4\n",
       "Immadihalli                                             4\n",
       "Udaya Nagar                                             4\n",
       "4th Phase JP Nagar                                      4\n",
       "3rd Block Banashankari                                  4\n",
       "1st Stage Indira Nagar                                  4\n",
       "Kattigenahalli                                          4\n",
       "Brooke Bond First Cross                                 4\n",
       "7th Block Jayanagar                                     4\n",
       "Raja Rajeshwari Nagar 5th Stage                         4\n",
       "Ramamurthy Nagar Extension                              4\n",
       "Doddabommasandra                                        4\n",
       "Hiremath Layout                                         4\n",
       "Sai Gardens                                             4\n",
       "Anand Nagar                                             4\n",
       "Lavakusha Nagar                                         4\n",
       "Chennappa Layout                                        4\n",
       "Pragathi Nagar                                          4\n",
       "Sunkadakatte                                            4\n",
       "Puttanahalli                                            4\n",
       "Divya Unnathi Layout                                    4\n",
       "Suddaguntepalya                                         4\n",
       "Udayapur Village                                        4\n",
       "Basavanagara                                            4\n",
       "Jakkasandra Extension                                   4\n",
       "Dollars Colony                                          4\n",
       "Nagawara Junction                                       4\n",
       "Cottonpet                                               4\n",
       "Nyanappana Halli                                        4\n",
       "Judicial Layout, Kanakapura Road,                       4\n",
       "HMT Layout                                              4\n",
       "Wilson Garden                                           4\n",
       "Bellari Road                                            4\n",
       "6th block Koramangala                                   4\n",
       "Chelekare                                               4\n",
       " Mysore Highway                                         4\n",
       "Tata Nagar                                              4\n",
       "Nagashetty Halli                                        4\n",
       "Avalahalli                                              4\n",
       "Akshya Nagar                                            4\n",
       "Poornapragna Housing Society Layout                     4\n",
       "Geddalahalli                                            4\n",
       "Dooravani Nagar                                         4\n",
       "JCR Layout                                              4\n",
       "Chikkathoguru                                           4\n",
       "Amblipura                                               4\n",
       "Gopalapura                                              4\n",
       "Vasanth nagar                                           4\n",
       "Alfa Garden Layout                                      4\n",
       "Silver Springs Layout                                   4\n",
       "tc.palya                                                4\n",
       "MCECHS  layout                                          4\n",
       "Srirampuram                                             4\n",
       "Yemlur                                                  4\n",
       "Lavelle Road                                            4\n",
       "Hanumanth Nagar                                         4\n",
       "Basavanna Nagar                                         4\n",
       "Kodathi                                                 4\n",
       "RWF West Colony                                         4\n",
       "Lakshmipura                                             3\n",
       "Tunganagara                                             3\n",
       "Jayanti Nagar                                           3\n",
       "SMV layout                                              3\n",
       "Pampa Extension                                         3\n",
       "Sarvabhouma Nagar                                       3\n",
       "4th Block Jayanagar                                     3\n",
       "Gkvk Layout                                             3\n",
       "Belatur                                                 3\n",
       "Venugopal Reddy Layout                                  3\n",
       "Harsha Layout                                           3\n",
       "OLd Gurappanapalya                                      3\n",
       "Tasker Town                                             3\n",
       "Vimanapura                                              3\n",
       "Vishwapriya Nagar                                       3\n",
       "Bhagyalakshmi Avenue                                    3\n",
       "Rajarajeshwari nagar                                    3\n",
       "Ayappa Nagar                                            3\n",
       "Kenchenhalli                                            3\n",
       "Kaveri Nagar                                            3\n",
       "Shettigere                                              3\n",
       "Anantapura                                              3\n",
       "BEL Road                                                3\n",
       "Kithaganur                                              3\n",
       "Nandini Layout                                          3\n",
       "Kengeri Hobli                                           3\n",
       "B Channasandra                                          3\n",
       "Laxmi Sagar Layout                                      3\n",
       "Arehalli                                                3\n",
       "Jinkethimmanahalli                                      3\n",
       "Kachanayakanahalli                                      3\n",
       "Domlur Layout                                           3\n",
       "9th Block Jayanagar                                     3\n",
       "Manorayana Palya                                        3\n",
       " Thanisandra                                            3\n",
       "Hegganahalli                                            3\n",
       "Ferrar Nagar                                            3\n",
       "Thippasandra                                            3\n",
       "Sanne Amanikere                                         3\n",
       "Gokula Extension                                        3\n",
       "Alur                                                    3\n",
       "Gulimangala                                             3\n",
       "2nd Stage Arekere Mico Layout                           3\n",
       "Thurahalli                                              3\n",
       "Raghavendra Nagar                                       3\n",
       "Sathya Layout                                           3\n",
       "Kammagondahalli                                         3\n",
       "Jayamahal                                               3\n",
       "Kadugondanahalli                                        3\n",
       "Basava Nagar                                            3\n",
       "Canara Bank Layout                                      3\n",
       "Manjunath Nagar                                         3\n",
       "Mangammanapalya                                         3\n",
       "Singena Agrahara                                        3\n",
       "Hosahalli Extension                                     3\n",
       "Defence Colony                                          3\n",
       "Nanjappa Layout                                         3\n",
       "T.C PALYA                                               3\n",
       "Sadaramangala                                           3\n",
       "Venkatapura                                             3\n",
       "Brindavan Nagar                                         3\n",
       "Krishna Reddy Layout                                    3\n",
       "Ashwini layout                                          3\n",
       "Herohalli                                               3\n",
       "Shanthala Nagar                                         3\n",
       "Tirumanahalli                                           3\n",
       "Jnana Ganga Nagar                                       3\n",
       "Anjappa Layout                                          3\n",
       "Gattahalli                                              3\n",
       "Shankarapuram                                           3\n",
       "VHBCS Layout                                            3\n",
       "Kashi Nagar                                             3\n",
       "Narayana Nagar 1st Block                                3\n",
       "KSRTC Layout                                            3\n",
       "BTM 4th Stage                                           3\n",
       "New Gurappana Palya                                     3\n",
       "Vadarpalya                                              3\n",
       "Govindapura                                             3\n",
       "Surabhi Layout                                          3\n",
       "P&T Layout                                              3\n",
       "Vinayak Nagar                                           3\n",
       "Crimson Layout                                          3\n",
       "Mylasandra                                              3\n",
       "Kuvempu Nagar                                           3\n",
       "Himagiri Meadows                                        3\n",
       "Ankappa Layout                                          3\n",
       "Singanayakanahalli                                      3\n",
       "Agrahara Dasarahalli                                    3\n",
       "Chikkasandra                                            3\n",
       "Rajarajeshwari Nagara                                   3\n",
       "3rd Block Jayanagar                                     3\n",
       "Ngef Layout                                             3\n",
       "Esther Enclave Layout                                   3\n",
       "Munivenkatppa Layout                                    3\n",
       "Daadys Gaarden Layout                                   3\n",
       "Kamala Nagar                                            3\n",
       "Adityanagar                                             3\n",
       "Venkatadri Layout                                       3\n",
       "Langford Town                                           3\n",
       "Vittal Nagar                                            3\n",
       "5th Stage BEML Layout                                   3\n",
       "Attur Layout                                            3\n",
       "Srirampura                                              3\n",
       "Hagadur                                                 3\n",
       "Virupakshapura                                          3\n",
       "Gowdanapalya                                            3\n",
       "Moodalapalya                                            3\n",
       "Bhuvaneswari Nagar                                      3\n",
       "Nayandanahalli                                          3\n",
       "Makali                                                  3\n",
       "Konanakunte Cross                                       3\n",
       "Telecom Layout                                          3\n",
       "Kirloskar Layout                                        3\n",
       "Bethel Nagar                                            3\n",
       "Seshadripuram                                           3\n",
       "Chikka Banaswadi                                        3\n",
       "Baba Nagar                                              3\n",
       "Atmananda Colony                                        3\n",
       "Siddapura                                               3\n",
       "Jayamahal Extension                                     2\n",
       "Celebrity Paradise Layout                               2\n",
       "Kyalasanahalli                                          2\n",
       "MLA Layout                                              2\n",
       "Hadosiddapura                                           2\n",
       "Chikku Lakshmaiah Layout                                2\n",
       "Hanumantha Nagar                                        2\n",
       "Marenahalli                                             2\n",
       "Challaghatta                                            2\n",
       "Rajapura                                                2\n",
       "Akshayanagara West                                      2\n",
       "Ramanashree Enclave                                     2\n",
       "Devara Jeevanahalli                                     2\n",
       "Kumbena Agrahara                                        2\n",
       "Subash Nagar                                            2\n",
       "Marasandra                                              2\n",
       "Varsova Layout                                          2\n",
       "Krishna Nagar                                           2\n",
       "Dena Bank Colony                                        2\n",
       "1st Block BEL Layout                                    2\n",
       "Kothnoor Dinne                                          2\n",
       "Shingapura                                              2\n",
       "Konena Agrahara                                         2\n",
       "Guddadahalli                                            2\n",
       "2nd Block Jayanagar                                     2\n",
       "Aishwarya Crystal Layout                                2\n",
       "Kodipalya                                               2\n",
       "Ramesh Nagar                                            2\n",
       "Palace Guttahalli                                       2\n",
       "Raghavendra Layout                                      2\n",
       "3rd Block Koramangala                                   2\n",
       "Anand nagar                                             2\n",
       "Harohalli                                               2\n",
       "Sri Sai Layout                                          2\n",
       "Bikasipura                                              2\n",
       "Electronic city Phase 1,                                2\n",
       "Nobo Nagar                                              2\n",
       "Naidu Layout                                            2\n",
       "Anugrah Layout                                          2\n",
       "Dasappa Layout                                          2\n",
       "Palace Road                                             2\n",
       "Annapurneshwari Nagar                                   2\n",
       "Near International Airport                              2\n",
       "RPC layout                                              2\n",
       "BCMC Layout                                             2\n",
       "Weavers Colony                                          2\n",
       "Ganesha Block                                           2\n",
       "Lal Bahadur Shastri Nagar                               2\n",
       "Lottegolla Halli                                        2\n",
       "3rd Phase JP Nagar                                      2\n",
       "Tigalarpalya                                            2\n",
       "Veersandra                                              2\n",
       "J C Nagar                                               2\n",
       "JP Nagar 7th Phase,                                     2\n",
       "GD Layout                                               2\n",
       "Madavara                                                2\n",
       "Rajarajeshwarinagar                                     2\n",
       "Garebhavipalya                                          2\n",
       "Ilyas Nagar                                             2\n",
       "Neelamangala                                            2\n",
       "Sampangi Rama Nagar                                     2\n",
       "Brindavan Layout                                        2\n",
       "2nd Block Bel Layout                                    2\n",
       "cooketown                                               2\n",
       "Ramchandrapuram                                         2\n",
       "Bidrahalli                                              2\n",
       "5th Block Jayanagar                                     2\n",
       "Janatha Colony                                          2\n",
       "Anjana Nagar                                            2\n",
       "Rajasree Layout                                         2\n",
       "Coffee Board Layout                                     2\n",
       "KEB Colony                                              2\n",
       "Chikkakannalli                                          2\n",
       "Yeshwanthpur Industrial Suburb                          2\n",
       "D Group Employees Layout                                2\n",
       "Whitefield,                                             2\n",
       "Kempegowda Nagar                                        2\n",
       "Vaderahalli                                             2\n",
       "Phase 1 Kammasandra                                     2\n",
       "RR Layout                                               2\n",
       "Thomas Town                                             2\n",
       "Devarachikkanahalli                                     2\n",
       " Electronic City                                        2\n",
       "Upadhyaya Layout                                        2\n",
       "Hoodi Layout                                            2\n",
       "Friends Colony                                          2\n",
       "Vijinapura                                              2\n",
       "Veerannapalya                                           2\n",
       "Mathikere Extension                                     2\n",
       "Kamakya Layout                                          2\n",
       "Harappanahalli                                          2\n",
       "Hosapalya                                               2\n",
       "Sneha Colony                                            2\n",
       "Remco Bhel Layout                                       2\n",
       "BHEL Layout                                             2\n",
       "Panduranga Nagar                                        2\n",
       "Sri Venkateshpura Layout                                2\n",
       "Omkar Nagar                                             2\n",
       "NS Palya                                                2\n",
       "Patelappa Layout                                        2\n",
       "Upkar Layout                                            2\n",
       "Someshwara Layout                                       2\n",
       "HAL 3rd Stage                                           2\n",
       "Bagalur Main Road                                       2\n",
       "Vibhutipura Extension                                   2\n",
       "Postal Colony                                           2\n",
       "SRINIVASAPURA                                           2\n",
       "Pulkeshi Nagar                                          2\n",
       "Thanisandra Main Road,                                  2\n",
       "RMV                                                     2\n",
       "Sampigehalli                                            2\n",
       "Andrahalli                                              2\n",
       "Mahaganapathy Nagar                                     2\n",
       "Amam Enclave Layout                                     2\n",
       "Srinagar                                                2\n",
       "Classic Paradise Layout                                 2\n",
       "Dodda Kempaiah Layout                                   2\n",
       "Vibuthipura                                             2\n",
       "Coconut Garden                                          2\n",
       "ECC Road, Whitefield,                                   2\n",
       "Devanahalli Int. Airport                                2\n",
       "Varthur Road,                                           2\n",
       "Kariyammana Agrahara                                    2\n",
       "KR Layout                                               2\n",
       "Hallehalli                                              2\n",
       "Annaiah Reddy Layout                                    2\n",
       "Mariyannapalya                                          2\n",
       "Green Garden Layout                                     2\n",
       "Bendiganahalli                                          2\n",
       "Devanahalli Road                                        2\n",
       "Ullal Road                                              2\n",
       "Green Woods Layout                                      2\n",
       "Shirdi Sai Layout                                       2\n",
       "Manjunatha Layout                                       2\n",
       "Lakshmi Layout                                          2\n",
       "Tavarekere                                              2\n",
       "Nandi Durga Road                                        2\n",
       "manyata park                                            2\n",
       "V.V Puram                                               2\n",
       "BCC Layout                                              2\n",
       "Chokkanahalli                                           2\n",
       "Doddabidrakallu                                         2\n",
       "T Dasarahalli                                           2\n",
       " Rachenahalli                                           2\n",
       "Kullappa Colony                                         2\n",
       "Dr Shivarama Karantha Nagar                             2\n",
       "Shanthi Layout                                          2\n",
       "Jai Bheema Nagar                                        2\n",
       "Yarandahalli                                            2\n",
       "Soundarya Layout                                        2\n",
       "Amarjyothi Colony                                       2\n",
       "Geleyara Balaga Layout                                  2\n",
       "Dollars Layout                                          2\n",
       "Chennammanakere Achukattu                               2\n",
       "Ramakrishnappa Layout                                   2\n",
       "Green Domain Layout                                     2\n",
       "Cleveland Town                                          2\n",
       "Syndicate Bank Colony                                   2\n",
       "Jyothi Nagar                                            2\n",
       "Balaji Gardens Layout                                   2\n",
       "Anwar Layout                                            2\n",
       "Dinnur                                                  2\n",
       "Bhoopsandra                                             2\n",
       "Muneshwara Nagar                                        2\n",
       "Bidadi                                                  2\n",
       "Sunder Ram Shetty Nagar                                 2\n",
       "Sri Balaji Krupa Layout                                 2\n",
       "Bettadasanapura                                         1\n",
       "Vidhyanagar Cross                                       1\n",
       "Mallappa Layout                                         1\n",
       "6th Block Jayanagar                                     1\n",
       "Kadarenahalli                                           1\n",
       "12th cross srinivas nagar banshankari 3rd stage         1\n",
       "Punappa Layout                                          1\n",
       "HSR Layout 7th sector,                                  1\n",
       "manyata                                                 1\n",
       "Tilak Nagar                                             1\n",
       "Sarvobhogam Nagar                                       1\n",
       "Kanakapura Main Road                                    1\n",
       "Somanna Garden                                          1\n",
       "Shetty Halli                                            1\n",
       "Suryanagar                                              1\n",
       "Kanakapur main road                                     1\n",
       "LIC Colony                                              1\n",
       "BTM Layout 2nd Stage 1st Phase                          1\n",
       "3rd Stage Raja Rajeshwari Nagar                         1\n",
       "Banashankari 3rd stage, Vivekanandanagar                1\n",
       "HAL Layout                                              1\n",
       "Annapoorneshwari Layout, JP nagar 7th phase             1\n",
       "Air View Colony                                         1\n",
       "elachenahalli                                           1\n",
       "Bande Nallasandra                                       1\n",
       "akshaya nagar t c palya                                 1\n",
       "Havanur extension                                       1\n",
       "mvj engineering college                                 1\n",
       "Gulakamale                                              1\n",
       "Bhattarahalli                                           1\n",
       " Basavangudi                                            1\n",
       "Raja Rajashweri Nagar                                   1\n",
       "Beml layout, Rajarajeshwari nagar                       1\n",
       "Banashankari 6th stage , 2nd block                      1\n",
       "basaveshwarnagar                                        1\n",
       "KG Halli                                                1\n",
       "Addischetan Layout                                      1\n",
       "Veerabhadra Nagar                                       1\n",
       "poornaprajna layout                                     1\n",
       "Bandepalya                                              1\n",
       "Chellikere                                              1\n",
       "Chikbasavanapura                                        1\n",
       "Byrasandra Extension                                    1\n",
       "Electronic City Phase 1,                                1\n",
       "Chuchangatta Colony                                     1\n",
       "Arishinakunte                                           1\n",
       "T C Palya main Road                                     1\n",
       "Indira Nagar Stage 2                                    1\n",
       "Jakkasandra                                             1\n",
       "Jogupalya                                               1\n",
       "Hanuman Nagar                                           1\n",
       "Subhash Nagar                                           1\n",
       "Chaitanya Ananya                                        1\n",
       "Uday Nagar                                              1\n",
       "Kengeri Satellite Town Stage II                         1\n",
       "Xavier Layout                                           1\n",
       "Hommadevanahalli                                        1\n",
       "Kengeri Satellite Town KHB Apartment                    1\n",
       "beml layout, basaveshwara nagar                         1\n",
       "T R Mill Road                                           1\n",
       "Dominic Layout                                          1\n",
       "Suragajakkanahalli                                      1\n",
       "Masjid e Alkareem                                       1\n",
       "Navodaya Nagar                                          1\n",
       "1st Block HBR Layout                                    1\n",
       "Behind Don Bosco Church                                 1\n",
       "Duddanahalli                                            1\n",
       "Sugama Layout                                           1\n",
       "Bilal Nagar                                             1\n",
       "Nagarbhavi Garden Villas Layout                         1\n",
       "KAMAKIYA                                                1\n",
       " Banaswadi                                              1\n",
       "Kanakapura main  Road                                   1\n",
       "Zuzuvadi                                                1\n",
       "Wheelers Road                                           1\n",
       "MM Layout                                               1\n",
       "Devarabeesana Halli                                     1\n",
       "Duvasapalya                                             1\n",
       "PNS Layout                                              1\n",
       "Thirupalya                                              1\n",
       "Ullal Uppanagar                                         1\n",
       "Sanjeevini Nagar                                        1\n",
       "Soppahalli                                              1\n",
       "Guni Agrahara                                           1\n",
       "Pillahalli                                              1\n",
       "Akash Nagar                                             1\n",
       "Bharat Nagar                                            1\n",
       "Prakash Nagar                                           1\n",
       "kamanahalli main road                                   1\n",
       "Virudhu Nagar                                           1\n",
       "Shauhardha Layout                                       1\n",
       "Electronic city phase 1,                                1\n",
       "Anathanagar                                             1\n",
       "Aavalahalli                                             1\n",
       "Jaraganahalli Jp Nagar Post                             1\n",
       "Maruthi nagar kogilu                                    1\n",
       "PC Palaya                                               1\n",
       "adigondanhalli                                          1\n",
       "Off Bannergatta Road                                    1\n",
       "Kathriguppe IV Phase                                    1\n",
       "Kanakapura  Rod                                         1\n",
       "MEI layout, Bagalgunte                                  1\n",
       "Chambenahalli                                           1\n",
       "Jeevanhalli                                             1\n",
       "Banashankari 6th Stage                                  1\n",
       "Sabari Nagar                                            1\n",
       "Infantry Road                                           1\n",
       "RBI Layout                                              1\n",
       "Michael Palaya                                          1\n",
       "4th Block HBR Layout                                    1\n",
       "AECS LAYOUT A-BLOCK Singasandra                         1\n",
       "Gidada Konnenahalli                                     1\n",
       "M V Extenstion                                          1\n",
       "Off Bannergatta road                                    1\n",
       "Raja Rajeshwari Nagara                                  1\n",
       "Hoskote near                                            1\n",
       "Adugodi                                                 1\n",
       "Rammana Layout                                          1\n",
       "2 Bedroom Furnished Farm House in Kolar Road            1\n",
       "Nanjappa Layout Vidyaranyapura                          1\n",
       "kg halli jalhalli west                                  1\n",
       "Vasatha Vallbha Nagar                                   1\n",
       "BAGUR ROAD                                              1\n",
       "Banashankari 2 nd Stage                                 1\n",
       "Panathur Road,                                          1\n",
       "Vivek Nagar                                             1\n",
       "Venkateswara Nagar                                      1\n",
       "Rajankunte                                              1\n",
       "Shanthi Pura                                            1\n",
       "Viviani Road                                            1\n",
       "Doctor Layout Rayasandra                                1\n",
       "Pillanna Gardens                                        1\n",
       "Gollarahatti                                            1\n",
       "Ashok Nagar                                             1\n",
       "Whitefield ECC Road                                     1\n",
       "Billamaranahalli                                        1\n",
       "Park View Layout                                        1\n",
       "Udayagiri                                               1\n",
       "Deepanjali Nagar                                        1\n",
       "Hsr layout sector3                                      1\n",
       "Thyagraj Nagar                                          1\n",
       "Banagirinagar                                           1\n",
       "Ananthapura, T C palaya Main Road                       1\n",
       "3rd Phase Iti Layout                                    1\n",
       "Medaralli                                               1\n",
       "Jagadish Nagar                                          1\n",
       "Versova Layout                                          1\n",
       "Hosakerehalli Layout                                    1\n",
       "Chikkajala                                              1\n",
       "RR Nagar                                                1\n",
       "Prasanti Nagar                                          1\n",
       "Koppa                                                   1\n",
       "Chamundi Nagar                                          1\n",
       "pavitra paradise                                        1\n",
       "Queens Road                                             1\n",
       "Satyasaibaba Layout                                     1\n",
       "kadubisnahalli                                          1\n",
       "Rahmath Nagar                                           1\n",
       "Jay an agar 4 T Block                                   1\n",
       "Chikkanahalli                                           1\n",
       "Halanayakanahalli                                       1\n",
       "SHANTHINAGAR                                            1\n",
       "Maheswari Nagar                                         1\n",
       "Ramanagara Channapatna                                  1\n",
       "B Y Raveshwara Nagar                                    1\n",
       "Rest House Road                                         1\n",
       "Banasawadi,                                             1\n",
       "Devasandra Extension                                    1\n",
       "Dwaraka Nagar                                           1\n",
       "Sunkan palya                                            1\n",
       "2nd Block Hbr Layout                                    1\n",
       "Rajarajesheari nagar                                    1\n",
       "Gayathri Nagar                                          1\n",
       "Kanakapura Road,                                        1\n",
       "Asthagrama Layout                                       1\n",
       "Hal old airport road                                    1\n",
       "arudi                                                   1\n",
       "Jayanagar,                                              1\n",
       "Anantapuram                                             1\n",
       "Javarandoddi                                            1\n",
       "Gandhi Bazar                                            1\n",
       "Bharathnagar                                            1\n",
       "Thirumalashettyhally                                    1\n",
       "Vijaypura                                               1\n",
       "Bapuji Nagar                                            1\n",
       "Konappana Agrahara                                      1\n",
       "HOSUR RMAIN ROAD                                        1\n",
       "Nanjappa Garden                                         1\n",
       "bsk 6th stage 2ad block near sri conversation hall      1\n",
       "Allalasandra                                            1\n",
       "banashankari stage iii sa                               1\n",
       "Yediyur                                                 1\n",
       "kanakapura road                                         1\n",
       " Anekal                                                 1\n",
       "Kumbalgodu                                              1\n",
       " Bhoganhalli                                            1\n",
       " ittamadu                                               1\n",
       "Howthinarayanappa Garden                                1\n",
       "Cambridge  road                                         1\n",
       "Bahubali Nagar                                          1\n",
       "Rajagopala Nagar                                        1\n",
       "JakkurYelahanka                                         1\n",
       "Gaundanapalya                                           1\n",
       "Kirloskar layout, Basaveshwarnagar                      1\n",
       "Sundar Ram Shetty Nagar                                 1\n",
       "Sathanur                                                1\n",
       "Viswapriyanagar.begur Road.bommanahalli.                1\n",
       "St. John's Road                                         1\n",
       "Attiguppe                                               1\n",
       "Chokkasandra                                            1\n",
       "Sree Narayana Nagar                                     1\n",
       "Maruthi Layout                                          1\n",
       "Kenchanehalli R R Nagar                                 1\n",
       "Agara Village                                           1\n",
       "NR Colony                                               1\n",
       "3rd Block HBR Layout                                    1\n",
       "Chowdeshwari Layout                                     1\n",
       "Jaya Mahal layout                                       1\n",
       "frazertown                                              1\n",
       "Sampige Layout                                          1\n",
       "Virgonagar                                              1\n",
       "Kudlu Village,                                          1\n",
       "Sector 4 HSR Layout                                     1\n",
       "Narayanappa Layout                                      1\n",
       "Pulikeshi Nagar                                         1\n",
       "RK Layout 2nd Stage                                     1\n",
       "Sri Kanteshwara Nagar                                   1\n",
       "BEL Layout                                              1\n",
       "J P Nagar 7th Phase Ramayya City                        1\n",
       "Kanakapura Road                                         1\n",
       "Maragondana Halli, kr puram, old madras road            1\n",
       "Govindraja Nagar                                        1\n",
       "T c palya                                               1\n",
       "sankeswari                                              1\n",
       "Gopal Reddy Layout                                      1\n",
       "Chikkabettahalli                                        1\n",
       "Banashankari 6th Stage ,Subramanyapura                  1\n",
       "Popular Colony                                          1\n",
       "Reliable Woods Layout                                   1\n",
       "Huttanahalli                                            1\n",
       "Ganga Nagar Extension                                   1\n",
       "Keerthi Layout                                          1\n",
       "BDS Layout                                              1\n",
       "Viswajit Layout                                         1\n",
       "Srigandada Kaval                                        1\n",
       "Prestige Sunrise                                        1\n",
       "Tippenahalli                                            1\n",
       "Vyalikaval                                              1\n",
       "T K Reddy Layout                                        1\n",
       "Garden Layout                                           1\n",
       "Kanakadasa Layout                                       1\n",
       "Banashankari3rd stage bigbazar                          1\n",
       "Prakruthi Nagar                                         1\n",
       "Sulthangunta                                            1\n",
       "Teachers Colony                                         1\n",
       "Hosahalli                                               1\n",
       "Papareddipalya                                          1\n",
       "Marathalli bridge                                       1\n",
       "K G Colony                                              1\n",
       "Yemlur, Old Airport Road,                               1\n",
       "Bank Avenue                                             1\n",
       "ITI Employees Layout                                    1\n",
       "Amco Colony                                             1\n",
       "Binny Mills Employees Colony                            1\n",
       "Prashanth Nagar                                         1\n",
       "Malimakanapura                                          1\n",
       "Bull Temple Road                                        1\n",
       "Sundara Nagar                                           1\n",
       "Ncpr Industrial Layout                                  1\n",
       "Muthurayya Swamy Layout                                 1\n",
       "Lakshminarayanapura, Electronic City Phase 2            1\n",
       "CHIKKATIRUPATHI                                         1\n",
       "Ramaswamy Palya - Kammanahalli Main Road                1\n",
       "Lakshmiamma Garden                                      1\n",
       "Kodanda Reddy Layout                                    1\n",
       "Double Road                                             1\n",
       "Govindaraja Nagar Ward                                  1\n",
       "Adarsh Nagar                                            1\n",
       "P&T Colony                                              1\n",
       "Shivanagar                                              1\n",
       "Indiranagar HAL 2nd Stage                               1\n",
       "Hennagara                                               1\n",
       "KPC Layout                                              1\n",
       "Bharath Housing Society Layout                          1\n",
       "Craig Park Layout                                       1\n",
       "Maruthi HBCS Layout                                     1\n",
       "Brigade Road                                            1\n",
       "Kengeri Satellite Town ( BDA SITE)                      1\n",
       "Gaurava Nagar                                           1\n",
       "GB Palya                                                1\n",
       "Hennur Busstop                                          1\n",
       "Kavika Layout                                           1\n",
       "Rukmaiah Layout                                         1\n",
       "Bettahalsoor                                            1\n",
       "Defence Layout                                          1\n",
       "T.C. Palya                                              1\n",
       "Chikkaballapur                                          1\n",
       "Iggalur                                                 1\n",
       "Williams Town                                           1\n",
       "Bidere Agarahara, Behind Safal market                   1\n",
       "Mango Garden Layout                                     1\n",
       "Narasapura                                              1\n",
       "Marathi Layout                                          1\n",
       "Devarabisanahalli                                       1\n",
       "sapthagiri Layout                                       1\n",
       "M.G Road                                                1\n",
       "BAGUR                                                   1\n",
       "Indira Nagar 3rd Stage                                  1\n",
       "Laxminarayana Layout                                    1\n",
       "Neelasandra                                             1\n",
       "MRCR Layout                                             1\n",
       "rr nagar                                                1\n",
       "8th Block Jayanagar                                     1\n",
       "Gandhi Nagar                                            1\n",
       "GKW Layout                                              1\n",
       "T G extension                                           1\n",
       "Chickpet                                                1\n",
       "Kuvempu Layout                                          1\n",
       "Lakkasandra Extension                                   1\n",
       "Jagajyothi layout                                       1\n",
       "Hullahalli                                              1\n",
       "Gangondanahalli                                         1\n",
       "Shettihalli                                             1\n",
       "Arekempanahalli                                         1\n",
       "Bennigana Halli                                         1\n",
       "CR Layout                                               1\n",
       "Sonam Layout                                            1\n",
       "NTI Layout                                              1\n",
       "1A Block Koramangala                                    1\n",
       "asha township, off hennur road                          1\n",
       "Escorts Colony                                          1\n",
       "Nagarbhavi  BDA Complex                                 1\n",
       "Rajanna Layout                                          1\n",
       "Rainbow Drive                                           1\n",
       " south                                                  1\n",
       "Shakthi Nagar                                           1\n",
       "Kalkere Channasandra                                    1\n",
       "Venkateshpuram                                          1\n",
       "Mullur                                                  1\n",
       "Kothnur Narayanapura                                    1\n",
       "Doddabele                                               1\n",
       "Cunningham Road                                         1\n",
       "Kempapura                                               1\n",
       "Narayanappa Garden                                      1\n",
       "Ganganahalli                                            1\n",
       "Kamdhenu Nagar                                          1\n",
       "Manonarayanapalya                                       1\n",
       "BEML Layout 5th Stage                                   1\n",
       "2nd phase jp nagar, jp nagar                            1\n",
       "Anekal - Hosur Road                                     1\n",
       "sarjapura main road                                     1\n",
       "Subramanya Nagar                                        1\n",
       "KHB Colony Extension                                    1\n",
       "Billapura                                               1\n",
       "Muthyala Nagar                                          1\n",
       "Vikram Nagar                                            1\n",
       "Chokkahalli                                             1\n",
       "Nirman Layout                                           1\n",
       "TR Mill Road, Chamarajpet                               1\n",
       "Vasanthpura                                             1\n",
       "High grounds                                            1\n",
       "Vittal Mallya Road                                      1\n",
       "Whietfield,                                             1\n",
       "RMV Extension Stage 2                                   1\n",
       "Veer Sandra                                             1\n",
       "Race Course Road                                        1\n",
       "Seethappa Layout                                        1\n",
       "ravindra nagar, T.dasarahalli peenya                    1\n",
       "Sahyadri Layout                                         1\n",
       "Hanumagiri                                              1\n",
       "Vasantapura main road                                   1\n",
       "Dwarka Nagar                                            1\n",
       "BEML Layout 5th stage                                   1\n",
       "Kannur                                                  1\n",
       "singapura paradise                                      1\n",
       "Gattigere                                               1\n",
       "Uvce Layout                                             1\n",
       "Banashankari stage 2                                    1\n",
       "CQAL LAYOUT C BLOCK                                     1\n",
       "manyata tech park                                       1\n",
       "West of Chord Road                                      1\n",
       "Prasanth Extension                                      1\n",
       "JP nagar 9th Phase,                                     1\n",
       "RTO ullalu                                              1\n",
       "JP Nagar 8th Phase,                                     1\n",
       "Vijaya Bank Colony                                      1\n",
       "Kalhalli                                                1\n",
       "1st Stage Domlur                                        1\n",
       "EPIP AREA, WHITEFIELD                                   1\n",
       "Geetanjali Layout                                       1\n",
       "Vayunandana Layout                                      1\n",
       "Ckikkakammana Halli                                     1\n",
       "St Thomas Town                                          1\n",
       "Goraguntepalya                                          1\n",
       "P Krishnappa Layout                                     1\n",
       "Mathikere SBM colony                                    1\n",
       "Okalipura                                               1\n",
       "Maruthi Extension                                       1\n",
       "S R Layout                                              1\n",
       "Shirdi Sai Nagar                                        1\n",
       "Gokaula Extension                                       1\n",
       "DUO Layout                                              1\n",
       "CQAL Layout                                             1\n",
       "anjananager magdi road                                  1\n",
       "Ananthanagar Phase 1,Electronic City , phase 2          1\n",
       "Badrappa Layout                                         1\n",
       "Basvasamithi Layout Vidyaranyapura                      1\n",
       "Mailasandra                                             1\n",
       "kanakapura main road                                    1\n",
       "Indra Nagar                                             1\n",
       " Whitefield                                             1\n",
       "SBM Colony                                              1\n",
       "K R C kothanur                                          1\n",
       "Vijayabank bank layout                                  1\n",
       "Saptagiri Layout                                        1\n",
       "Thanisandra main road                                   1\n",
       "Near ullas theater                                      1\n",
       "Basnashankari,6th stage,                                1\n",
       "Milk Colony                                             1\n",
       "Jaladarsini Layout                                      1\n",
       "Madanayakahalli                                         1\n",
       "Subbannaiah Palya                                       1\n",
       "whitefiled                                              1\n",
       "Medi Agrahara                                           1\n",
       "Sadduguntepalya                                         1\n",
       "Abshot Layout                                           1\n",
       "Name: location, dtype: int64"
      ]
     },
     "execution_count": 371,
     "metadata": {},
     "output_type": "execute_result"
    }
   ],
   "source": [
    "df_final[\"location\"].value_counts()\n",
    "    "
   ]
  },
  {
   "cell_type": "code",
   "execution_count": null,
   "metadata": {},
   "outputs": [],
   "source": []
  },
  {
   "cell_type": "code",
   "execution_count": null,
   "metadata": {},
   "outputs": [],
   "source": []
  },
  {
   "cell_type": "markdown",
   "metadata": {},
   "source": [
    "### to convert categorical nominal data into respective vectors by one hot encoding"
   ]
  },
  {
   "cell_type": "code",
   "execution_count": 375,
   "metadata": {},
   "outputs": [],
   "source": [
    "df_c=pd.get_dummies(df_final[\"location\"],drop_first=True)"
   ]
  },
  {
   "cell_type": "code",
   "execution_count": 376,
   "metadata": {
    "scrolled": true
   },
   "outputs": [
    {
     "data": {
      "text/html": [
       "<div>\n",
       "<style scoped>\n",
       "    .dataframe tbody tr th:only-of-type {\n",
       "        vertical-align: middle;\n",
       "    }\n",
       "\n",
       "    .dataframe tbody tr th {\n",
       "        vertical-align: top;\n",
       "    }\n",
       "\n",
       "    .dataframe thead th {\n",
       "        text-align: right;\n",
       "    }\n",
       "</style>\n",
       "<table border=\"1\" class=\"dataframe\">\n",
       "  <thead>\n",
       "    <tr style=\"text-align: right;\">\n",
       "      <th></th>\n",
       "      <th>Banaswadi</th>\n",
       "      <th>Basavangudi</th>\n",
       "      <th>Bhoganhalli</th>\n",
       "      <th>Devarabeesana Halli</th>\n",
       "      <th>Devarachikkanahalli</th>\n",
       "      <th>Electronic City</th>\n",
       "      <th>Mysore Highway</th>\n",
       "      <th>Rachenahalli</th>\n",
       "      <th>Thanisandra</th>\n",
       "      <th>Whitefield</th>\n",
       "      <th>...</th>\n",
       "      <th>pavitra paradise</th>\n",
       "      <th>poornaprajna layout</th>\n",
       "      <th>ravindra nagar, T.dasarahalli peenya</th>\n",
       "      <th>rr nagar</th>\n",
       "      <th>sankeswari</th>\n",
       "      <th>sapthagiri Layout</th>\n",
       "      <th>sarjapura main road</th>\n",
       "      <th>singapura paradise</th>\n",
       "      <th>tc.palya</th>\n",
       "      <th>whitefiled</th>\n",
       "    </tr>\n",
       "  </thead>\n",
       "  <tbody>\n",
       "    <tr>\n",
       "      <th>0</th>\n",
       "      <td>0</td>\n",
       "      <td>0</td>\n",
       "      <td>0</td>\n",
       "      <td>0</td>\n",
       "      <td>0</td>\n",
       "      <td>0</td>\n",
       "      <td>0</td>\n",
       "      <td>0</td>\n",
       "      <td>0</td>\n",
       "      <td>0</td>\n",
       "      <td>...</td>\n",
       "      <td>0</td>\n",
       "      <td>0</td>\n",
       "      <td>0</td>\n",
       "      <td>0</td>\n",
       "      <td>0</td>\n",
       "      <td>0</td>\n",
       "      <td>0</td>\n",
       "      <td>0</td>\n",
       "      <td>0</td>\n",
       "      <td>0</td>\n",
       "    </tr>\n",
       "    <tr>\n",
       "      <th>2</th>\n",
       "      <td>0</td>\n",
       "      <td>0</td>\n",
       "      <td>0</td>\n",
       "      <td>0</td>\n",
       "      <td>0</td>\n",
       "      <td>0</td>\n",
       "      <td>0</td>\n",
       "      <td>0</td>\n",
       "      <td>0</td>\n",
       "      <td>0</td>\n",
       "      <td>...</td>\n",
       "      <td>0</td>\n",
       "      <td>0</td>\n",
       "      <td>0</td>\n",
       "      <td>0</td>\n",
       "      <td>0</td>\n",
       "      <td>0</td>\n",
       "      <td>0</td>\n",
       "      <td>0</td>\n",
       "      <td>0</td>\n",
       "      <td>0</td>\n",
       "    </tr>\n",
       "    <tr>\n",
       "      <th>3</th>\n",
       "      <td>0</td>\n",
       "      <td>0</td>\n",
       "      <td>0</td>\n",
       "      <td>0</td>\n",
       "      <td>0</td>\n",
       "      <td>0</td>\n",
       "      <td>0</td>\n",
       "      <td>0</td>\n",
       "      <td>0</td>\n",
       "      <td>0</td>\n",
       "      <td>...</td>\n",
       "      <td>0</td>\n",
       "      <td>0</td>\n",
       "      <td>0</td>\n",
       "      <td>0</td>\n",
       "      <td>0</td>\n",
       "      <td>0</td>\n",
       "      <td>0</td>\n",
       "      <td>0</td>\n",
       "      <td>0</td>\n",
       "      <td>0</td>\n",
       "    </tr>\n",
       "    <tr>\n",
       "      <th>4</th>\n",
       "      <td>0</td>\n",
       "      <td>0</td>\n",
       "      <td>0</td>\n",
       "      <td>0</td>\n",
       "      <td>0</td>\n",
       "      <td>0</td>\n",
       "      <td>0</td>\n",
       "      <td>0</td>\n",
       "      <td>0</td>\n",
       "      <td>0</td>\n",
       "      <td>...</td>\n",
       "      <td>0</td>\n",
       "      <td>0</td>\n",
       "      <td>0</td>\n",
       "      <td>0</td>\n",
       "      <td>0</td>\n",
       "      <td>0</td>\n",
       "      <td>0</td>\n",
       "      <td>0</td>\n",
       "      <td>0</td>\n",
       "      <td>0</td>\n",
       "    </tr>\n",
       "    <tr>\n",
       "      <th>5</th>\n",
       "      <td>0</td>\n",
       "      <td>0</td>\n",
       "      <td>0</td>\n",
       "      <td>0</td>\n",
       "      <td>0</td>\n",
       "      <td>0</td>\n",
       "      <td>0</td>\n",
       "      <td>0</td>\n",
       "      <td>0</td>\n",
       "      <td>0</td>\n",
       "      <td>...</td>\n",
       "      <td>0</td>\n",
       "      <td>0</td>\n",
       "      <td>0</td>\n",
       "      <td>0</td>\n",
       "      <td>0</td>\n",
       "      <td>0</td>\n",
       "      <td>0</td>\n",
       "      <td>0</td>\n",
       "      <td>0</td>\n",
       "      <td>0</td>\n",
       "    </tr>\n",
       "    <tr>\n",
       "      <th>...</th>\n",
       "      <td>...</td>\n",
       "      <td>...</td>\n",
       "      <td>...</td>\n",
       "      <td>...</td>\n",
       "      <td>...</td>\n",
       "      <td>...</td>\n",
       "      <td>...</td>\n",
       "      <td>...</td>\n",
       "      <td>...</td>\n",
       "      <td>...</td>\n",
       "      <td>...</td>\n",
       "      <td>...</td>\n",
       "      <td>...</td>\n",
       "      <td>...</td>\n",
       "      <td>...</td>\n",
       "      <td>...</td>\n",
       "      <td>...</td>\n",
       "      <td>...</td>\n",
       "      <td>...</td>\n",
       "      <td>...</td>\n",
       "      <td>...</td>\n",
       "    </tr>\n",
       "    <tr>\n",
       "      <th>13312</th>\n",
       "      <td>0</td>\n",
       "      <td>0</td>\n",
       "      <td>0</td>\n",
       "      <td>0</td>\n",
       "      <td>0</td>\n",
       "      <td>0</td>\n",
       "      <td>0</td>\n",
       "      <td>0</td>\n",
       "      <td>0</td>\n",
       "      <td>0</td>\n",
       "      <td>...</td>\n",
       "      <td>0</td>\n",
       "      <td>0</td>\n",
       "      <td>0</td>\n",
       "      <td>0</td>\n",
       "      <td>0</td>\n",
       "      <td>0</td>\n",
       "      <td>0</td>\n",
       "      <td>0</td>\n",
       "      <td>0</td>\n",
       "      <td>0</td>\n",
       "    </tr>\n",
       "    <tr>\n",
       "      <th>13313</th>\n",
       "      <td>0</td>\n",
       "      <td>0</td>\n",
       "      <td>0</td>\n",
       "      <td>0</td>\n",
       "      <td>0</td>\n",
       "      <td>0</td>\n",
       "      <td>0</td>\n",
       "      <td>0</td>\n",
       "      <td>0</td>\n",
       "      <td>0</td>\n",
       "      <td>...</td>\n",
       "      <td>0</td>\n",
       "      <td>0</td>\n",
       "      <td>0</td>\n",
       "      <td>0</td>\n",
       "      <td>0</td>\n",
       "      <td>0</td>\n",
       "      <td>0</td>\n",
       "      <td>0</td>\n",
       "      <td>0</td>\n",
       "      <td>0</td>\n",
       "    </tr>\n",
       "    <tr>\n",
       "      <th>13314</th>\n",
       "      <td>0</td>\n",
       "      <td>0</td>\n",
       "      <td>0</td>\n",
       "      <td>0</td>\n",
       "      <td>0</td>\n",
       "      <td>0</td>\n",
       "      <td>0</td>\n",
       "      <td>0</td>\n",
       "      <td>0</td>\n",
       "      <td>0</td>\n",
       "      <td>...</td>\n",
       "      <td>0</td>\n",
       "      <td>0</td>\n",
       "      <td>0</td>\n",
       "      <td>0</td>\n",
       "      <td>0</td>\n",
       "      <td>0</td>\n",
       "      <td>0</td>\n",
       "      <td>0</td>\n",
       "      <td>0</td>\n",
       "      <td>0</td>\n",
       "    </tr>\n",
       "    <tr>\n",
       "      <th>13317</th>\n",
       "      <td>0</td>\n",
       "      <td>0</td>\n",
       "      <td>0</td>\n",
       "      <td>0</td>\n",
       "      <td>0</td>\n",
       "      <td>0</td>\n",
       "      <td>0</td>\n",
       "      <td>0</td>\n",
       "      <td>0</td>\n",
       "      <td>0</td>\n",
       "      <td>...</td>\n",
       "      <td>0</td>\n",
       "      <td>0</td>\n",
       "      <td>0</td>\n",
       "      <td>0</td>\n",
       "      <td>0</td>\n",
       "      <td>0</td>\n",
       "      <td>0</td>\n",
       "      <td>0</td>\n",
       "      <td>0</td>\n",
       "      <td>0</td>\n",
       "    </tr>\n",
       "    <tr>\n",
       "      <th>13319</th>\n",
       "      <td>0</td>\n",
       "      <td>0</td>\n",
       "      <td>0</td>\n",
       "      <td>0</td>\n",
       "      <td>0</td>\n",
       "      <td>0</td>\n",
       "      <td>0</td>\n",
       "      <td>0</td>\n",
       "      <td>0</td>\n",
       "      <td>0</td>\n",
       "      <td>...</td>\n",
       "      <td>0</td>\n",
       "      <td>0</td>\n",
       "      <td>0</td>\n",
       "      <td>0</td>\n",
       "      <td>0</td>\n",
       "      <td>0</td>\n",
       "      <td>0</td>\n",
       "      <td>0</td>\n",
       "      <td>0</td>\n",
       "      <td>0</td>\n",
       "    </tr>\n",
       "  </tbody>\n",
       "</table>\n",
       "<p>11732 rows × 1174 columns</p>\n",
       "</div>"
      ],
      "text/plain": [
       "        Banaswadi   Basavangudi   Bhoganhalli   Devarabeesana Halli  \\\n",
       "0               0             0             0                     0   \n",
       "2               0             0             0                     0   \n",
       "3               0             0             0                     0   \n",
       "4               0             0             0                     0   \n",
       "5               0             0             0                     0   \n",
       "...           ...           ...           ...                   ...   \n",
       "13312           0             0             0                     0   \n",
       "13313           0             0             0                     0   \n",
       "13314           0             0             0                     0   \n",
       "13317           0             0             0                     0   \n",
       "13319           0             0             0                     0   \n",
       "\n",
       "        Devarachikkanahalli   Electronic City   Mysore Highway   Rachenahalli  \\\n",
       "0                         0                 0                0              0   \n",
       "2                         0                 0                0              0   \n",
       "3                         0                 0                0              0   \n",
       "4                         0                 0                0              0   \n",
       "5                         0                 0                0              0   \n",
       "...                     ...               ...              ...            ...   \n",
       "13312                     0                 0                0              0   \n",
       "13313                     0                 0                0              0   \n",
       "13314                     0                 0                0              0   \n",
       "13317                     0                 0                0              0   \n",
       "13319                     0                 0                0              0   \n",
       "\n",
       "        Thanisandra   Whitefield  ...  pavitra paradise  poornaprajna layout  \\\n",
       "0                 0            0  ...                 0                    0   \n",
       "2                 0            0  ...                 0                    0   \n",
       "3                 0            0  ...                 0                    0   \n",
       "4                 0            0  ...                 0                    0   \n",
       "5                 0            0  ...                 0                    0   \n",
       "...             ...          ...  ...               ...                  ...   \n",
       "13312             0            0  ...                 0                    0   \n",
       "13313             0            0  ...                 0                    0   \n",
       "13314             0            0  ...                 0                    0   \n",
       "13317             0            0  ...                 0                    0   \n",
       "13319             0            0  ...                 0                    0   \n",
       "\n",
       "       ravindra nagar, T.dasarahalli peenya  rr nagar  sankeswari  \\\n",
       "0                                         0         0           0   \n",
       "2                                         0         0           0   \n",
       "3                                         0         0           0   \n",
       "4                                         0         0           0   \n",
       "5                                         0         0           0   \n",
       "...                                     ...       ...         ...   \n",
       "13312                                     0         0           0   \n",
       "13313                                     0         0           0   \n",
       "13314                                     0         0           0   \n",
       "13317                                     0         0           0   \n",
       "13319                                     0         0           0   \n",
       "\n",
       "       sapthagiri Layout  sarjapura main road  singapura paradise  tc.palya  \\\n",
       "0                      0                    0                   0         0   \n",
       "2                      0                    0                   0         0   \n",
       "3                      0                    0                   0         0   \n",
       "4                      0                    0                   0         0   \n",
       "5                      0                    0                   0         0   \n",
       "...                  ...                  ...                 ...       ...   \n",
       "13312                  0                    0                   0         0   \n",
       "13313                  0                    0                   0         0   \n",
       "13314                  0                    0                   0         0   \n",
       "13317                  0                    0                   0         0   \n",
       "13319                  0                    0                   0         0   \n",
       "\n",
       "       whitefiled  \n",
       "0               0  \n",
       "2               0  \n",
       "3               0  \n",
       "4               0  \n",
       "5               0  \n",
       "...           ...  \n",
       "13312           0  \n",
       "13313           0  \n",
       "13314           0  \n",
       "13317           0  \n",
       "13319           0  \n",
       "\n",
       "[11732 rows x 1174 columns]"
      ]
     },
     "execution_count": 376,
     "metadata": {},
     "output_type": "execute_result"
    }
   ],
   "source": [
    "df_c"
   ]
  },
  {
   "cell_type": "code",
   "execution_count": 380,
   "metadata": {},
   "outputs": [
    {
     "data": {
      "text/plain": [
       "Super built-up  Area    8241\n",
       "Built-up  Area          2041\n",
       "Plot  Area              1370\n",
       "Carpet  Area              80\n",
       "Name: area_type, dtype: int64"
      ]
     },
     "execution_count": 380,
     "metadata": {},
     "output_type": "execute_result"
    }
   ],
   "source": [
    "df_final[\"area_type\"].value_counts()"
   ]
  },
  {
   "cell_type": "code",
   "execution_count": 377,
   "metadata": {},
   "outputs": [
    {
     "data": {
      "text/plain": [
       "(11732, 1174)"
      ]
     },
     "execution_count": 377,
     "metadata": {},
     "output_type": "execute_result"
    }
   ],
   "source": [
    "df_c.shape"
   ]
  },
  {
   "cell_type": "markdown",
   "metadata": {},
   "source": [
    "### 2-Method Encode top ten categorical labels when feature is nominal and having large no. of labels in it or may be imbalanced"
   ]
  },
  {
   "cell_type": "code",
   "execution_count": 383,
   "metadata": {},
   "outputs": [
    {
     "data": {
      "text/plain": [
       "Whitefield                  446\n",
       "Sarjapur  Road              343\n",
       "Electronic City             300\n",
       "Kanakpura Road              267\n",
       "Thanisandra                 224\n",
       "Yelahanka                   191\n",
       "Uttarahalli                 178\n",
       "Raja Rajeshwari Nagar       163\n",
       "Marathahalli                156\n",
       "Hennur Road                 144\n",
       "Bannerghatta Road           140\n",
       "7th Phase JP Nagar          137\n",
       "Haralur Road                131\n",
       "Hebbal                      130\n",
       "Electronic City Phase II    130\n",
       "Name: location, dtype: int64"
      ]
     },
     "execution_count": 383,
     "metadata": {},
     "output_type": "execute_result"
    }
   ],
   "source": [
    "df_final[\"location\"].value_counts().head(15)"
   ]
  },
  {
   "cell_type": "code",
   "execution_count": 384,
   "metadata": {},
   "outputs": [],
   "source": [
    "top_15=[i for i in df_final[\"location\"].value_counts().head(15).index]"
   ]
  },
  {
   "cell_type": "code",
   "execution_count": 385,
   "metadata": {},
   "outputs": [
    {
     "data": {
      "text/plain": [
       "['Whitefield',\n",
       " 'Sarjapur  Road',\n",
       " 'Electronic City',\n",
       " 'Kanakpura Road',\n",
       " 'Thanisandra',\n",
       " 'Yelahanka',\n",
       " 'Uttarahalli',\n",
       " 'Raja Rajeshwari Nagar',\n",
       " 'Marathahalli',\n",
       " 'Hennur Road',\n",
       " 'Bannerghatta Road',\n",
       " '7th Phase JP Nagar',\n",
       " 'Haralur Road',\n",
       " 'Hebbal',\n",
       " 'Electronic City Phase II']"
      ]
     },
     "execution_count": 385,
     "metadata": {},
     "output_type": "execute_result"
    }
   ],
   "source": [
    "top_15"
   ]
  },
  {
   "cell_type": "code",
   "execution_count": 386,
   "metadata": {},
   "outputs": [],
   "source": [
    "for i in top_15:\n",
    "    df_final[i]=np.where(df_final[\"location\"]==i,1,0)"
   ]
  },
  {
   "cell_type": "code",
   "execution_count": 387,
   "metadata": {},
   "outputs": [
    {
     "data": {
      "text/html": [
       "<div>\n",
       "<style scoped>\n",
       "    .dataframe tbody tr th:only-of-type {\n",
       "        vertical-align: middle;\n",
       "    }\n",
       "\n",
       "    .dataframe tbody tr th {\n",
       "        vertical-align: top;\n",
       "    }\n",
       "\n",
       "    .dataframe thead th {\n",
       "        text-align: right;\n",
       "    }\n",
       "</style>\n",
       "<table border=\"1\" class=\"dataframe\">\n",
       "  <thead>\n",
       "    <tr style=\"text-align: right;\">\n",
       "      <th></th>\n",
       "      <th>area_type</th>\n",
       "      <th>location</th>\n",
       "      <th>total_sqft</th>\n",
       "      <th>bath</th>\n",
       "      <th>balcony</th>\n",
       "      <th>price</th>\n",
       "      <th>bhk</th>\n",
       "      <th>Whitefield</th>\n",
       "      <th>Sarjapur  Road</th>\n",
       "      <th>Electronic City</th>\n",
       "      <th>...</th>\n",
       "      <th>Yelahanka</th>\n",
       "      <th>Uttarahalli</th>\n",
       "      <th>Raja Rajeshwari Nagar</th>\n",
       "      <th>Marathahalli</th>\n",
       "      <th>Hennur Road</th>\n",
       "      <th>Bannerghatta Road</th>\n",
       "      <th>7th Phase JP Nagar</th>\n",
       "      <th>Haralur Road</th>\n",
       "      <th>Hebbal</th>\n",
       "      <th>Electronic City Phase II</th>\n",
       "    </tr>\n",
       "  </thead>\n",
       "  <tbody>\n",
       "    <tr>\n",
       "      <th>0</th>\n",
       "      <td>Super built-up  Area</td>\n",
       "      <td>Electronic City Phase II</td>\n",
       "      <td>1056.0</td>\n",
       "      <td>2.0</td>\n",
       "      <td>1.0</td>\n",
       "      <td>39.07</td>\n",
       "      <td>2.0</td>\n",
       "      <td>0</td>\n",
       "      <td>0</td>\n",
       "      <td>0</td>\n",
       "      <td>...</td>\n",
       "      <td>0</td>\n",
       "      <td>0</td>\n",
       "      <td>0</td>\n",
       "      <td>0</td>\n",
       "      <td>0</td>\n",
       "      <td>0</td>\n",
       "      <td>0</td>\n",
       "      <td>0</td>\n",
       "      <td>0</td>\n",
       "      <td>1</td>\n",
       "    </tr>\n",
       "    <tr>\n",
       "      <th>2</th>\n",
       "      <td>Built-up  Area</td>\n",
       "      <td>Uttarahalli</td>\n",
       "      <td>1440.0</td>\n",
       "      <td>2.0</td>\n",
       "      <td>3.0</td>\n",
       "      <td>62.00</td>\n",
       "      <td>3.0</td>\n",
       "      <td>0</td>\n",
       "      <td>0</td>\n",
       "      <td>0</td>\n",
       "      <td>...</td>\n",
       "      <td>0</td>\n",
       "      <td>1</td>\n",
       "      <td>0</td>\n",
       "      <td>0</td>\n",
       "      <td>0</td>\n",
       "      <td>0</td>\n",
       "      <td>0</td>\n",
       "      <td>0</td>\n",
       "      <td>0</td>\n",
       "      <td>0</td>\n",
       "    </tr>\n",
       "    <tr>\n",
       "      <th>3</th>\n",
       "      <td>Super built-up  Area</td>\n",
       "      <td>Lingadheeranahalli</td>\n",
       "      <td>1521.0</td>\n",
       "      <td>3.0</td>\n",
       "      <td>1.0</td>\n",
       "      <td>95.00</td>\n",
       "      <td>3.0</td>\n",
       "      <td>0</td>\n",
       "      <td>0</td>\n",
       "      <td>0</td>\n",
       "      <td>...</td>\n",
       "      <td>0</td>\n",
       "      <td>0</td>\n",
       "      <td>0</td>\n",
       "      <td>0</td>\n",
       "      <td>0</td>\n",
       "      <td>0</td>\n",
       "      <td>0</td>\n",
       "      <td>0</td>\n",
       "      <td>0</td>\n",
       "      <td>0</td>\n",
       "    </tr>\n",
       "    <tr>\n",
       "      <th>4</th>\n",
       "      <td>Super built-up  Area</td>\n",
       "      <td>Kothanur</td>\n",
       "      <td>1200.0</td>\n",
       "      <td>2.0</td>\n",
       "      <td>1.0</td>\n",
       "      <td>51.00</td>\n",
       "      <td>2.0</td>\n",
       "      <td>0</td>\n",
       "      <td>0</td>\n",
       "      <td>0</td>\n",
       "      <td>...</td>\n",
       "      <td>0</td>\n",
       "      <td>0</td>\n",
       "      <td>0</td>\n",
       "      <td>0</td>\n",
       "      <td>0</td>\n",
       "      <td>0</td>\n",
       "      <td>0</td>\n",
       "      <td>0</td>\n",
       "      <td>0</td>\n",
       "      <td>0</td>\n",
       "    </tr>\n",
       "    <tr>\n",
       "      <th>5</th>\n",
       "      <td>Super built-up  Area</td>\n",
       "      <td>Whitefield</td>\n",
       "      <td>1170.0</td>\n",
       "      <td>2.0</td>\n",
       "      <td>1.0</td>\n",
       "      <td>38.00</td>\n",
       "      <td>2.0</td>\n",
       "      <td>1</td>\n",
       "      <td>0</td>\n",
       "      <td>0</td>\n",
       "      <td>...</td>\n",
       "      <td>0</td>\n",
       "      <td>0</td>\n",
       "      <td>0</td>\n",
       "      <td>0</td>\n",
       "      <td>0</td>\n",
       "      <td>0</td>\n",
       "      <td>0</td>\n",
       "      <td>0</td>\n",
       "      <td>0</td>\n",
       "      <td>0</td>\n",
       "    </tr>\n",
       "  </tbody>\n",
       "</table>\n",
       "<p>5 rows × 22 columns</p>\n",
       "</div>"
      ],
      "text/plain": [
       "              area_type                  location  total_sqft  bath  balcony  \\\n",
       "0  Super built-up  Area  Electronic City Phase II      1056.0   2.0      1.0   \n",
       "2        Built-up  Area               Uttarahalli      1440.0   2.0      3.0   \n",
       "3  Super built-up  Area        Lingadheeranahalli      1521.0   3.0      1.0   \n",
       "4  Super built-up  Area                  Kothanur      1200.0   2.0      1.0   \n",
       "5  Super built-up  Area                Whitefield      1170.0   2.0      1.0   \n",
       "\n",
       "   price  bhk  Whitefield  Sarjapur  Road  Electronic City  ...  Yelahanka  \\\n",
       "0  39.07  2.0           0               0                0  ...          0   \n",
       "2  62.00  3.0           0               0                0  ...          0   \n",
       "3  95.00  3.0           0               0                0  ...          0   \n",
       "4  51.00  2.0           0               0                0  ...          0   \n",
       "5  38.00  2.0           1               0                0  ...          0   \n",
       "\n",
       "   Uttarahalli  Raja Rajeshwari Nagar  Marathahalli  Hennur Road  \\\n",
       "0            0                      0             0            0   \n",
       "2            1                      0             0            0   \n",
       "3            0                      0             0            0   \n",
       "4            0                      0             0            0   \n",
       "5            0                      0             0            0   \n",
       "\n",
       "   Bannerghatta Road  7th Phase JP Nagar  Haralur Road  Hebbal  \\\n",
       "0                  0                   0             0       0   \n",
       "2                  0                   0             0       0   \n",
       "3                  0                   0             0       0   \n",
       "4                  0                   0             0       0   \n",
       "5                  0                   0             0       0   \n",
       "\n",
       "   Electronic City Phase II  \n",
       "0                         1  \n",
       "2                         0  \n",
       "3                         0  \n",
       "4                         0  \n",
       "5                         0  \n",
       "\n",
       "[5 rows x 22 columns]"
      ]
     },
     "execution_count": 387,
     "metadata": {},
     "output_type": "execute_result"
    }
   ],
   "source": [
    "df_final.head()"
   ]
  },
  {
   "cell_type": "code",
   "execution_count": 388,
   "metadata": {},
   "outputs": [
    {
     "data": {
      "text/plain": [
       "Super built-up  Area    8241\n",
       "Built-up  Area          2041\n",
       "Plot  Area              1370\n",
       "Carpet  Area              80\n",
       "Name: area_type, dtype: int64"
      ]
     },
     "execution_count": 388,
     "metadata": {},
     "output_type": "execute_result"
    }
   ],
   "source": [
    "df_final[\"area_type\"].value_counts()"
   ]
  },
  {
   "cell_type": "code",
   "execution_count": 389,
   "metadata": {},
   "outputs": [],
   "source": [
    "top_3=[i for i in df_final[\"area_type\"].value_counts().head(3).index]"
   ]
  },
  {
   "cell_type": "code",
   "execution_count": 391,
   "metadata": {},
   "outputs": [
    {
     "data": {
      "text/plain": [
       "['Super built-up  Area', 'Built-up  Area', 'Plot  Area']"
      ]
     },
     "execution_count": 391,
     "metadata": {},
     "output_type": "execute_result"
    }
   ],
   "source": [
    "top_3"
   ]
  },
  {
   "cell_type": "code",
   "execution_count": 392,
   "metadata": {},
   "outputs": [],
   "source": [
    "for i in top_3:\n",
    "    df_final[i]=np.where(df_final[\"area_type\"]==i,1,0)"
   ]
  },
  {
   "cell_type": "code",
   "execution_count": 393,
   "metadata": {},
   "outputs": [
    {
     "data": {
      "text/html": [
       "<div>\n",
       "<style scoped>\n",
       "    .dataframe tbody tr th:only-of-type {\n",
       "        vertical-align: middle;\n",
       "    }\n",
       "\n",
       "    .dataframe tbody tr th {\n",
       "        vertical-align: top;\n",
       "    }\n",
       "\n",
       "    .dataframe thead th {\n",
       "        text-align: right;\n",
       "    }\n",
       "</style>\n",
       "<table border=\"1\" class=\"dataframe\">\n",
       "  <thead>\n",
       "    <tr style=\"text-align: right;\">\n",
       "      <th></th>\n",
       "      <th>area_type</th>\n",
       "      <th>location</th>\n",
       "      <th>total_sqft</th>\n",
       "      <th>bath</th>\n",
       "      <th>balcony</th>\n",
       "      <th>price</th>\n",
       "      <th>bhk</th>\n",
       "      <th>Whitefield</th>\n",
       "      <th>Sarjapur  Road</th>\n",
       "      <th>Electronic City</th>\n",
       "      <th>...</th>\n",
       "      <th>Marathahalli</th>\n",
       "      <th>Hennur Road</th>\n",
       "      <th>Bannerghatta Road</th>\n",
       "      <th>7th Phase JP Nagar</th>\n",
       "      <th>Haralur Road</th>\n",
       "      <th>Hebbal</th>\n",
       "      <th>Electronic City Phase II</th>\n",
       "      <th>Super built-up  Area</th>\n",
       "      <th>Built-up  Area</th>\n",
       "      <th>Plot  Area</th>\n",
       "    </tr>\n",
       "  </thead>\n",
       "  <tbody>\n",
       "    <tr>\n",
       "      <th>0</th>\n",
       "      <td>Super built-up  Area</td>\n",
       "      <td>Electronic City Phase II</td>\n",
       "      <td>1056.0</td>\n",
       "      <td>2.0</td>\n",
       "      <td>1.0</td>\n",
       "      <td>39.07</td>\n",
       "      <td>2.0</td>\n",
       "      <td>0</td>\n",
       "      <td>0</td>\n",
       "      <td>0</td>\n",
       "      <td>...</td>\n",
       "      <td>0</td>\n",
       "      <td>0</td>\n",
       "      <td>0</td>\n",
       "      <td>0</td>\n",
       "      <td>0</td>\n",
       "      <td>0</td>\n",
       "      <td>1</td>\n",
       "      <td>1</td>\n",
       "      <td>0</td>\n",
       "      <td>0</td>\n",
       "    </tr>\n",
       "    <tr>\n",
       "      <th>2</th>\n",
       "      <td>Built-up  Area</td>\n",
       "      <td>Uttarahalli</td>\n",
       "      <td>1440.0</td>\n",
       "      <td>2.0</td>\n",
       "      <td>3.0</td>\n",
       "      <td>62.00</td>\n",
       "      <td>3.0</td>\n",
       "      <td>0</td>\n",
       "      <td>0</td>\n",
       "      <td>0</td>\n",
       "      <td>...</td>\n",
       "      <td>0</td>\n",
       "      <td>0</td>\n",
       "      <td>0</td>\n",
       "      <td>0</td>\n",
       "      <td>0</td>\n",
       "      <td>0</td>\n",
       "      <td>0</td>\n",
       "      <td>0</td>\n",
       "      <td>1</td>\n",
       "      <td>0</td>\n",
       "    </tr>\n",
       "    <tr>\n",
       "      <th>3</th>\n",
       "      <td>Super built-up  Area</td>\n",
       "      <td>Lingadheeranahalli</td>\n",
       "      <td>1521.0</td>\n",
       "      <td>3.0</td>\n",
       "      <td>1.0</td>\n",
       "      <td>95.00</td>\n",
       "      <td>3.0</td>\n",
       "      <td>0</td>\n",
       "      <td>0</td>\n",
       "      <td>0</td>\n",
       "      <td>...</td>\n",
       "      <td>0</td>\n",
       "      <td>0</td>\n",
       "      <td>0</td>\n",
       "      <td>0</td>\n",
       "      <td>0</td>\n",
       "      <td>0</td>\n",
       "      <td>0</td>\n",
       "      <td>1</td>\n",
       "      <td>0</td>\n",
       "      <td>0</td>\n",
       "    </tr>\n",
       "    <tr>\n",
       "      <th>4</th>\n",
       "      <td>Super built-up  Area</td>\n",
       "      <td>Kothanur</td>\n",
       "      <td>1200.0</td>\n",
       "      <td>2.0</td>\n",
       "      <td>1.0</td>\n",
       "      <td>51.00</td>\n",
       "      <td>2.0</td>\n",
       "      <td>0</td>\n",
       "      <td>0</td>\n",
       "      <td>0</td>\n",
       "      <td>...</td>\n",
       "      <td>0</td>\n",
       "      <td>0</td>\n",
       "      <td>0</td>\n",
       "      <td>0</td>\n",
       "      <td>0</td>\n",
       "      <td>0</td>\n",
       "      <td>0</td>\n",
       "      <td>1</td>\n",
       "      <td>0</td>\n",
       "      <td>0</td>\n",
       "    </tr>\n",
       "    <tr>\n",
       "      <th>5</th>\n",
       "      <td>Super built-up  Area</td>\n",
       "      <td>Whitefield</td>\n",
       "      <td>1170.0</td>\n",
       "      <td>2.0</td>\n",
       "      <td>1.0</td>\n",
       "      <td>38.00</td>\n",
       "      <td>2.0</td>\n",
       "      <td>1</td>\n",
       "      <td>0</td>\n",
       "      <td>0</td>\n",
       "      <td>...</td>\n",
       "      <td>0</td>\n",
       "      <td>0</td>\n",
       "      <td>0</td>\n",
       "      <td>0</td>\n",
       "      <td>0</td>\n",
       "      <td>0</td>\n",
       "      <td>0</td>\n",
       "      <td>1</td>\n",
       "      <td>0</td>\n",
       "      <td>0</td>\n",
       "    </tr>\n",
       "  </tbody>\n",
       "</table>\n",
       "<p>5 rows × 25 columns</p>\n",
       "</div>"
      ],
      "text/plain": [
       "              area_type                  location  total_sqft  bath  balcony  \\\n",
       "0  Super built-up  Area  Electronic City Phase II      1056.0   2.0      1.0   \n",
       "2        Built-up  Area               Uttarahalli      1440.0   2.0      3.0   \n",
       "3  Super built-up  Area        Lingadheeranahalli      1521.0   3.0      1.0   \n",
       "4  Super built-up  Area                  Kothanur      1200.0   2.0      1.0   \n",
       "5  Super built-up  Area                Whitefield      1170.0   2.0      1.0   \n",
       "\n",
       "   price  bhk  Whitefield  Sarjapur  Road  Electronic City  ...  Marathahalli  \\\n",
       "0  39.07  2.0           0               0                0  ...             0   \n",
       "2  62.00  3.0           0               0                0  ...             0   \n",
       "3  95.00  3.0           0               0                0  ...             0   \n",
       "4  51.00  2.0           0               0                0  ...             0   \n",
       "5  38.00  2.0           1               0                0  ...             0   \n",
       "\n",
       "   Hennur Road  Bannerghatta Road  7th Phase JP Nagar  Haralur Road  Hebbal  \\\n",
       "0            0                  0                   0             0       0   \n",
       "2            0                  0                   0             0       0   \n",
       "3            0                  0                   0             0       0   \n",
       "4            0                  0                   0             0       0   \n",
       "5            0                  0                   0             0       0   \n",
       "\n",
       "   Electronic City Phase II  Super built-up  Area  Built-up  Area  Plot  Area  \n",
       "0                         1                     1               0           0  \n",
       "2                         0                     0               1           0  \n",
       "3                         0                     1               0           0  \n",
       "4                         0                     1               0           0  \n",
       "5                         0                     1               0           0  \n",
       "\n",
       "[5 rows x 25 columns]"
      ]
     },
     "execution_count": 393,
     "metadata": {},
     "output_type": "execute_result"
    }
   ],
   "source": [
    "df_final.head()"
   ]
  },
  {
   "cell_type": "markdown",
   "metadata": {},
   "source": [
    "# FEATURE SELECTION"
   ]
  },
  {
   "cell_type": "markdown",
   "metadata": {},
   "source": [
    "### What is Feature Selection"
   ]
  },
  {
   "cell_type": "markdown",
   "metadata": {},
   "source": [
    "Feature selection is a process where you automatically select those features in your data that contribute most to the prediction variable or output in which you are interested.\n",
    "\n",
    "Having irrelevant features in your data can decrease the accuracy of many models, especially linear algorithms like linear and logistic regression.\n",
    "\n",
    "Three benefits of performing feature selection before modeling your data are:\n",
    "\n",
    "1)Reduces Overfitting: Less redundant data means less opportunity to make decisions based on noise.\n",
    "\n",
    "2)Improves Accuracy: Less misleading data means modeling accuracy improves.\n",
    "\n",
    "3)Reduces Training Time: Less data means that algorithms train faster."
   ]
  },
  {
   "cell_type": "markdown",
   "metadata": {},
   "source": [
    "### FEATURE SELECTION CAN BE DONE BY 3 WAYS"
   ]
  },
  {
   "cell_type": "markdown",
   "metadata": {},
   "source": [
    "### 1-FILTER METHOD (Do statistical tests)\n",
    "### 2-WRAPER METHOD (Do OLS Method -Backward Elimination)\n",
    "### 3-EMBEDDED METHOD (Feature Importance test )"
   ]
  },
  {
   "cell_type": "markdown",
   "metadata": {},
   "source": [
    "##### PART-A FILTER METHOD ( DROP UNWANTED COLUMNS)"
   ]
  },
  {
   "cell_type": "code",
   "execution_count": 94,
   "metadata": {},
   "outputs": [],
   "source": [
    "pd.set_option(\"display.max_columns\",None)"
   ]
  },
  {
   "cell_type": "code",
   "execution_count": 394,
   "metadata": {
    "scrolled": false
   },
   "outputs": [
    {
     "data": {
      "text/html": [
       "<div>\n",
       "<style scoped>\n",
       "    .dataframe tbody tr th:only-of-type {\n",
       "        vertical-align: middle;\n",
       "    }\n",
       "\n",
       "    .dataframe tbody tr th {\n",
       "        vertical-align: top;\n",
       "    }\n",
       "\n",
       "    .dataframe thead th {\n",
       "        text-align: right;\n",
       "    }\n",
       "</style>\n",
       "<table border=\"1\" class=\"dataframe\">\n",
       "  <thead>\n",
       "    <tr style=\"text-align: right;\">\n",
       "      <th></th>\n",
       "      <th>area_type</th>\n",
       "      <th>location</th>\n",
       "      <th>total_sqft</th>\n",
       "      <th>bath</th>\n",
       "      <th>balcony</th>\n",
       "      <th>price</th>\n",
       "      <th>bhk</th>\n",
       "      <th>Whitefield</th>\n",
       "      <th>Sarjapur  Road</th>\n",
       "      <th>Electronic City</th>\n",
       "      <th>...</th>\n",
       "      <th>Marathahalli</th>\n",
       "      <th>Hennur Road</th>\n",
       "      <th>Bannerghatta Road</th>\n",
       "      <th>7th Phase JP Nagar</th>\n",
       "      <th>Haralur Road</th>\n",
       "      <th>Hebbal</th>\n",
       "      <th>Electronic City Phase II</th>\n",
       "      <th>Super built-up  Area</th>\n",
       "      <th>Built-up  Area</th>\n",
       "      <th>Plot  Area</th>\n",
       "    </tr>\n",
       "  </thead>\n",
       "  <tbody>\n",
       "    <tr>\n",
       "      <th>0</th>\n",
       "      <td>Super built-up  Area</td>\n",
       "      <td>Electronic City Phase II</td>\n",
       "      <td>1056.0</td>\n",
       "      <td>2.0</td>\n",
       "      <td>1.0</td>\n",
       "      <td>39.07</td>\n",
       "      <td>2.0</td>\n",
       "      <td>0</td>\n",
       "      <td>0</td>\n",
       "      <td>0</td>\n",
       "      <td>...</td>\n",
       "      <td>0</td>\n",
       "      <td>0</td>\n",
       "      <td>0</td>\n",
       "      <td>0</td>\n",
       "      <td>0</td>\n",
       "      <td>0</td>\n",
       "      <td>1</td>\n",
       "      <td>1</td>\n",
       "      <td>0</td>\n",
       "      <td>0</td>\n",
       "    </tr>\n",
       "    <tr>\n",
       "      <th>2</th>\n",
       "      <td>Built-up  Area</td>\n",
       "      <td>Uttarahalli</td>\n",
       "      <td>1440.0</td>\n",
       "      <td>2.0</td>\n",
       "      <td>3.0</td>\n",
       "      <td>62.00</td>\n",
       "      <td>3.0</td>\n",
       "      <td>0</td>\n",
       "      <td>0</td>\n",
       "      <td>0</td>\n",
       "      <td>...</td>\n",
       "      <td>0</td>\n",
       "      <td>0</td>\n",
       "      <td>0</td>\n",
       "      <td>0</td>\n",
       "      <td>0</td>\n",
       "      <td>0</td>\n",
       "      <td>0</td>\n",
       "      <td>0</td>\n",
       "      <td>1</td>\n",
       "      <td>0</td>\n",
       "    </tr>\n",
       "  </tbody>\n",
       "</table>\n",
       "<p>2 rows × 25 columns</p>\n",
       "</div>"
      ],
      "text/plain": [
       "              area_type                  location  total_sqft  bath  balcony  \\\n",
       "0  Super built-up  Area  Electronic City Phase II      1056.0   2.0      1.0   \n",
       "2        Built-up  Area               Uttarahalli      1440.0   2.0      3.0   \n",
       "\n",
       "   price  bhk  Whitefield  Sarjapur  Road  Electronic City  ...  Marathahalli  \\\n",
       "0  39.07  2.0           0               0                0  ...             0   \n",
       "2  62.00  3.0           0               0                0  ...             0   \n",
       "\n",
       "   Hennur Road  Bannerghatta Road  7th Phase JP Nagar  Haralur Road  Hebbal  \\\n",
       "0            0                  0                   0             0       0   \n",
       "2            0                  0                   0             0       0   \n",
       "\n",
       "   Electronic City Phase II  Super built-up  Area  Built-up  Area  Plot  Area  \n",
       "0                         1                     1               0           0  \n",
       "2                         0                     0               1           0  \n",
       "\n",
       "[2 rows x 25 columns]"
      ]
     },
     "execution_count": 394,
     "metadata": {},
     "output_type": "execute_result"
    }
   ],
   "source": [
    "df_final.head(2)"
   ]
  },
  {
   "cell_type": "code",
   "execution_count": 395,
   "metadata": {},
   "outputs": [],
   "source": [
    "df_final.drop([\"area_type\",\"location\"],axis=1,inplace=True)"
   ]
  },
  {
   "cell_type": "code",
   "execution_count": 396,
   "metadata": {},
   "outputs": [
    {
     "data": {
      "text/html": [
       "<div>\n",
       "<style scoped>\n",
       "    .dataframe tbody tr th:only-of-type {\n",
       "        vertical-align: middle;\n",
       "    }\n",
       "\n",
       "    .dataframe tbody tr th {\n",
       "        vertical-align: top;\n",
       "    }\n",
       "\n",
       "    .dataframe thead th {\n",
       "        text-align: right;\n",
       "    }\n",
       "</style>\n",
       "<table border=\"1\" class=\"dataframe\">\n",
       "  <thead>\n",
       "    <tr style=\"text-align: right;\">\n",
       "      <th></th>\n",
       "      <th>total_sqft</th>\n",
       "      <th>bath</th>\n",
       "      <th>balcony</th>\n",
       "      <th>price</th>\n",
       "      <th>bhk</th>\n",
       "      <th>Whitefield</th>\n",
       "      <th>Sarjapur  Road</th>\n",
       "      <th>Electronic City</th>\n",
       "      <th>Kanakpura Road</th>\n",
       "      <th>Thanisandra</th>\n",
       "      <th>...</th>\n",
       "      <th>Marathahalli</th>\n",
       "      <th>Hennur Road</th>\n",
       "      <th>Bannerghatta Road</th>\n",
       "      <th>7th Phase JP Nagar</th>\n",
       "      <th>Haralur Road</th>\n",
       "      <th>Hebbal</th>\n",
       "      <th>Electronic City Phase II</th>\n",
       "      <th>Super built-up  Area</th>\n",
       "      <th>Built-up  Area</th>\n",
       "      <th>Plot  Area</th>\n",
       "    </tr>\n",
       "  </thead>\n",
       "  <tbody>\n",
       "    <tr>\n",
       "      <th>0</th>\n",
       "      <td>1056.0</td>\n",
       "      <td>2.0</td>\n",
       "      <td>1.0</td>\n",
       "      <td>39.07</td>\n",
       "      <td>2.0</td>\n",
       "      <td>0</td>\n",
       "      <td>0</td>\n",
       "      <td>0</td>\n",
       "      <td>0</td>\n",
       "      <td>0</td>\n",
       "      <td>...</td>\n",
       "      <td>0</td>\n",
       "      <td>0</td>\n",
       "      <td>0</td>\n",
       "      <td>0</td>\n",
       "      <td>0</td>\n",
       "      <td>0</td>\n",
       "      <td>1</td>\n",
       "      <td>1</td>\n",
       "      <td>0</td>\n",
       "      <td>0</td>\n",
       "    </tr>\n",
       "    <tr>\n",
       "      <th>2</th>\n",
       "      <td>1440.0</td>\n",
       "      <td>2.0</td>\n",
       "      <td>3.0</td>\n",
       "      <td>62.00</td>\n",
       "      <td>3.0</td>\n",
       "      <td>0</td>\n",
       "      <td>0</td>\n",
       "      <td>0</td>\n",
       "      <td>0</td>\n",
       "      <td>0</td>\n",
       "      <td>...</td>\n",
       "      <td>0</td>\n",
       "      <td>0</td>\n",
       "      <td>0</td>\n",
       "      <td>0</td>\n",
       "      <td>0</td>\n",
       "      <td>0</td>\n",
       "      <td>0</td>\n",
       "      <td>0</td>\n",
       "      <td>1</td>\n",
       "      <td>0</td>\n",
       "    </tr>\n",
       "    <tr>\n",
       "      <th>3</th>\n",
       "      <td>1521.0</td>\n",
       "      <td>3.0</td>\n",
       "      <td>1.0</td>\n",
       "      <td>95.00</td>\n",
       "      <td>3.0</td>\n",
       "      <td>0</td>\n",
       "      <td>0</td>\n",
       "      <td>0</td>\n",
       "      <td>0</td>\n",
       "      <td>0</td>\n",
       "      <td>...</td>\n",
       "      <td>0</td>\n",
       "      <td>0</td>\n",
       "      <td>0</td>\n",
       "      <td>0</td>\n",
       "      <td>0</td>\n",
       "      <td>0</td>\n",
       "      <td>0</td>\n",
       "      <td>1</td>\n",
       "      <td>0</td>\n",
       "      <td>0</td>\n",
       "    </tr>\n",
       "    <tr>\n",
       "      <th>4</th>\n",
       "      <td>1200.0</td>\n",
       "      <td>2.0</td>\n",
       "      <td>1.0</td>\n",
       "      <td>51.00</td>\n",
       "      <td>2.0</td>\n",
       "      <td>0</td>\n",
       "      <td>0</td>\n",
       "      <td>0</td>\n",
       "      <td>0</td>\n",
       "      <td>0</td>\n",
       "      <td>...</td>\n",
       "      <td>0</td>\n",
       "      <td>0</td>\n",
       "      <td>0</td>\n",
       "      <td>0</td>\n",
       "      <td>0</td>\n",
       "      <td>0</td>\n",
       "      <td>0</td>\n",
       "      <td>1</td>\n",
       "      <td>0</td>\n",
       "      <td>0</td>\n",
       "    </tr>\n",
       "    <tr>\n",
       "      <th>5</th>\n",
       "      <td>1170.0</td>\n",
       "      <td>2.0</td>\n",
       "      <td>1.0</td>\n",
       "      <td>38.00</td>\n",
       "      <td>2.0</td>\n",
       "      <td>1</td>\n",
       "      <td>0</td>\n",
       "      <td>0</td>\n",
       "      <td>0</td>\n",
       "      <td>0</td>\n",
       "      <td>...</td>\n",
       "      <td>0</td>\n",
       "      <td>0</td>\n",
       "      <td>0</td>\n",
       "      <td>0</td>\n",
       "      <td>0</td>\n",
       "      <td>0</td>\n",
       "      <td>0</td>\n",
       "      <td>1</td>\n",
       "      <td>0</td>\n",
       "      <td>0</td>\n",
       "    </tr>\n",
       "  </tbody>\n",
       "</table>\n",
       "<p>5 rows × 23 columns</p>\n",
       "</div>"
      ],
      "text/plain": [
       "   total_sqft  bath  balcony  price  bhk  Whitefield  Sarjapur  Road  \\\n",
       "0      1056.0   2.0      1.0  39.07  2.0           0               0   \n",
       "2      1440.0   2.0      3.0  62.00  3.0           0               0   \n",
       "3      1521.0   3.0      1.0  95.00  3.0           0               0   \n",
       "4      1200.0   2.0      1.0  51.00  2.0           0               0   \n",
       "5      1170.0   2.0      1.0  38.00  2.0           1               0   \n",
       "\n",
       "   Electronic City  Kanakpura Road  Thanisandra  ...  Marathahalli  \\\n",
       "0                0               0            0  ...             0   \n",
       "2                0               0            0  ...             0   \n",
       "3                0               0            0  ...             0   \n",
       "4                0               0            0  ...             0   \n",
       "5                0               0            0  ...             0   \n",
       "\n",
       "   Hennur Road  Bannerghatta Road  7th Phase JP Nagar  Haralur Road  Hebbal  \\\n",
       "0            0                  0                   0             0       0   \n",
       "2            0                  0                   0             0       0   \n",
       "3            0                  0                   0             0       0   \n",
       "4            0                  0                   0             0       0   \n",
       "5            0                  0                   0             0       0   \n",
       "\n",
       "   Electronic City Phase II  Super built-up  Area  Built-up  Area  Plot  Area  \n",
       "0                         1                     1               0           0  \n",
       "2                         0                     0               1           0  \n",
       "3                         0                     1               0           0  \n",
       "4                         0                     1               0           0  \n",
       "5                         0                     1               0           0  \n",
       "\n",
       "[5 rows x 23 columns]"
      ]
     },
     "execution_count": 396,
     "metadata": {},
     "output_type": "execute_result"
    }
   ],
   "source": [
    "df_final.head()"
   ]
  },
  {
   "cell_type": "markdown",
   "metadata": {},
   "source": [
    "##### PART-B FILTER METHOD ( CORRELATION METHOD) "
   ]
  },
  {
   "cell_type": "code",
   "execution_count": 397,
   "metadata": {},
   "outputs": [
    {
     "data": {
      "text/html": [
       "<div>\n",
       "<style scoped>\n",
       "    .dataframe tbody tr th:only-of-type {\n",
       "        vertical-align: middle;\n",
       "    }\n",
       "\n",
       "    .dataframe tbody tr th {\n",
       "        vertical-align: top;\n",
       "    }\n",
       "\n",
       "    .dataframe thead th {\n",
       "        text-align: right;\n",
       "    }\n",
       "</style>\n",
       "<table border=\"1\" class=\"dataframe\">\n",
       "  <thead>\n",
       "    <tr style=\"text-align: right;\">\n",
       "      <th></th>\n",
       "      <th>total_sqft</th>\n",
       "      <th>bath</th>\n",
       "      <th>balcony</th>\n",
       "      <th>price</th>\n",
       "      <th>bhk</th>\n",
       "      <th>Whitefield</th>\n",
       "      <th>Sarjapur  Road</th>\n",
       "      <th>Electronic City</th>\n",
       "      <th>Kanakpura Road</th>\n",
       "      <th>Thanisandra</th>\n",
       "      <th>...</th>\n",
       "      <th>Marathahalli</th>\n",
       "      <th>Hennur Road</th>\n",
       "      <th>Bannerghatta Road</th>\n",
       "      <th>7th Phase JP Nagar</th>\n",
       "      <th>Haralur Road</th>\n",
       "      <th>Hebbal</th>\n",
       "      <th>Electronic City Phase II</th>\n",
       "      <th>Super built-up  Area</th>\n",
       "      <th>Built-up  Area</th>\n",
       "      <th>Plot  Area</th>\n",
       "    </tr>\n",
       "  </thead>\n",
       "  <tbody>\n",
       "    <tr>\n",
       "      <th>0</th>\n",
       "      <td>1056.0</td>\n",
       "      <td>2.0</td>\n",
       "      <td>1.0</td>\n",
       "      <td>39.07</td>\n",
       "      <td>2.0</td>\n",
       "      <td>0</td>\n",
       "      <td>0</td>\n",
       "      <td>0</td>\n",
       "      <td>0</td>\n",
       "      <td>0</td>\n",
       "      <td>...</td>\n",
       "      <td>0</td>\n",
       "      <td>0</td>\n",
       "      <td>0</td>\n",
       "      <td>0</td>\n",
       "      <td>0</td>\n",
       "      <td>0</td>\n",
       "      <td>1</td>\n",
       "      <td>1</td>\n",
       "      <td>0</td>\n",
       "      <td>0</td>\n",
       "    </tr>\n",
       "    <tr>\n",
       "      <th>2</th>\n",
       "      <td>1440.0</td>\n",
       "      <td>2.0</td>\n",
       "      <td>3.0</td>\n",
       "      <td>62.00</td>\n",
       "      <td>3.0</td>\n",
       "      <td>0</td>\n",
       "      <td>0</td>\n",
       "      <td>0</td>\n",
       "      <td>0</td>\n",
       "      <td>0</td>\n",
       "      <td>...</td>\n",
       "      <td>0</td>\n",
       "      <td>0</td>\n",
       "      <td>0</td>\n",
       "      <td>0</td>\n",
       "      <td>0</td>\n",
       "      <td>0</td>\n",
       "      <td>0</td>\n",
       "      <td>0</td>\n",
       "      <td>1</td>\n",
       "      <td>0</td>\n",
       "    </tr>\n",
       "    <tr>\n",
       "      <th>3</th>\n",
       "      <td>1521.0</td>\n",
       "      <td>3.0</td>\n",
       "      <td>1.0</td>\n",
       "      <td>95.00</td>\n",
       "      <td>3.0</td>\n",
       "      <td>0</td>\n",
       "      <td>0</td>\n",
       "      <td>0</td>\n",
       "      <td>0</td>\n",
       "      <td>0</td>\n",
       "      <td>...</td>\n",
       "      <td>0</td>\n",
       "      <td>0</td>\n",
       "      <td>0</td>\n",
       "      <td>0</td>\n",
       "      <td>0</td>\n",
       "      <td>0</td>\n",
       "      <td>0</td>\n",
       "      <td>1</td>\n",
       "      <td>0</td>\n",
       "      <td>0</td>\n",
       "    </tr>\n",
       "    <tr>\n",
       "      <th>4</th>\n",
       "      <td>1200.0</td>\n",
       "      <td>2.0</td>\n",
       "      <td>1.0</td>\n",
       "      <td>51.00</td>\n",
       "      <td>2.0</td>\n",
       "      <td>0</td>\n",
       "      <td>0</td>\n",
       "      <td>0</td>\n",
       "      <td>0</td>\n",
       "      <td>0</td>\n",
       "      <td>...</td>\n",
       "      <td>0</td>\n",
       "      <td>0</td>\n",
       "      <td>0</td>\n",
       "      <td>0</td>\n",
       "      <td>0</td>\n",
       "      <td>0</td>\n",
       "      <td>0</td>\n",
       "      <td>1</td>\n",
       "      <td>0</td>\n",
       "      <td>0</td>\n",
       "    </tr>\n",
       "    <tr>\n",
       "      <th>5</th>\n",
       "      <td>1170.0</td>\n",
       "      <td>2.0</td>\n",
       "      <td>1.0</td>\n",
       "      <td>38.00</td>\n",
       "      <td>2.0</td>\n",
       "      <td>1</td>\n",
       "      <td>0</td>\n",
       "      <td>0</td>\n",
       "      <td>0</td>\n",
       "      <td>0</td>\n",
       "      <td>...</td>\n",
       "      <td>0</td>\n",
       "      <td>0</td>\n",
       "      <td>0</td>\n",
       "      <td>0</td>\n",
       "      <td>0</td>\n",
       "      <td>0</td>\n",
       "      <td>0</td>\n",
       "      <td>1</td>\n",
       "      <td>0</td>\n",
       "      <td>0</td>\n",
       "    </tr>\n",
       "  </tbody>\n",
       "</table>\n",
       "<p>5 rows × 23 columns</p>\n",
       "</div>"
      ],
      "text/plain": [
       "   total_sqft  bath  balcony  price  bhk  Whitefield  Sarjapur  Road  \\\n",
       "0      1056.0   2.0      1.0  39.07  2.0           0               0   \n",
       "2      1440.0   2.0      3.0  62.00  3.0           0               0   \n",
       "3      1521.0   3.0      1.0  95.00  3.0           0               0   \n",
       "4      1200.0   2.0      1.0  51.00  2.0           0               0   \n",
       "5      1170.0   2.0      1.0  38.00  2.0           1               0   \n",
       "\n",
       "   Electronic City  Kanakpura Road  Thanisandra  ...  Marathahalli  \\\n",
       "0                0               0            0  ...             0   \n",
       "2                0               0            0  ...             0   \n",
       "3                0               0            0  ...             0   \n",
       "4                0               0            0  ...             0   \n",
       "5                0               0            0  ...             0   \n",
       "\n",
       "   Hennur Road  Bannerghatta Road  7th Phase JP Nagar  Haralur Road  Hebbal  \\\n",
       "0            0                  0                   0             0       0   \n",
       "2            0                  0                   0             0       0   \n",
       "3            0                  0                   0             0       0   \n",
       "4            0                  0                   0             0       0   \n",
       "5            0                  0                   0             0       0   \n",
       "\n",
       "   Electronic City Phase II  Super built-up  Area  Built-up  Area  Plot  Area  \n",
       "0                         1                     1               0           0  \n",
       "2                         0                     0               1           0  \n",
       "3                         0                     1               0           0  \n",
       "4                         0                     1               0           0  \n",
       "5                         0                     1               0           0  \n",
       "\n",
       "[5 rows x 23 columns]"
      ]
     },
     "execution_count": 397,
     "metadata": {},
     "output_type": "execute_result"
    }
   ],
   "source": [
    "df_final.head()"
   ]
  },
  {
   "cell_type": "code",
   "execution_count": 399,
   "metadata": {},
   "outputs": [],
   "source": [
    "df_feature=df_final.iloc[:,0:5]"
   ]
  },
  {
   "cell_type": "code",
   "execution_count": 402,
   "metadata": {},
   "outputs": [
    {
     "data": {
      "text/html": [
       "<div>\n",
       "<style scoped>\n",
       "    .dataframe tbody tr th:only-of-type {\n",
       "        vertical-align: middle;\n",
       "    }\n",
       "\n",
       "    .dataframe tbody tr th {\n",
       "        vertical-align: top;\n",
       "    }\n",
       "\n",
       "    .dataframe thead th {\n",
       "        text-align: right;\n",
       "    }\n",
       "</style>\n",
       "<table border=\"1\" class=\"dataframe\">\n",
       "  <thead>\n",
       "    <tr style=\"text-align: right;\">\n",
       "      <th></th>\n",
       "      <th>total_sqft</th>\n",
       "      <th>bath</th>\n",
       "      <th>balcony</th>\n",
       "      <th>price</th>\n",
       "      <th>bhk</th>\n",
       "    </tr>\n",
       "  </thead>\n",
       "  <tbody>\n",
       "    <tr>\n",
       "      <th>total_sqft</th>\n",
       "      <td>1.000000</td>\n",
       "      <td>0.590152</td>\n",
       "      <td>0.308358</td>\n",
       "      <td>0.585800</td>\n",
       "      <td>0.571611</td>\n",
       "    </tr>\n",
       "    <tr>\n",
       "      <th>bath</th>\n",
       "      <td>0.590152</td>\n",
       "      <td>1.000000</td>\n",
       "      <td>0.262805</td>\n",
       "      <td>0.531483</td>\n",
       "      <td>0.815687</td>\n",
       "    </tr>\n",
       "    <tr>\n",
       "      <th>balcony</th>\n",
       "      <td>0.308358</td>\n",
       "      <td>0.262805</td>\n",
       "      <td>1.000000</td>\n",
       "      <td>0.123392</td>\n",
       "      <td>0.243308</td>\n",
       "    </tr>\n",
       "    <tr>\n",
       "      <th>price</th>\n",
       "      <td>0.585800</td>\n",
       "      <td>0.531483</td>\n",
       "      <td>0.123392</td>\n",
       "      <td>1.000000</td>\n",
       "      <td>0.496070</td>\n",
       "    </tr>\n",
       "    <tr>\n",
       "      <th>bhk</th>\n",
       "      <td>0.571611</td>\n",
       "      <td>0.815687</td>\n",
       "      <td>0.243308</td>\n",
       "      <td>0.496070</td>\n",
       "      <td>1.000000</td>\n",
       "    </tr>\n",
       "  </tbody>\n",
       "</table>\n",
       "</div>"
      ],
      "text/plain": [
       "            total_sqft      bath   balcony     price       bhk\n",
       "total_sqft    1.000000  0.590152  0.308358  0.585800  0.571611\n",
       "bath          0.590152  1.000000  0.262805  0.531483  0.815687\n",
       "balcony       0.308358  0.262805  1.000000  0.123392  0.243308\n",
       "price         0.585800  0.531483  0.123392  1.000000  0.496070\n",
       "bhk           0.571611  0.815687  0.243308  0.496070  1.000000"
      ]
     },
     "execution_count": 402,
     "metadata": {},
     "output_type": "execute_result"
    }
   ],
   "source": [
    "df_feature.corr()"
   ]
  },
  {
   "cell_type": "markdown",
   "metadata": {},
   "source": [
    "### if two independent features showing high value of correlation coefficient with each other then this condition wont be good for machine learning model.Consequently , i will drop one independent feature amongst them."
   ]
  },
  {
   "cell_type": "markdown",
   "metadata": {},
   "source": [
    "#### visualisation of correlation coefficient matrix"
   ]
  },
  {
   "cell_type": "code",
   "execution_count": 404,
   "metadata": {},
   "outputs": [
    {
     "data": {
      "image/png": "[encoded data removed]",
      "text/plain": [
       "<Figure size 1080x432 with 2 Axes>"
      ]
     },
     "metadata": {
      "needs_background": "light"
     },
     "output_type": "display_data"
    }
   ],
   "source": [
    "plt.figure(figsize=(15,6))\n",
    "sns.heatmap(df_feature.corr(),annot=True)\n",
    "plt.show()"
   ]
  },
  {
   "cell_type": "markdown",
   "metadata": {},
   "source": [
    "# Remove correlated independent features ( Multi collinearity)"
   ]
  },
  {
   "cell_type": "markdown",
   "metadata": {},
   "source": [
    "Multicollinearity occurs when independent variables in a regression model are correlated. \n",
    "\n",
    "This correlation is a problem because independent variables should be independent. \n",
    "\n",
    "If the degree of correlation between variables is high enough, it can cause problems when you fit the model and interpret the results.\n",
    "\n",
    "A key goal of regression analysis is to isolate the relationship between each independent variable and the dependent variable.\n",
    "\n",
    "The interpretation of a regression coefficient is that it represents the mean change in the dependent variable for each 1 unit change in an independent variable when you hold all of the other independent variables constant. "
   ]
  },
  {
   "cell_type": "code",
   "execution_count": 161,
   "metadata": {},
   "outputs": [
    {
     "data": {
      "text/plain": [
       "Index(['total_sqft', 'bath', 'balcony', 'price', 'bhk', 'Whitefield',\n",
       "       'Sarjapur  Road', 'Electronic City', 'Kanakpura Road', 'Thanisandra',\n",
       "       'Yelahanka', 'Uttarahalli', 'Raja Rajeshwari Nagar', 'Marathahalli',\n",
       "       'Hennur Road', 'Super built-up  Area', 'Built-up  Area', 'Plot  Area'],\n",
       "      dtype='object')"
      ]
     },
     "execution_count": 161,
     "metadata": {},
     "output_type": "execute_result"
    }
   ],
   "source": [
    "df_final.columns"
   ]
  },
  {
   "cell_type": "code",
   "execution_count": 405,
   "metadata": {},
   "outputs": [],
   "source": [
    "df_final=df_final.drop([\"bath\",\"balcony\",\"bhk\"],axis=1)"
   ]
  },
  {
   "cell_type": "code",
   "execution_count": 406,
   "metadata": {},
   "outputs": [
    {
     "data": {
      "text/html": [
       "<div>\n",
       "<style scoped>\n",
       "    .dataframe tbody tr th:only-of-type {\n",
       "        vertical-align: middle;\n",
       "    }\n",
       "\n",
       "    .dataframe tbody tr th {\n",
       "        vertical-align: top;\n",
       "    }\n",
       "\n",
       "    .dataframe thead th {\n",
       "        text-align: right;\n",
       "    }\n",
       "</style>\n",
       "<table border=\"1\" class=\"dataframe\">\n",
       "  <thead>\n",
       "    <tr style=\"text-align: right;\">\n",
       "      <th></th>\n",
       "      <th>total_sqft</th>\n",
       "      <th>price</th>\n",
       "      <th>Whitefield</th>\n",
       "      <th>Sarjapur  Road</th>\n",
       "      <th>Electronic City</th>\n",
       "      <th>Kanakpura Road</th>\n",
       "      <th>Thanisandra</th>\n",
       "      <th>Yelahanka</th>\n",
       "      <th>Uttarahalli</th>\n",
       "      <th>Raja Rajeshwari Nagar</th>\n",
       "      <th>Marathahalli</th>\n",
       "      <th>Hennur Road</th>\n",
       "      <th>Bannerghatta Road</th>\n",
       "      <th>7th Phase JP Nagar</th>\n",
       "      <th>Haralur Road</th>\n",
       "      <th>Hebbal</th>\n",
       "      <th>Electronic City Phase II</th>\n",
       "      <th>Super built-up  Area</th>\n",
       "      <th>Built-up  Area</th>\n",
       "      <th>Plot  Area</th>\n",
       "    </tr>\n",
       "  </thead>\n",
       "  <tbody>\n",
       "    <tr>\n",
       "      <th>0</th>\n",
       "      <td>1056.0</td>\n",
       "      <td>39.07</td>\n",
       "      <td>0</td>\n",
       "      <td>0</td>\n",
       "      <td>0</td>\n",
       "      <td>0</td>\n",
       "      <td>0</td>\n",
       "      <td>0</td>\n",
       "      <td>0</td>\n",
       "      <td>0</td>\n",
       "      <td>0</td>\n",
       "      <td>0</td>\n",
       "      <td>0</td>\n",
       "      <td>0</td>\n",
       "      <td>0</td>\n",
       "      <td>0</td>\n",
       "      <td>1</td>\n",
       "      <td>1</td>\n",
       "      <td>0</td>\n",
       "      <td>0</td>\n",
       "    </tr>\n",
       "    <tr>\n",
       "      <th>2</th>\n",
       "      <td>1440.0</td>\n",
       "      <td>62.00</td>\n",
       "      <td>0</td>\n",
       "      <td>0</td>\n",
       "      <td>0</td>\n",
       "      <td>0</td>\n",
       "      <td>0</td>\n",
       "      <td>0</td>\n",
       "      <td>1</td>\n",
       "      <td>0</td>\n",
       "      <td>0</td>\n",
       "      <td>0</td>\n",
       "      <td>0</td>\n",
       "      <td>0</td>\n",
       "      <td>0</td>\n",
       "      <td>0</td>\n",
       "      <td>0</td>\n",
       "      <td>0</td>\n",
       "      <td>1</td>\n",
       "      <td>0</td>\n",
       "    </tr>\n",
       "    <tr>\n",
       "      <th>3</th>\n",
       "      <td>1521.0</td>\n",
       "      <td>95.00</td>\n",
       "      <td>0</td>\n",
       "      <td>0</td>\n",
       "      <td>0</td>\n",
       "      <td>0</td>\n",
       "      <td>0</td>\n",
       "      <td>0</td>\n",
       "      <td>0</td>\n",
       "      <td>0</td>\n",
       "      <td>0</td>\n",
       "      <td>0</td>\n",
       "      <td>0</td>\n",
       "      <td>0</td>\n",
       "      <td>0</td>\n",
       "      <td>0</td>\n",
       "      <td>0</td>\n",
       "      <td>1</td>\n",
       "      <td>0</td>\n",
       "      <td>0</td>\n",
       "    </tr>\n",
       "    <tr>\n",
       "      <th>4</th>\n",
       "      <td>1200.0</td>\n",
       "      <td>51.00</td>\n",
       "      <td>0</td>\n",
       "      <td>0</td>\n",
       "      <td>0</td>\n",
       "      <td>0</td>\n",
       "      <td>0</td>\n",
       "      <td>0</td>\n",
       "      <td>0</td>\n",
       "      <td>0</td>\n",
       "      <td>0</td>\n",
       "      <td>0</td>\n",
       "      <td>0</td>\n",
       "      <td>0</td>\n",
       "      <td>0</td>\n",
       "      <td>0</td>\n",
       "      <td>0</td>\n",
       "      <td>1</td>\n",
       "      <td>0</td>\n",
       "      <td>0</td>\n",
       "    </tr>\n",
       "    <tr>\n",
       "      <th>5</th>\n",
       "      <td>1170.0</td>\n",
       "      <td>38.00</td>\n",
       "      <td>1</td>\n",
       "      <td>0</td>\n",
       "      <td>0</td>\n",
       "      <td>0</td>\n",
       "      <td>0</td>\n",
       "      <td>0</td>\n",
       "      <td>0</td>\n",
       "      <td>0</td>\n",
       "      <td>0</td>\n",
       "      <td>0</td>\n",
       "      <td>0</td>\n",
       "      <td>0</td>\n",
       "      <td>0</td>\n",
       "      <td>0</td>\n",
       "      <td>0</td>\n",
       "      <td>1</td>\n",
       "      <td>0</td>\n",
       "      <td>0</td>\n",
       "    </tr>\n",
       "  </tbody>\n",
       "</table>\n",
       "</div>"
      ],
      "text/plain": [
       "   total_sqft  price  Whitefield  Sarjapur  Road  Electronic City  \\\n",
       "0      1056.0  39.07           0               0                0   \n",
       "2      1440.0  62.00           0               0                0   \n",
       "3      1521.0  95.00           0               0                0   \n",
       "4      1200.0  51.00           0               0                0   \n",
       "5      1170.0  38.00           1               0                0   \n",
       "\n",
       "   Kanakpura Road  Thanisandra  Yelahanka  Uttarahalli  Raja Rajeshwari Nagar  \\\n",
       "0               0            0          0            0                      0   \n",
       "2               0            0          0            1                      0   \n",
       "3               0            0          0            0                      0   \n",
       "4               0            0          0            0                      0   \n",
       "5               0            0          0            0                      0   \n",
       "\n",
       "   Marathahalli  Hennur Road  Bannerghatta Road  7th Phase JP Nagar  \\\n",
       "0             0            0                  0                   0   \n",
       "2             0            0                  0                   0   \n",
       "3             0            0                  0                   0   \n",
       "4             0            0                  0                   0   \n",
       "5             0            0                  0                   0   \n",
       "\n",
       "   Haralur Road  Hebbal  Electronic City Phase II  Super built-up  Area  \\\n",
       "0             0       0                         1                     1   \n",
       "2             0       0                         0                     0   \n",
       "3             0       0                         0                     1   \n",
       "4             0       0                         0                     1   \n",
       "5             0       0                         0                     1   \n",
       "\n",
       "   Built-up  Area  Plot  Area  \n",
       "0               0           0  \n",
       "2               1           0  \n",
       "3               0           0  \n",
       "4               0           0  \n",
       "5               0           0  "
      ]
     },
     "execution_count": 406,
     "metadata": {},
     "output_type": "execute_result"
    }
   ],
   "source": [
    "df_final.head()"
   ]
  },
  {
   "cell_type": "code",
   "execution_count": 407,
   "metadata": {},
   "outputs": [],
   "source": [
    "df_final.reset_index(drop=True,inplace=True)"
   ]
  },
  {
   "cell_type": "code",
   "execution_count": 409,
   "metadata": {},
   "outputs": [],
   "source": [
    "x=df_final.drop([\"price\"],axis=1)"
   ]
  },
  {
   "cell_type": "code",
   "execution_count": 410,
   "metadata": {},
   "outputs": [],
   "source": [
    "y=df_final[\"price\"]"
   ]
  },
  {
   "cell_type": "markdown",
   "metadata": {},
   "source": [
    "# Feature Scaling"
   ]
  },
  {
   "cell_type": "markdown",
   "metadata": {},
   "source": [
    "Some machine learning algorithms are sensitive to feature scaling while others are virtually invariant to it.\n",
    "\n",
    "like:-\n",
    "\n",
    "Linear Regression---Gradient Descent ----Global Minima\n",
    "\n",
    "Algorithms like KNN,K-Means, SVM , Clustering--- Eucledian Distance\n",
    "\n",
    "Deep Learning Techniques(Standardization, Scaling)\n",
    "\n",
    "1.ANN\n",
    "\n",
    "2.CNN\n",
    "\n",
    "3.RNN"
   ]
  },
  {
   "cell_type": "markdown",
   "metadata": {},
   "source": [
    "# Normalization vs Standard Scaling"
   ]
  },
  {
   "cell_type": "markdown",
   "metadata": {},
   "source": [
    "### What is Normalization?"
   ]
  },
  {
   "cell_type": "markdown",
   "metadata": {},
   "source": [
    "Normalization is a scaling technique in which values are shifted and rescaled so that they end up ranging between 0 and 1. \n",
    "It is also known as Min-Max scaling.\n",
    "\n",
    "When the value of X is the minimum value in the column, the numerator will be 0, and hence X’ is 0 On the other hand, when the value of X is the maximum value in the column, the numerator is equal to the denominator and thus the value of X’ is 1 If the value of X is between the minimum and the maximum value, then the value of X’ is between 0 and 1"
   ]
  },
  {
   "cell_type": "markdown",
   "metadata": {},
   "source": [
    "### What is Standardization?"
   ]
  },
  {
   "cell_type": "markdown",
   "metadata": {},
   "source": [
    "Standardization is another scaling technique where the values are centered around the mean with a unit standard deviation. This means that the mean of the attribute becomes zero and the resultant distribution has a unit standard deviation.\n",
    "\n",
    "Feature scaling: Mu is the mean of the feature values and Feature scaling: Sigma is the standard deviation of the feature values. Note that in this case, the values are not restricted to a particular range.\n",
    "\n"
   ]
  },
  {
   "cell_type": "markdown",
   "metadata": {},
   "source": [
    "# The Big Question – Normalize or Standardize?"
   ]
  },
  {
   "cell_type": "markdown",
   "metadata": {},
   "source": [
    "\n",
    "Normalization vs. standardization is an eternal question among machine learning newcomers. \n",
    "\n",
    "Let me elaborate on the answer in this section.\n",
    "\n",
    "Normalization is good to use when you know that the distribution of your data does not follow a Gaussian distribution.\n",
    "\n",
    "This can be useful in algorithms that do not assume any distribution of the data like K-Nearest Neighbors and Neural Networks.\n",
    "\n",
    "Standardization, on the other hand, can be helpful in cases where the data follows a Gaussian distribution. \n",
    "\n",
    "However, this does not have to be necessarily true. Also, unlike normalization, standardization does not have a bounding range. So, even if you have outliers in your data, they will not be affected by standardization. However, at the end of the day, the choice of using normalization or standardization will depend on your problem and the machine learning algorithm you are using. There is no hard and fast rule to tell you when to normalize or standardize your data. You can always start by fitting your model to raw, normalized and standardized data and compare the performance for best results.\n",
    "\n",
    "It is a good practice to fit the scaler on the training data and then use it to transform the testing data. This would avoid any data leakage during the model testing process. Also, the scaling of target values is generally not required."
   ]
  },
  {
   "cell_type": "markdown",
   "metadata": {},
   "source": [
    "# Min Max Scaling \n",
    "scales the values between 0 to 1. \n",
    "\n",
    "## X_scaled = (X - X.min / (X.max - X.min)"
   ]
  },
  {
   "cell_type": "code",
   "execution_count": 172,
   "metadata": {},
   "outputs": [],
   "source": [
    "from sklearn.preprocessing import MinMaxScaler\n",
    "min_max=MinMaxScaler()"
   ]
  },
  {
   "cell_type": "code",
   "execution_count": 411,
   "metadata": {},
   "outputs": [],
   "source": [
    "df_scaled_min=min_max.fit_transform(x)"
   ]
  },
  {
   "cell_type": "code",
   "execution_count": 412,
   "metadata": {},
   "outputs": [
    {
     "data": {
      "text/plain": [
       "array([[0.35324675, 0.        , 0.        , ..., 1.        , 0.        ,\n",
       "        0.        ],\n",
       "       [0.51948052, 0.        , 0.        , ..., 0.        , 1.        ,\n",
       "        0.        ],\n",
       "       [0.55454545, 0.        , 0.        , ..., 1.        , 0.        ,\n",
       "        0.        ],\n",
       "       ...,\n",
       "       [0.63852814, 0.        , 0.        , ..., 1.        , 0.        ,\n",
       "        0.        ],\n",
       "       [0.39004329, 0.        , 0.        , ..., 0.        , 1.        ,\n",
       "        0.        ],\n",
       "       [0.13419913, 0.        , 0.        , ..., 1.        , 0.        ,\n",
       "        0.        ]])"
      ]
     },
     "execution_count": 412,
     "metadata": {},
     "output_type": "execute_result"
    }
   ],
   "source": [
    "df_scaled_min"
   ]
  },
  {
   "cell_type": "markdown",
   "metadata": {},
   "source": [
    "## Standardization\n",
    "\n",
    "We try to bring all the variables or features to a similar scale. standarisation means centering the variable at zero.\n",
    "\n",
    "## z=(x-x_mean)/std"
   ]
  },
  {
   "cell_type": "code",
   "execution_count": 413,
   "metadata": {},
   "outputs": [],
   "source": [
    "from sklearn.preprocessing import StandardScaler"
   ]
  },
  {
   "cell_type": "code",
   "execution_count": 414,
   "metadata": {},
   "outputs": [],
   "source": [
    "scaler=StandardScaler()"
   ]
  },
  {
   "cell_type": "code",
   "execution_count": 438,
   "metadata": {
    "scrolled": true
   },
   "outputs": [],
   "source": [
    "df_scaled=scaler.fit_transform(df_final)"
   ]
  },
  {
   "cell_type": "code",
   "execution_count": 439,
   "metadata": {},
   "outputs": [
    {
     "data": {
      "text/plain": [
       "array([[-0.64743164, -0.67552448, -0.19879131, ...,  0.65085608,\n",
       "        -0.45892023, -0.36361224],\n",
       "       [ 0.29197495, -0.32900804, -0.19879131, ..., -1.53643797,\n",
       "         2.17902792, -0.36361224],\n",
       "       [ 0.49013103,  0.16968548, -0.19879131, ...,  0.65085608,\n",
       "        -0.45892023, -0.36361224],\n",
       "       ...,\n",
       "       [ 0.96472707,  0.42658821, -0.19879131, ...,  0.65085608,\n",
       "        -0.45892023, -0.36361224],\n",
       "       [-0.43949008, -0.35923189, -0.19879131, ..., -1.53643797,\n",
       "         2.17902792, -0.36361224],\n",
       "       [-1.88529554, -1.00904466, -0.19879131, ...,  0.65085608,\n",
       "        -0.45892023, -0.36361224]])"
      ]
     },
     "execution_count": 439,
     "metadata": {},
     "output_type": "execute_result"
    }
   ],
   "source": [
    "df_scaled"
   ]
  },
  {
   "cell_type": "code",
   "execution_count": null,
   "metadata": {},
   "outputs": [],
   "source": [
    "x="
   ]
  },
  {
   "cell_type": "code",
   "execution_count": 417,
   "metadata": {},
   "outputs": [
    {
     "data": {
      "text/plain": [
       "Index(['total_sqft', 'Whitefield', 'Sarjapur  Road', 'Electronic City',\n",
       "       'Kanakpura Road', 'Thanisandra', 'Yelahanka', 'Uttarahalli',\n",
       "       'Raja Rajeshwari Nagar', 'Marathahalli', 'Hennur Road',\n",
       "       'Bannerghatta Road', '7th Phase JP Nagar', 'Haralur Road', 'Hebbal',\n",
       "       'Electronic City Phase II', 'Super built-up  Area', 'Built-up  Area',\n",
       "       'Plot  Area'],\n",
       "      dtype='object')"
      ]
     },
     "execution_count": 417,
     "metadata": {},
     "output_type": "execute_result"
    }
   ],
   "source": [
    "x.columns"
   ]
  },
  {
   "cell_type": "code",
   "execution_count": 440,
   "metadata": {},
   "outputs": [],
   "source": [
    "df_scaling=pd.DataFrame(df_scaled)"
   ]
  },
  {
   "cell_type": "code",
   "execution_count": 441,
   "metadata": {},
   "outputs": [
    {
     "data": {
      "text/plain": [
       "Index(['total_sqft', 'price', 'Whitefield', 'Sarjapur  Road',\n",
       "       'Electronic City', 'Kanakpura Road', 'Thanisandra', 'Yelahanka',\n",
       "       'Uttarahalli', 'Raja Rajeshwari Nagar', 'Marathahalli', 'Hennur Road',\n",
       "       'Bannerghatta Road', '7th Phase JP Nagar', 'Haralur Road', 'Hebbal',\n",
       "       'Electronic City Phase II', 'Super built-up  Area', 'Built-up  Area',\n",
       "       'Plot  Area'],\n",
       "      dtype='object')"
      ]
     },
     "execution_count": 441,
     "metadata": {},
     "output_type": "execute_result"
    }
   ],
   "source": [
    "df_final.columns"
   ]
  },
  {
   "cell_type": "code",
   "execution_count": 442,
   "metadata": {},
   "outputs": [],
   "source": [
    "df_scaling.columns=['total_sqft', 'price', 'Whitefield', 'Sarjapur  Road',\n",
    "       'Electronic City', 'Kanakpura Road', 'Thanisandra', 'Yelahanka',\n",
    "       'Uttarahalli', 'Raja Rajeshwari Nagar', 'Marathahalli', 'Hennur Road',\n",
    "       'Bannerghatta Road', '7th Phase JP Nagar', 'Haralur Road', 'Hebbal',\n",
    "       'Electronic City Phase II', 'Super built-up  Area', 'Built-up  Area',\n",
    "       'Plot  Area']"
   ]
  },
  {
   "cell_type": "code",
   "execution_count": 443,
   "metadata": {},
   "outputs": [
    {
     "data": {
      "text/html": [
       "<div>\n",
       "<style scoped>\n",
       "    .dataframe tbody tr th:only-of-type {\n",
       "        vertical-align: middle;\n",
       "    }\n",
       "\n",
       "    .dataframe tbody tr th {\n",
       "        vertical-align: top;\n",
       "    }\n",
       "\n",
       "    .dataframe thead th {\n",
       "        text-align: right;\n",
       "    }\n",
       "</style>\n",
       "<table border=\"1\" class=\"dataframe\">\n",
       "  <thead>\n",
       "    <tr style=\"text-align: right;\">\n",
       "      <th></th>\n",
       "      <th>total_sqft</th>\n",
       "      <th>price</th>\n",
       "      <th>Whitefield</th>\n",
       "      <th>Sarjapur  Road</th>\n",
       "      <th>Electronic City</th>\n",
       "      <th>Kanakpura Road</th>\n",
       "      <th>Thanisandra</th>\n",
       "      <th>Yelahanka</th>\n",
       "      <th>Uttarahalli</th>\n",
       "      <th>Raja Rajeshwari Nagar</th>\n",
       "      <th>Marathahalli</th>\n",
       "      <th>Hennur Road</th>\n",
       "      <th>Bannerghatta Road</th>\n",
       "      <th>7th Phase JP Nagar</th>\n",
       "      <th>Haralur Road</th>\n",
       "      <th>Hebbal</th>\n",
       "      <th>Electronic City Phase II</th>\n",
       "      <th>Super built-up  Area</th>\n",
       "      <th>Built-up  Area</th>\n",
       "      <th>Plot  Area</th>\n",
       "    </tr>\n",
       "  </thead>\n",
       "  <tbody>\n",
       "    <tr>\n",
       "      <th>0</th>\n",
       "      <td>-0.647432</td>\n",
       "      <td>-0.675524</td>\n",
       "      <td>-0.198791</td>\n",
       "      <td>-0.173542</td>\n",
       "      <td>-0.161994</td>\n",
       "      <td>-0.152605</td>\n",
       "      <td>-0.139516</td>\n",
       "      <td>-0.128646</td>\n",
       "      <td>-0.124121</td>\n",
       "      <td>-0.118699</td>\n",
       "      <td>-0.116087</td>\n",
       "      <td>-0.111475</td>\n",
       "      <td>-0.109897</td>\n",
       "      <td>-0.108699</td>\n",
       "      <td>-0.106264</td>\n",
       "      <td>-0.105854</td>\n",
       "      <td>9.447018</td>\n",
       "      <td>0.650856</td>\n",
       "      <td>-0.458920</td>\n",
       "      <td>-0.363612</td>\n",
       "    </tr>\n",
       "    <tr>\n",
       "      <th>1</th>\n",
       "      <td>0.291975</td>\n",
       "      <td>-0.329008</td>\n",
       "      <td>-0.198791</td>\n",
       "      <td>-0.173542</td>\n",
       "      <td>-0.161994</td>\n",
       "      <td>-0.152605</td>\n",
       "      <td>-0.139516</td>\n",
       "      <td>-0.128646</td>\n",
       "      <td>8.056681</td>\n",
       "      <td>-0.118699</td>\n",
       "      <td>-0.116087</td>\n",
       "      <td>-0.111475</td>\n",
       "      <td>-0.109897</td>\n",
       "      <td>-0.108699</td>\n",
       "      <td>-0.106264</td>\n",
       "      <td>-0.105854</td>\n",
       "      <td>-0.105854</td>\n",
       "      <td>-1.536438</td>\n",
       "      <td>2.179028</td>\n",
       "      <td>-0.363612</td>\n",
       "    </tr>\n",
       "    <tr>\n",
       "      <th>2</th>\n",
       "      <td>0.490131</td>\n",
       "      <td>0.169685</td>\n",
       "      <td>-0.198791</td>\n",
       "      <td>-0.173542</td>\n",
       "      <td>-0.161994</td>\n",
       "      <td>-0.152605</td>\n",
       "      <td>-0.139516</td>\n",
       "      <td>-0.128646</td>\n",
       "      <td>-0.124121</td>\n",
       "      <td>-0.118699</td>\n",
       "      <td>-0.116087</td>\n",
       "      <td>-0.111475</td>\n",
       "      <td>-0.109897</td>\n",
       "      <td>-0.108699</td>\n",
       "      <td>-0.106264</td>\n",
       "      <td>-0.105854</td>\n",
       "      <td>-0.105854</td>\n",
       "      <td>0.650856</td>\n",
       "      <td>-0.458920</td>\n",
       "      <td>-0.363612</td>\n",
       "    </tr>\n",
       "    <tr>\n",
       "      <th>3</th>\n",
       "      <td>-0.295154</td>\n",
       "      <td>-0.495239</td>\n",
       "      <td>-0.198791</td>\n",
       "      <td>-0.173542</td>\n",
       "      <td>-0.161994</td>\n",
       "      <td>-0.152605</td>\n",
       "      <td>-0.139516</td>\n",
       "      <td>-0.128646</td>\n",
       "      <td>-0.124121</td>\n",
       "      <td>-0.118699</td>\n",
       "      <td>-0.116087</td>\n",
       "      <td>-0.111475</td>\n",
       "      <td>-0.109897</td>\n",
       "      <td>-0.108699</td>\n",
       "      <td>-0.106264</td>\n",
       "      <td>-0.105854</td>\n",
       "      <td>-0.105854</td>\n",
       "      <td>0.650856</td>\n",
       "      <td>-0.458920</td>\n",
       "      <td>-0.363612</td>\n",
       "    </tr>\n",
       "    <tr>\n",
       "      <th>4</th>\n",
       "      <td>-0.368545</td>\n",
       "      <td>-0.691694</td>\n",
       "      <td>5.030401</td>\n",
       "      <td>-0.173542</td>\n",
       "      <td>-0.161994</td>\n",
       "      <td>-0.152605</td>\n",
       "      <td>-0.139516</td>\n",
       "      <td>-0.128646</td>\n",
       "      <td>-0.124121</td>\n",
       "      <td>-0.118699</td>\n",
       "      <td>-0.116087</td>\n",
       "      <td>-0.111475</td>\n",
       "      <td>-0.109897</td>\n",
       "      <td>-0.108699</td>\n",
       "      <td>-0.106264</td>\n",
       "      <td>-0.105854</td>\n",
       "      <td>-0.105854</td>\n",
       "      <td>0.650856</td>\n",
       "      <td>-0.458920</td>\n",
       "      <td>-0.363612</td>\n",
       "    </tr>\n",
       "    <tr>\n",
       "      <th>...</th>\n",
       "      <td>...</td>\n",
       "      <td>...</td>\n",
       "      <td>...</td>\n",
       "      <td>...</td>\n",
       "      <td>...</td>\n",
       "      <td>...</td>\n",
       "      <td>...</td>\n",
       "      <td>...</td>\n",
       "      <td>...</td>\n",
       "      <td>...</td>\n",
       "      <td>...</td>\n",
       "      <td>...</td>\n",
       "      <td>...</td>\n",
       "      <td>...</td>\n",
       "      <td>...</td>\n",
       "      <td>...</td>\n",
       "      <td>...</td>\n",
       "      <td>...</td>\n",
       "      <td>...</td>\n",
       "      <td>...</td>\n",
       "    </tr>\n",
       "    <tr>\n",
       "      <th>11727</th>\n",
       "      <td>-0.143479</td>\n",
       "      <td>-0.555687</td>\n",
       "      <td>-0.198791</td>\n",
       "      <td>-0.173542</td>\n",
       "      <td>-0.161994</td>\n",
       "      <td>-0.152605</td>\n",
       "      <td>-0.139516</td>\n",
       "      <td>-0.128646</td>\n",
       "      <td>-0.124121</td>\n",
       "      <td>-0.118699</td>\n",
       "      <td>-0.116087</td>\n",
       "      <td>-0.111475</td>\n",
       "      <td>-0.109897</td>\n",
       "      <td>-0.108699</td>\n",
       "      <td>-0.106264</td>\n",
       "      <td>-0.105854</td>\n",
       "      <td>-0.105854</td>\n",
       "      <td>0.650856</td>\n",
       "      <td>-0.458920</td>\n",
       "      <td>-0.363612</td>\n",
       "    </tr>\n",
       "    <tr>\n",
       "      <th>11728</th>\n",
       "      <td>0.059570</td>\n",
       "      <td>-0.404568</td>\n",
       "      <td>-0.198791</td>\n",
       "      <td>-0.173542</td>\n",
       "      <td>-0.161994</td>\n",
       "      <td>-0.152605</td>\n",
       "      <td>-0.139516</td>\n",
       "      <td>-0.128646</td>\n",
       "      <td>8.056681</td>\n",
       "      <td>-0.118699</td>\n",
       "      <td>-0.116087</td>\n",
       "      <td>-0.111475</td>\n",
       "      <td>-0.109897</td>\n",
       "      <td>-0.108699</td>\n",
       "      <td>-0.106264</td>\n",
       "      <td>-0.105854</td>\n",
       "      <td>-0.105854</td>\n",
       "      <td>0.650856</td>\n",
       "      <td>-0.458920</td>\n",
       "      <td>-0.363612</td>\n",
       "    </tr>\n",
       "    <tr>\n",
       "      <th>11729</th>\n",
       "      <td>0.964727</td>\n",
       "      <td>0.426588</td>\n",
       "      <td>-0.198791</td>\n",
       "      <td>-0.173542</td>\n",
       "      <td>-0.161994</td>\n",
       "      <td>-0.152605</td>\n",
       "      <td>-0.139516</td>\n",
       "      <td>-0.128646</td>\n",
       "      <td>-0.124121</td>\n",
       "      <td>-0.118699</td>\n",
       "      <td>-0.116087</td>\n",
       "      <td>-0.111475</td>\n",
       "      <td>-0.109897</td>\n",
       "      <td>-0.108699</td>\n",
       "      <td>-0.106264</td>\n",
       "      <td>-0.105854</td>\n",
       "      <td>-0.105854</td>\n",
       "      <td>0.650856</td>\n",
       "      <td>-0.458920</td>\n",
       "      <td>-0.363612</td>\n",
       "    </tr>\n",
       "    <tr>\n",
       "      <th>11730</th>\n",
       "      <td>-0.439490</td>\n",
       "      <td>-0.359232</td>\n",
       "      <td>-0.198791</td>\n",
       "      <td>-0.173542</td>\n",
       "      <td>-0.161994</td>\n",
       "      <td>-0.152605</td>\n",
       "      <td>-0.139516</td>\n",
       "      <td>-0.128646</td>\n",
       "      <td>-0.124121</td>\n",
       "      <td>8.424693</td>\n",
       "      <td>-0.116087</td>\n",
       "      <td>-0.111475</td>\n",
       "      <td>-0.109897</td>\n",
       "      <td>-0.108699</td>\n",
       "      <td>-0.106264</td>\n",
       "      <td>-0.105854</td>\n",
       "      <td>-0.105854</td>\n",
       "      <td>-1.536438</td>\n",
       "      <td>2.179028</td>\n",
       "      <td>-0.363612</td>\n",
       "    </tr>\n",
       "    <tr>\n",
       "      <th>11731</th>\n",
       "      <td>-1.885296</td>\n",
       "      <td>-1.009045</td>\n",
       "      <td>-0.198791</td>\n",
       "      <td>-0.173542</td>\n",
       "      <td>-0.161994</td>\n",
       "      <td>-0.152605</td>\n",
       "      <td>-0.139516</td>\n",
       "      <td>-0.128646</td>\n",
       "      <td>-0.124121</td>\n",
       "      <td>-0.118699</td>\n",
       "      <td>-0.116087</td>\n",
       "      <td>-0.111475</td>\n",
       "      <td>-0.109897</td>\n",
       "      <td>-0.108699</td>\n",
       "      <td>-0.106264</td>\n",
       "      <td>-0.105854</td>\n",
       "      <td>-0.105854</td>\n",
       "      <td>0.650856</td>\n",
       "      <td>-0.458920</td>\n",
       "      <td>-0.363612</td>\n",
       "    </tr>\n",
       "  </tbody>\n",
       "</table>\n",
       "<p>11732 rows × 20 columns</p>\n",
       "</div>"
      ],
      "text/plain": [
       "       total_sqft     price  Whitefield  Sarjapur  Road  Electronic City  \\\n",
       "0       -0.647432 -0.675524   -0.198791       -0.173542        -0.161994   \n",
       "1        0.291975 -0.329008   -0.198791       -0.173542        -0.161994   \n",
       "2        0.490131  0.169685   -0.198791       -0.173542        -0.161994   \n",
       "3       -0.295154 -0.495239   -0.198791       -0.173542        -0.161994   \n",
       "4       -0.368545 -0.691694    5.030401       -0.173542        -0.161994   \n",
       "...           ...       ...         ...             ...              ...   \n",
       "11727   -0.143479 -0.555687   -0.198791       -0.173542        -0.161994   \n",
       "11728    0.059570 -0.404568   -0.198791       -0.173542        -0.161994   \n",
       "11729    0.964727  0.426588   -0.198791       -0.173542        -0.161994   \n",
       "11730   -0.439490 -0.359232   -0.198791       -0.173542        -0.161994   \n",
       "11731   -1.885296 -1.009045   -0.198791       -0.173542        -0.161994   \n",
       "\n",
       "       Kanakpura Road  Thanisandra  Yelahanka  Uttarahalli  \\\n",
       "0           -0.152605    -0.139516  -0.128646    -0.124121   \n",
       "1           -0.152605    -0.139516  -0.128646     8.056681   \n",
       "2           -0.152605    -0.139516  -0.128646    -0.124121   \n",
       "3           -0.152605    -0.139516  -0.128646    -0.124121   \n",
       "4           -0.152605    -0.139516  -0.128646    -0.124121   \n",
       "...               ...          ...        ...          ...   \n",
       "11727       -0.152605    -0.139516  -0.128646    -0.124121   \n",
       "11728       -0.152605    -0.139516  -0.128646     8.056681   \n",
       "11729       -0.152605    -0.139516  -0.128646    -0.124121   \n",
       "11730       -0.152605    -0.139516  -0.128646    -0.124121   \n",
       "11731       -0.152605    -0.139516  -0.128646    -0.124121   \n",
       "\n",
       "       Raja Rajeshwari Nagar  Marathahalli  Hennur Road  Bannerghatta Road  \\\n",
       "0                  -0.118699     -0.116087    -0.111475          -0.109897   \n",
       "1                  -0.118699     -0.116087    -0.111475          -0.109897   \n",
       "2                  -0.118699     -0.116087    -0.111475          -0.109897   \n",
       "3                  -0.118699     -0.116087    -0.111475          -0.109897   \n",
       "4                  -0.118699     -0.116087    -0.111475          -0.109897   \n",
       "...                      ...           ...          ...                ...   \n",
       "11727              -0.118699     -0.116087    -0.111475          -0.109897   \n",
       "11728              -0.118699     -0.116087    -0.111475          -0.109897   \n",
       "11729              -0.118699     -0.116087    -0.111475          -0.109897   \n",
       "11730               8.424693     -0.116087    -0.111475          -0.109897   \n",
       "11731              -0.118699     -0.116087    -0.111475          -0.109897   \n",
       "\n",
       "       7th Phase JP Nagar  Haralur Road    Hebbal  Electronic City Phase II  \\\n",
       "0               -0.108699     -0.106264 -0.105854                  9.447018   \n",
       "1               -0.108699     -0.106264 -0.105854                 -0.105854   \n",
       "2               -0.108699     -0.106264 -0.105854                 -0.105854   \n",
       "3               -0.108699     -0.106264 -0.105854                 -0.105854   \n",
       "4               -0.108699     -0.106264 -0.105854                 -0.105854   \n",
       "...                   ...           ...       ...                       ...   \n",
       "11727           -0.108699     -0.106264 -0.105854                 -0.105854   \n",
       "11728           -0.108699     -0.106264 -0.105854                 -0.105854   \n",
       "11729           -0.108699     -0.106264 -0.105854                 -0.105854   \n",
       "11730           -0.108699     -0.106264 -0.105854                 -0.105854   \n",
       "11731           -0.108699     -0.106264 -0.105854                 -0.105854   \n",
       "\n",
       "       Super built-up  Area  Built-up  Area  Plot  Area  \n",
       "0                  0.650856       -0.458920   -0.363612  \n",
       "1                 -1.536438        2.179028   -0.363612  \n",
       "2                  0.650856       -0.458920   -0.363612  \n",
       "3                  0.650856       -0.458920   -0.363612  \n",
       "4                  0.650856       -0.458920   -0.363612  \n",
       "...                     ...             ...         ...  \n",
       "11727              0.650856       -0.458920   -0.363612  \n",
       "11728              0.650856       -0.458920   -0.363612  \n",
       "11729              0.650856       -0.458920   -0.363612  \n",
       "11730             -1.536438        2.179028   -0.363612  \n",
       "11731              0.650856       -0.458920   -0.363612  \n",
       "\n",
       "[11732 rows x 20 columns]"
      ]
     },
     "execution_count": 443,
     "metadata": {},
     "output_type": "execute_result"
    }
   ],
   "source": [
    "df_scaling"
   ]
  },
  {
   "cell_type": "markdown",
   "metadata": {},
   "source": [
    "# BUILD LINEAR REGRESSION MODEL\n"
   ]
  },
  {
   "cell_type": "markdown",
   "metadata": {},
   "source": [
    "#### Firstly split the data into train and test"
   ]
  },
  {
   "cell_type": "code",
   "execution_count": 444,
   "metadata": {},
   "outputs": [],
   "source": [
    "x=df_scaling.drop(\"price\",axis=1)"
   ]
  },
  {
   "cell_type": "code",
   "execution_count": 445,
   "metadata": {},
   "outputs": [],
   "source": [
    "y=df_scaling[\"price\"]"
   ]
  },
  {
   "cell_type": "code",
   "execution_count": 446,
   "metadata": {},
   "outputs": [],
   "source": [
    "from sklearn.model_selection import train_test_split\n",
    "\n",
    "X_train,X_test,Y_train,Y_test=train_test_split(x,y,test_size=0.2,random_state=0)\n",
    "\n"
   ]
  },
  {
   "cell_type": "code",
   "execution_count": 447,
   "metadata": {},
   "outputs": [],
   "source": [
    "from sklearn.linear_model import LinearRegression\n",
    "\n",
    "lr=LinearRegression()\n",
    "\n",
    "lin_model=lr.fit(X_train,Y_train)"
   ]
  },
  {
   "cell_type": "code",
   "execution_count": 448,
   "metadata": {},
   "outputs": [
    {
     "data": {
      "text/plain": [
       "array([ 0.58405499, -0.02340714, -0.01444095, -0.02252218, -0.01783977,\n",
       "       -0.01530359, -0.02430244, -0.03554824, -0.03197593, -0.0069216 ,\n",
       "       -0.00506894,  0.00616842,  0.00383599, -0.01397651,  0.01860559,\n",
       "       -0.02832174, -0.12554436, -0.08030742,  0.24360634])"
      ]
     },
     "execution_count": 448,
     "metadata": {},
     "output_type": "execute_result"
    }
   ],
   "source": [
    "lin_model.coef_"
   ]
  },
  {
   "cell_type": "code",
   "execution_count": 449,
   "metadata": {},
   "outputs": [
    {
     "data": {
      "text/plain": [
       "-0.00042388418436139445"
      ]
     },
     "execution_count": 449,
     "metadata": {},
     "output_type": "execute_result"
    }
   ],
   "source": [
    "lin_model.intercept_"
   ]
  },
  {
   "cell_type": "markdown",
   "metadata": {},
   "source": [
    "# R^2 score "
   ]
  },
  {
   "cell_type": "markdown",
   "metadata": {
    "scrolled": true
   },
   "source": [
    "## -[]"
   ]
  },
  {
   "cell_type": "markdown",
   "metadata": {},
   "source": [
    "# TEST THE MODEL ON TESTING DATASET"
   ]
  },
  {
   "cell_type": "code",
   "execution_count": 451,
   "metadata": {},
   "outputs": [],
   "source": [
    "from sklearn.metrics import mean_squared_error\n",
    "\n"
   ]
  },
  {
   "cell_type": "code",
   "execution_count": 452,
   "metadata": {},
   "outputs": [],
   "source": [
    "Y_pred=lin_model.predict(X_test)\n",
    "\n"
   ]
  },
  {
   "cell_type": "code",
   "execution_count": 453,
   "metadata": {},
   "outputs": [
    {
     "data": {
      "text/plain": [
       "3184    -0.477558\n",
       "7549    -0.374495\n",
       "9089     0.366141\n",
       "2627     3.040951\n",
       "2456     2.209795\n",
       "           ...   \n",
       "7673    -0.208113\n",
       "463     -0.620064\n",
       "10821   -0.056993\n",
       "10078   -0.676582\n",
       "8967     1.227520\n",
       "Name: price, Length: 2347, dtype: float64"
      ]
     },
     "execution_count": 453,
     "metadata": {},
     "output_type": "execute_result"
    }
   ],
   "source": [
    "Y_test"
   ]
  },
  {
   "cell_type": "markdown",
   "metadata": {},
   "source": [
    "#### calculate MEAN SQUARED ERROR :- To evalaute whether predictions are correct or not"
   ]
  },
  {
   "cell_type": "code",
   "execution_count": 454,
   "metadata": {},
   "outputs": [
    {
     "name": "stdout",
     "output_type": "stream",
     "text": [
      "0.4831350419927809\n"
     ]
    }
   ],
   "source": [
    "print(mean_squared_error(Y_pred,Y_test))\n"
   ]
  },
  {
   "cell_type": "markdown",
   "metadata": {},
   "source": [
    "#### calculate ROOT MEAN SQUARED ERROR :- under root of mean squared error ( objective is to make it as close to zero)"
   ]
  },
  {
   "cell_type": "code",
   "execution_count": 455,
   "metadata": {},
   "outputs": [
    {
     "name": "stdout",
     "output_type": "stream",
     "text": [
      "0.6950791623928751\n"
     ]
    }
   ],
   "source": [
    "print(np.sqrt(mean_squared_error(Y_pred,Y_test)))\n",
    "\n"
   ]
  },
  {
   "cell_type": "code",
   "execution_count": 436,
   "metadata": {},
   "outputs": [
    {
     "data": {
      "text/plain": [
       "array([ 85.33263838,  91.47831473, 112.80829826, ..., 112.7289452 ,\n",
       "        83.81242864, 167.9683481 ])"
      ]
     },
     "execution_count": 436,
     "metadata": {},
     "output_type": "execute_result"
    }
   ],
   "source": [
    "Y_pred"
   ]
  },
  {
   "cell_type": "code",
   "execution_count": 437,
   "metadata": {},
   "outputs": [
    {
     "data": {
      "text/plain": [
       "3184      52.17\n",
       "7549      58.99\n",
       "9089     108.00\n",
       "2627     285.00\n",
       "2456     230.00\n",
       "          ...  \n",
       "7673      70.00\n",
       "463       42.74\n",
       "10821     80.00\n",
       "10078     39.00\n",
       "8967     165.00\n",
       "Name: price, Length: 2347, dtype: float64"
      ]
     },
     "execution_count": 437,
     "metadata": {},
     "output_type": "execute_result"
    }
   ],
   "source": [
    "Y_test"
   ]
  },
  {
   "cell_type": "code",
   "execution_count": null,
   "metadata": {},
   "outputs": [],
   "source": []
  },
  {
   "cell_type": "code",
   "execution_count": 434,
   "metadata": {},
   "outputs": [
    {
     "data": {
      "text/plain": [
       "<matplotlib.axes._subplots.AxesSubplot at 0x1bbf6183688>"
      ]
     },
     "execution_count": 434,
     "metadata": {},
     "output_type": "execute_result"
    },
    {
     "data": {
      "image/png": "[encoded data removed]",
      "text/plain": [
       "<Figure size 432x288 with 1 Axes>"
      ]
     },
     "metadata": {
      "needs_background": "light"
     },
     "output_type": "display_data"
    }
   ],
   "source": [
    "sns.regplot(Y_test,Y_pred)\n",
    "\n"
   ]
  },
  {
   "cell_type": "code",
   "execution_count": 251,
   "metadata": {},
   "outputs": [
    {
     "data": {
      "text/plain": [
       "<matplotlib.axes._subplots.AxesSubplot at 0x1bbf5d426c8>"
      ]
     },
     "execution_count": 251,
     "metadata": {},
     "output_type": "execute_result"
    },
    {
     "data": {
      "image/png": "[encoded data removed]",
      "text/plain": [
       "<Figure size 432x288 with 1 Axes>"
      ]
     },
     "metadata": {
      "needs_background": "light"
     },
     "output_type": "display_data"
    }
   ],
   "source": [
    "sns.distplot(Y_test-Y_pred)"
   ]
  },
  {
   "cell_type": "code",
   "execution_count": 252,
   "metadata": {},
   "outputs": [],
   "source": [
    "y_test=pd.DataFrame(Y_test)"
   ]
  },
  {
   "cell_type": "code",
   "execution_count": 253,
   "metadata": {},
   "outputs": [],
   "source": [
    "y_test.column=\"actual_value\""
   ]
  },
  {
   "cell_type": "code",
   "execution_count": 254,
   "metadata": {},
   "outputs": [],
   "source": [
    "y_test.reset_index(drop=True,inplace=True)"
   ]
  },
  {
   "cell_type": "code",
   "execution_count": 255,
   "metadata": {},
   "outputs": [
    {
     "data": {
      "text/html": [
       "<div>\n",
       "<style scoped>\n",
       "    .dataframe tbody tr th:only-of-type {\n",
       "        vertical-align: middle;\n",
       "    }\n",
       "\n",
       "    .dataframe tbody tr th {\n",
       "        vertical-align: top;\n",
       "    }\n",
       "\n",
       "    .dataframe thead th {\n",
       "        text-align: right;\n",
       "    }\n",
       "</style>\n",
       "<table border=\"1\" class=\"dataframe\">\n",
       "  <thead>\n",
       "    <tr style=\"text-align: right;\">\n",
       "      <th></th>\n",
       "      <th>price</th>\n",
       "    </tr>\n",
       "  </thead>\n",
       "  <tbody>\n",
       "    <tr>\n",
       "      <th>0</th>\n",
       "      <td>35.88</td>\n",
       "    </tr>\n",
       "    <tr>\n",
       "      <th>1</th>\n",
       "      <td>16.50</td>\n",
       "    </tr>\n",
       "    <tr>\n",
       "      <th>2</th>\n",
       "      <td>30.22</td>\n",
       "    </tr>\n",
       "    <tr>\n",
       "      <th>3</th>\n",
       "      <td>48.76</td>\n",
       "    </tr>\n",
       "    <tr>\n",
       "      <th>4</th>\n",
       "      <td>26.49</td>\n",
       "    </tr>\n",
       "    <tr>\n",
       "      <th>...</th>\n",
       "      <td>...</td>\n",
       "    </tr>\n",
       "    <tr>\n",
       "      <th>2184</th>\n",
       "      <td>55.68</td>\n",
       "    </tr>\n",
       "    <tr>\n",
       "      <th>2185</th>\n",
       "      <td>110.00</td>\n",
       "    </tr>\n",
       "    <tr>\n",
       "      <th>2186</th>\n",
       "      <td>37.00</td>\n",
       "    </tr>\n",
       "    <tr>\n",
       "      <th>2187</th>\n",
       "      <td>38.00</td>\n",
       "    </tr>\n",
       "    <tr>\n",
       "      <th>2188</th>\n",
       "      <td>45.00</td>\n",
       "    </tr>\n",
       "  </tbody>\n",
       "</table>\n",
       "<p>2189 rows × 1 columns</p>\n",
       "</div>"
      ],
      "text/plain": [
       "       price\n",
       "0      35.88\n",
       "1      16.50\n",
       "2      30.22\n",
       "3      48.76\n",
       "4      26.49\n",
       "...      ...\n",
       "2184   55.68\n",
       "2185  110.00\n",
       "2186   37.00\n",
       "2187   38.00\n",
       "2188   45.00\n",
       "\n",
       "[2189 rows x 1 columns]"
      ]
     },
     "execution_count": 255,
     "metadata": {},
     "output_type": "execute_result"
    }
   ],
   "source": [
    "y_test"
   ]
  },
  {
   "cell_type": "code",
   "execution_count": 256,
   "metadata": {
    "scrolled": true
   },
   "outputs": [
    {
     "data": {
      "text/plain": [
       "array([36.66497733, 14.63929102, 66.97810901, ..., 64.85684448,\n",
       "       37.44386332, 55.7299719 ])"
      ]
     },
     "execution_count": 256,
     "metadata": {},
     "output_type": "execute_result"
    }
   ],
   "source": [
    "Y_pred"
   ]
  },
  {
   "cell_type": "code",
   "execution_count": 257,
   "metadata": {},
   "outputs": [],
   "source": [
    "y_pred=pd.DataFrame(Y_pred)"
   ]
  },
  {
   "cell_type": "code",
   "execution_count": 258,
   "metadata": {},
   "outputs": [],
   "source": [
    "y_pred.column=[\"predicted_value\"]"
   ]
  },
  {
   "cell_type": "code",
   "execution_count": 259,
   "metadata": {},
   "outputs": [
    {
     "data": {
      "text/html": [
       "<div>\n",
       "<style scoped>\n",
       "    .dataframe tbody tr th:only-of-type {\n",
       "        vertical-align: middle;\n",
       "    }\n",
       "\n",
       "    .dataframe tbody tr th {\n",
       "        vertical-align: top;\n",
       "    }\n",
       "\n",
       "    .dataframe thead th {\n",
       "        text-align: right;\n",
       "    }\n",
       "</style>\n",
       "<table border=\"1\" class=\"dataframe\">\n",
       "  <thead>\n",
       "    <tr style=\"text-align: right;\">\n",
       "      <th></th>\n",
       "      <th>0</th>\n",
       "    </tr>\n",
       "  </thead>\n",
       "  <tbody>\n",
       "    <tr>\n",
       "      <th>0</th>\n",
       "      <td>36.664977</td>\n",
       "    </tr>\n",
       "    <tr>\n",
       "      <th>1</th>\n",
       "      <td>14.639291</td>\n",
       "    </tr>\n",
       "    <tr>\n",
       "      <th>2</th>\n",
       "      <td>66.978109</td>\n",
       "    </tr>\n",
       "    <tr>\n",
       "      <th>3</th>\n",
       "      <td>54.533471</td>\n",
       "    </tr>\n",
       "    <tr>\n",
       "      <th>4</th>\n",
       "      <td>58.440444</td>\n",
       "    </tr>\n",
       "    <tr>\n",
       "      <th>...</th>\n",
       "      <td>...</td>\n",
       "    </tr>\n",
       "    <tr>\n",
       "      <th>2184</th>\n",
       "      <td>40.493991</td>\n",
       "    </tr>\n",
       "    <tr>\n",
       "      <th>2185</th>\n",
       "      <td>78.391635</td>\n",
       "    </tr>\n",
       "    <tr>\n",
       "      <th>2186</th>\n",
       "      <td>64.856844</td>\n",
       "    </tr>\n",
       "    <tr>\n",
       "      <th>2187</th>\n",
       "      <td>37.443863</td>\n",
       "    </tr>\n",
       "    <tr>\n",
       "      <th>2188</th>\n",
       "      <td>55.729972</td>\n",
       "    </tr>\n",
       "  </tbody>\n",
       "</table>\n",
       "<p>2189 rows × 1 columns</p>\n",
       "</div>"
      ],
      "text/plain": [
       "              0\n",
       "0     36.664977\n",
       "1     14.639291\n",
       "2     66.978109\n",
       "3     54.533471\n",
       "4     58.440444\n",
       "...         ...\n",
       "2184  40.493991\n",
       "2185  78.391635\n",
       "2186  64.856844\n",
       "2187  37.443863\n",
       "2188  55.729972\n",
       "\n",
       "[2189 rows x 1 columns]"
      ]
     },
     "execution_count": 259,
     "metadata": {},
     "output_type": "execute_result"
    }
   ],
   "source": [
    "y_pred"
   ]
  },
  {
   "cell_type": "code",
   "execution_count": 260,
   "metadata": {},
   "outputs": [
    {
     "data": {
      "text/html": [
       "<div>\n",
       "<style scoped>\n",
       "    .dataframe tbody tr th:only-of-type {\n",
       "        vertical-align: middle;\n",
       "    }\n",
       "\n",
       "    .dataframe tbody tr th {\n",
       "        vertical-align: top;\n",
       "    }\n",
       "\n",
       "    .dataframe thead th {\n",
       "        text-align: right;\n",
       "    }\n",
       "</style>\n",
       "<table border=\"1\" class=\"dataframe\">\n",
       "  <thead>\n",
       "    <tr style=\"text-align: right;\">\n",
       "      <th></th>\n",
       "      <th>total_sqft</th>\n",
       "      <th>bhk</th>\n",
       "      <th>Whitefield</th>\n",
       "      <th>Sarjapur  Road</th>\n",
       "      <th>Electronic City</th>\n",
       "      <th>Kanakpura Road</th>\n",
       "      <th>Thanisandra</th>\n",
       "      <th>Yelahanka</th>\n",
       "      <th>Uttarahalli</th>\n",
       "      <th>Raja Rajeshwari Nagar</th>\n",
       "      <th>Marathahalli</th>\n",
       "      <th>Hennur Road</th>\n",
       "      <th>Super built-up  Area</th>\n",
       "      <th>Built-up  Area</th>\n",
       "      <th>Plot  Area</th>\n",
       "    </tr>\n",
       "  </thead>\n",
       "  <tbody>\n",
       "    <tr>\n",
       "      <th>6958</th>\n",
       "      <td>-0.688658</td>\n",
       "      <td>-0.624994</td>\n",
       "      <td>-0.201997</td>\n",
       "      <td>-0.173281</td>\n",
       "      <td>-0.167026</td>\n",
       "      <td>-0.15723</td>\n",
       "      <td>-0.143899</td>\n",
       "      <td>-0.131855</td>\n",
       "      <td>7.821518</td>\n",
       "      <td>-0.122198</td>\n",
       "      <td>-0.116688</td>\n",
       "      <td>-0.112597</td>\n",
       "      <td>0.616400</td>\n",
       "      <td>-0.463911</td>\n",
       "      <td>-0.317482</td>\n",
       "    </tr>\n",
       "    <tr>\n",
       "      <th>1180</th>\n",
       "      <td>-2.264627</td>\n",
       "      <td>-2.013686</td>\n",
       "      <td>-0.201997</td>\n",
       "      <td>-0.173281</td>\n",
       "      <td>-0.167026</td>\n",
       "      <td>-0.15723</td>\n",
       "      <td>-0.143899</td>\n",
       "      <td>-0.131855</td>\n",
       "      <td>-0.127852</td>\n",
       "      <td>-0.122198</td>\n",
       "      <td>-0.116688</td>\n",
       "      <td>-0.112597</td>\n",
       "      <td>0.616400</td>\n",
       "      <td>-0.463911</td>\n",
       "      <td>-0.317482</td>\n",
       "    </tr>\n",
       "    <tr>\n",
       "      <th>9419</th>\n",
       "      <td>-0.257624</td>\n",
       "      <td>0.763698</td>\n",
       "      <td>-0.201997</td>\n",
       "      <td>-0.173281</td>\n",
       "      <td>-0.167026</td>\n",
       "      <td>-0.15723</td>\n",
       "      <td>-0.143899</td>\n",
       "      <td>-0.131855</td>\n",
       "      <td>-0.127852</td>\n",
       "      <td>-0.122198</td>\n",
       "      <td>-0.116688</td>\n",
       "      <td>-0.112597</td>\n",
       "      <td>0.616400</td>\n",
       "      <td>-0.463911</td>\n",
       "      <td>-0.317482</td>\n",
       "    </tr>\n",
       "    <tr>\n",
       "      <th>10106</th>\n",
       "      <td>-0.443507</td>\n",
       "      <td>-0.624994</td>\n",
       "      <td>4.950572</td>\n",
       "      <td>-0.173281</td>\n",
       "      <td>-0.167026</td>\n",
       "      <td>-0.15723</td>\n",
       "      <td>-0.143899</td>\n",
       "      <td>-0.131855</td>\n",
       "      <td>-0.127852</td>\n",
       "      <td>-0.122198</td>\n",
       "      <td>-0.116688</td>\n",
       "      <td>-0.112597</td>\n",
       "      <td>0.616400</td>\n",
       "      <td>-0.463911</td>\n",
       "      <td>-0.317482</td>\n",
       "    </tr>\n",
       "    <tr>\n",
       "      <th>7306</th>\n",
       "      <td>-0.378852</td>\n",
       "      <td>-0.624994</td>\n",
       "      <td>-0.201997</td>\n",
       "      <td>-0.173281</td>\n",
       "      <td>-0.167026</td>\n",
       "      <td>-0.15723</td>\n",
       "      <td>-0.143899</td>\n",
       "      <td>-0.131855</td>\n",
       "      <td>-0.127852</td>\n",
       "      <td>-0.122198</td>\n",
       "      <td>-0.116688</td>\n",
       "      <td>-0.112597</td>\n",
       "      <td>0.616400</td>\n",
       "      <td>-0.463911</td>\n",
       "      <td>-0.317482</td>\n",
       "    </tr>\n",
       "    <tr>\n",
       "      <th>...</th>\n",
       "      <td>...</td>\n",
       "      <td>...</td>\n",
       "      <td>...</td>\n",
       "      <td>...</td>\n",
       "      <td>...</td>\n",
       "      <td>...</td>\n",
       "      <td>...</td>\n",
       "      <td>...</td>\n",
       "      <td>...</td>\n",
       "      <td>...</td>\n",
       "      <td>...</td>\n",
       "      <td>...</td>\n",
       "      <td>...</td>\n",
       "      <td>...</td>\n",
       "      <td>...</td>\n",
       "    </tr>\n",
       "    <tr>\n",
       "      <th>85</th>\n",
       "      <td>-1.343291</td>\n",
       "      <td>-0.624994</td>\n",
       "      <td>-0.201997</td>\n",
       "      <td>-0.173281</td>\n",
       "      <td>-0.167026</td>\n",
       "      <td>-0.15723</td>\n",
       "      <td>-0.143899</td>\n",
       "      <td>-0.131855</td>\n",
       "      <td>-0.127852</td>\n",
       "      <td>-0.122198</td>\n",
       "      <td>-0.116688</td>\n",
       "      <td>-0.112597</td>\n",
       "      <td>-1.622322</td>\n",
       "      <td>2.155584</td>\n",
       "      <td>-0.317482</td>\n",
       "    </tr>\n",
       "    <tr>\n",
       "      <th>2899</th>\n",
       "      <td>0.313496</td>\n",
       "      <td>0.763698</td>\n",
       "      <td>-0.201997</td>\n",
       "      <td>-0.173281</td>\n",
       "      <td>-0.167026</td>\n",
       "      <td>-0.15723</td>\n",
       "      <td>-0.143899</td>\n",
       "      <td>-0.131855</td>\n",
       "      <td>-0.127852</td>\n",
       "      <td>-0.122198</td>\n",
       "      <td>-0.116688</td>\n",
       "      <td>-0.112597</td>\n",
       "      <td>0.616400</td>\n",
       "      <td>-0.463911</td>\n",
       "      <td>-0.317482</td>\n",
       "    </tr>\n",
       "    <tr>\n",
       "      <th>10010</th>\n",
       "      <td>-0.203745</td>\n",
       "      <td>-0.624994</td>\n",
       "      <td>-0.201997</td>\n",
       "      <td>5.770968</td>\n",
       "      <td>-0.167026</td>\n",
       "      <td>-0.15723</td>\n",
       "      <td>-0.143899</td>\n",
       "      <td>-0.131855</td>\n",
       "      <td>-0.127852</td>\n",
       "      <td>-0.122198</td>\n",
       "      <td>-0.116688</td>\n",
       "      <td>-0.112597</td>\n",
       "      <td>0.616400</td>\n",
       "      <td>-0.463911</td>\n",
       "      <td>-0.317482</td>\n",
       "    </tr>\n",
       "    <tr>\n",
       "      <th>342</th>\n",
       "      <td>-1.429498</td>\n",
       "      <td>-0.624994</td>\n",
       "      <td>-0.201997</td>\n",
       "      <td>-0.173281</td>\n",
       "      <td>-0.167026</td>\n",
       "      <td>-0.15723</td>\n",
       "      <td>-0.143899</td>\n",
       "      <td>-0.131855</td>\n",
       "      <td>-0.127852</td>\n",
       "      <td>-0.122198</td>\n",
       "      <td>-0.116688</td>\n",
       "      <td>-0.112597</td>\n",
       "      <td>0.616400</td>\n",
       "      <td>-0.463911</td>\n",
       "      <td>-0.317482</td>\n",
       "    </tr>\n",
       "    <tr>\n",
       "      <th>9486</th>\n",
       "      <td>-0.580900</td>\n",
       "      <td>-0.624994</td>\n",
       "      <td>-0.201997</td>\n",
       "      <td>-0.173281</td>\n",
       "      <td>-0.167026</td>\n",
       "      <td>-0.15723</td>\n",
       "      <td>-0.143899</td>\n",
       "      <td>-0.131855</td>\n",
       "      <td>-0.127852</td>\n",
       "      <td>-0.122198</td>\n",
       "      <td>-0.116688</td>\n",
       "      <td>-0.112597</td>\n",
       "      <td>-1.622322</td>\n",
       "      <td>2.155584</td>\n",
       "      <td>-0.317482</td>\n",
       "    </tr>\n",
       "  </tbody>\n",
       "</table>\n",
       "<p>2189 rows × 15 columns</p>\n",
       "</div>"
      ],
      "text/plain": [
       "       total_sqft       bhk  Whitefield  Sarjapur  Road  Electronic City  \\\n",
       "6958    -0.688658 -0.624994   -0.201997       -0.173281        -0.167026   \n",
       "1180    -2.264627 -2.013686   -0.201997       -0.173281        -0.167026   \n",
       "9419    -0.257624  0.763698   -0.201997       -0.173281        -0.167026   \n",
       "10106   -0.443507 -0.624994    4.950572       -0.173281        -0.167026   \n",
       "7306    -0.378852 -0.624994   -0.201997       -0.173281        -0.167026   \n",
       "...           ...       ...         ...             ...              ...   \n",
       "85      -1.343291 -0.624994   -0.201997       -0.173281        -0.167026   \n",
       "2899     0.313496  0.763698   -0.201997       -0.173281        -0.167026   \n",
       "10010   -0.203745 -0.624994   -0.201997        5.770968        -0.167026   \n",
       "342     -1.429498 -0.624994   -0.201997       -0.173281        -0.167026   \n",
       "9486    -0.580900 -0.624994   -0.201997       -0.173281        -0.167026   \n",
       "\n",
       "       Kanakpura Road  Thanisandra  Yelahanka  Uttarahalli  \\\n",
       "6958         -0.15723    -0.143899  -0.131855     7.821518   \n",
       "1180         -0.15723    -0.143899  -0.131855    -0.127852   \n",
       "9419         -0.15723    -0.143899  -0.131855    -0.127852   \n",
       "10106        -0.15723    -0.143899  -0.131855    -0.127852   \n",
       "7306         -0.15723    -0.143899  -0.131855    -0.127852   \n",
       "...               ...          ...        ...          ...   \n",
       "85           -0.15723    -0.143899  -0.131855    -0.127852   \n",
       "2899         -0.15723    -0.143899  -0.131855    -0.127852   \n",
       "10010        -0.15723    -0.143899  -0.131855    -0.127852   \n",
       "342          -0.15723    -0.143899  -0.131855    -0.127852   \n",
       "9486         -0.15723    -0.143899  -0.131855    -0.127852   \n",
       "\n",
       "       Raja Rajeshwari Nagar  Marathahalli  Hennur Road  Super built-up  Area  \\\n",
       "6958               -0.122198     -0.116688    -0.112597              0.616400   \n",
       "1180               -0.122198     -0.116688    -0.112597              0.616400   \n",
       "9419               -0.122198     -0.116688    -0.112597              0.616400   \n",
       "10106              -0.122198     -0.116688    -0.112597              0.616400   \n",
       "7306               -0.122198     -0.116688    -0.112597              0.616400   \n",
       "...                      ...           ...          ...                   ...   \n",
       "85                 -0.122198     -0.116688    -0.112597             -1.622322   \n",
       "2899               -0.122198     -0.116688    -0.112597              0.616400   \n",
       "10010              -0.122198     -0.116688    -0.112597              0.616400   \n",
       "342                -0.122198     -0.116688    -0.112597              0.616400   \n",
       "9486               -0.122198     -0.116688    -0.112597             -1.622322   \n",
       "\n",
       "       Built-up  Area  Plot  Area  \n",
       "6958        -0.463911   -0.317482  \n",
       "1180        -0.463911   -0.317482  \n",
       "9419        -0.463911   -0.317482  \n",
       "10106       -0.463911   -0.317482  \n",
       "7306        -0.463911   -0.317482  \n",
       "...               ...         ...  \n",
       "85           2.155584   -0.317482  \n",
       "2899        -0.463911   -0.317482  \n",
       "10010       -0.463911   -0.317482  \n",
       "342         -0.463911   -0.317482  \n",
       "9486         2.155584   -0.317482  \n",
       "\n",
       "[2189 rows x 15 columns]"
      ]
     },
     "execution_count": 260,
     "metadata": {},
     "output_type": "execute_result"
    }
   ],
   "source": [
    "X_test"
   ]
  },
  {
   "cell_type": "code",
   "execution_count": 261,
   "metadata": {
    "scrolled": true
   },
   "outputs": [],
   "source": [
    "w=pd.concat([y_test,y_pred],axis=1)"
   ]
  },
  {
   "cell_type": "code",
   "execution_count": 262,
   "metadata": {},
   "outputs": [],
   "source": [
    "w.columns=[\"actual_price\",\"predicted price\"]"
   ]
  },
  {
   "cell_type": "code",
   "execution_count": 263,
   "metadata": {},
   "outputs": [
    {
     "data": {
      "text/html": [
       "<div>\n",
       "<style scoped>\n",
       "    .dataframe tbody tr th:only-of-type {\n",
       "        vertical-align: middle;\n",
       "    }\n",
       "\n",
       "    .dataframe tbody tr th {\n",
       "        vertical-align: top;\n",
       "    }\n",
       "\n",
       "    .dataframe thead th {\n",
       "        text-align: right;\n",
       "    }\n",
       "</style>\n",
       "<table border=\"1\" class=\"dataframe\">\n",
       "  <thead>\n",
       "    <tr style=\"text-align: right;\">\n",
       "      <th></th>\n",
       "      <th>actual_price</th>\n",
       "      <th>predicted price</th>\n",
       "    </tr>\n",
       "  </thead>\n",
       "  <tbody>\n",
       "    <tr>\n",
       "      <th>0</th>\n",
       "      <td>35.88</td>\n",
       "      <td>36.664977</td>\n",
       "    </tr>\n",
       "    <tr>\n",
       "      <th>1</th>\n",
       "      <td>16.50</td>\n",
       "      <td>14.639291</td>\n",
       "    </tr>\n",
       "    <tr>\n",
       "      <th>2</th>\n",
       "      <td>30.22</td>\n",
       "      <td>66.978109</td>\n",
       "    </tr>\n",
       "    <tr>\n",
       "      <th>3</th>\n",
       "      <td>48.76</td>\n",
       "      <td>54.533471</td>\n",
       "    </tr>\n",
       "    <tr>\n",
       "      <th>4</th>\n",
       "      <td>26.49</td>\n",
       "      <td>58.440444</td>\n",
       "    </tr>\n",
       "    <tr>\n",
       "      <th>...</th>\n",
       "      <td>...</td>\n",
       "      <td>...</td>\n",
       "    </tr>\n",
       "    <tr>\n",
       "      <th>2184</th>\n",
       "      <td>55.68</td>\n",
       "      <td>40.493991</td>\n",
       "    </tr>\n",
       "    <tr>\n",
       "      <th>2185</th>\n",
       "      <td>110.00</td>\n",
       "      <td>78.391635</td>\n",
       "    </tr>\n",
       "    <tr>\n",
       "      <th>2186</th>\n",
       "      <td>37.00</td>\n",
       "      <td>64.856844</td>\n",
       "    </tr>\n",
       "    <tr>\n",
       "      <th>2187</th>\n",
       "      <td>38.00</td>\n",
       "      <td>37.443863</td>\n",
       "    </tr>\n",
       "    <tr>\n",
       "      <th>2188</th>\n",
       "      <td>45.00</td>\n",
       "      <td>55.729972</td>\n",
       "    </tr>\n",
       "  </tbody>\n",
       "</table>\n",
       "<p>2189 rows × 2 columns</p>\n",
       "</div>"
      ],
      "text/plain": [
       "      actual_price  predicted price\n",
       "0            35.88        36.664977\n",
       "1            16.50        14.639291\n",
       "2            30.22        66.978109\n",
       "3            48.76        54.533471\n",
       "4            26.49        58.440444\n",
       "...            ...              ...\n",
       "2184         55.68        40.493991\n",
       "2185        110.00        78.391635\n",
       "2186         37.00        64.856844\n",
       "2187         38.00        37.443863\n",
       "2188         45.00        55.729972\n",
       "\n",
       "[2189 rows x 2 columns]"
      ]
     },
     "execution_count": 263,
     "metadata": {},
     "output_type": "execute_result"
    }
   ],
   "source": [
    "w"
   ]
  },
  {
   "cell_type": "code",
   "execution_count": null,
   "metadata": {},
   "outputs": [],
   "source": []
  }
 ],
 "metadata": {
  "kernelspec": {
   "display_name": "Python 3 (ipykernel)",
   "language": "python",
   "name": "python3"
  },
  "language_info": {
   "codemirror_mode": {
    "name": "ipython",
    "version": 3
   },
   "file_extension": ".py",
   "mimetype": "text/x-python",
   "name": "python",
   "nbconvert_exporter": "python",
   "pygments_lexer": "ipython3",
   "version": "3.9.13"
  }
 },
 "nbformat": 4,
 "nbformat_minor": 4
}
